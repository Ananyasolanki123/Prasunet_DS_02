{
  "cells": [
    {
      "cell_type": "code",
      "execution_count": 1,
      "metadata": {
        "id": "WuTadS_ZCJao"
      },
      "outputs": [],
      "source": [
        "#take a dataset\n",
        "import pandas as pd\n",
        "import matplotlib.pyplot as plt\n",
        "import numpy as np\n",
        "import seaborn as sns\n",
        "from scipy import stats\n",
        "from sklearn.preprocessing import PowerTransformer\n",
        "\n",
        "\n",
        "\n",
        "\n",
        "\n"
      ]
    },
    {
      "cell_type": "code",
      "execution_count": 2,
      "metadata": {
        "id": "cVtBI-KEuxs0"
      },
      "outputs": [],
      "source": [
        "dataset2=pd.read_csv('/content/BTC-2018min.csv')"
      ]
    },
    {
      "cell_type": "code",
      "execution_count": 3,
      "metadata": {
        "id": "lmYRvaLMuxTk"
      },
      "outputs": [],
      "source": [
        "dataset3=pd.read_csv('/content/BTC-2019min.csv')"
      ]
    },
    {
      "cell_type": "code",
      "execution_count": 4,
      "metadata": {
        "id": "FfpnWwpyuw71"
      },
      "outputs": [],
      "source": [
        "dataset4=pd.read_csv('/content/BTC-2020min.csv')"
      ]
    },
    {
      "cell_type": "code",
      "execution_count": 5,
      "metadata": {
        "id": "BH3IBbA9uwtO"
      },
      "outputs": [],
      "source": [
        "dataset5=pd.read_csv('/content/BTC-2021min.csv')"
      ]
    },
    {
      "cell_type": "code",
      "execution_count": 6,
      "metadata": {
        "id": "DnmgbTMKuwcF"
      },
      "outputs": [],
      "source": [
        "dataset6=pd.read_csv('/content/BTC-Hourly.csv')"
      ]
    },
    {
      "cell_type": "code",
      "execution_count": 7,
      "metadata": {
        "id": "Wrmqi_TsvZB-"
      },
      "outputs": [],
      "source": [
        "btc_ustd_df=pd.concat([dataset2,dataset3,dataset4,dataset5,dataset6])\n",
        "btc_usdt_data=btc_ustd_df.sort_values(by='date')"
      ]
    },
    {
      "cell_type": "code",
      "execution_count": 8,
      "metadata": {
        "id": "K7sakCeq1EHT"
      },
      "outputs": [],
      "source": [
        "df_cleaned=btc_usdt_data"
      ]
    },
    {
      "cell_type": "code",
      "execution_count": 9,
      "metadata": {
        "id": "hqFfJZdC0T2q",
        "colab": {
          "base_uri": "https://localhost:8080/"
        },
        "outputId": "ae252a2a-2270-49d8-9e90-ceded499f2ad"
      },
      "outputs": [
        {
          "output_type": "execute_result",
          "data": {
            "text/plain": [
              "unix          0\n",
              "date          0\n",
              "symbol        0\n",
              "open          0\n",
              "high          1\n",
              "low           1\n",
              "close         2\n",
              "Volume BTC    2\n",
              "Volume USD    3\n",
              "dtype: int64"
            ]
          },
          "metadata": {},
          "execution_count": 9
        }
      ],
      "source": [
        "df_cleaned.isnull().sum()\n"
      ]
    },
    {
      "cell_type": "code",
      "execution_count": 10,
      "metadata": {
        "id": "8gwIZ70a5DVv"
      },
      "outputs": [],
      "source": [
        "df_cleaned.dropna(inplace=True)  # Drops rows with any null values directly in 'df'"
      ]
    },
    {
      "cell_type": "code",
      "execution_count": 11,
      "metadata": {
        "id": "biJ1Z4zumxKD",
        "colab": {
          "base_uri": "https://localhost:8080/",
          "height": 423
        },
        "outputId": "12a1e194-e689-48d4-8dad-d8e0d2caf8ba"
      },
      "outputs": [
        {
          "output_type": "execute_result",
          "data": {
            "text/plain": [
              "             unix                 date   symbol      open      high       low  \\\n",
              "33258  1526364000  2018-05-15 06:00:00  BTC/USD   8733.86   8796.68   8707.28   \n",
              "33257  1526367600  2018-05-15 07:00:00  BTC/USD   8740.99   8766.00   8721.11   \n",
              "33256  1526371200  2018-05-15 08:00:00  BTC/USD   8739.00   8750.27   8660.53   \n",
              "33255  1526374800  2018-05-15 09:00:00  BTC/USD   8728.49   8754.40   8701.35   \n",
              "33254  1526378400  2018-05-15 10:00:00  BTC/USD   8708.32   8865.00   8695.11   \n",
              "...           ...                  ...      ...       ...       ...       ...   \n",
              "4      1646105880  2022-03-01 03:38:00  BTC/USD  43077.82  43077.82  43049.46   \n",
              "3      1646105940  2022-03-01 03:39:00  BTC/USD  43035.16  43035.16  42999.44   \n",
              "2      1646106000  2022-03-01 03:40:00  BTC/USD  43022.24  43022.24  43016.03   \n",
              "1      1646106060  2022-03-01 03:41:00  BTC/USD  43018.23  43046.59  43018.23   \n",
              "0      1646106180  2022-03-01 03:43:00  BTC/USD  43046.58  43046.58  43046.58   \n",
              "\n",
              "          close    Volume BTC    Volume USD  \n",
              "33258   8740.99  4.906603e+06    559.930000  \n",
              "33257   8739.00  2.390399e+06    273.580000  \n",
              "33256   8728.49  7.986063e+06    917.790000  \n",
              "33255   8708.32  1.593992e+06    182.620000  \n",
              "33254   8795.90  1.110127e+07   1260.690000  \n",
              "...         ...           ...           ...  \n",
              "4      43049.46  2.221034e-02    956.143143  \n",
              "3      42999.44  8.209500e-01  35300.390268  \n",
              "2      43016.03  9.230000e-03    397.037957  \n",
              "1      43046.58  1.429770e-01   6154.673021  \n",
              "0      43046.58  0.000000e+00      0.000000  \n",
              "\n",
              "[557110 rows x 9 columns]"
            ],
            "text/html": [
              "\n",
              "  <div id=\"df-8a9b12ea-ff3c-45f6-8a37-e43a3b21fac4\" class=\"colab-df-container\">\n",
              "    <div>\n",
              "<style scoped>\n",
              "    .dataframe tbody tr th:only-of-type {\n",
              "        vertical-align: middle;\n",
              "    }\n",
              "\n",
              "    .dataframe tbody tr th {\n",
              "        vertical-align: top;\n",
              "    }\n",
              "\n",
              "    .dataframe thead th {\n",
              "        text-align: right;\n",
              "    }\n",
              "</style>\n",
              "<table border=\"1\" class=\"dataframe\">\n",
              "  <thead>\n",
              "    <tr style=\"text-align: right;\">\n",
              "      <th></th>\n",
              "      <th>unix</th>\n",
              "      <th>date</th>\n",
              "      <th>symbol</th>\n",
              "      <th>open</th>\n",
              "      <th>high</th>\n",
              "      <th>low</th>\n",
              "      <th>close</th>\n",
              "      <th>Volume BTC</th>\n",
              "      <th>Volume USD</th>\n",
              "    </tr>\n",
              "  </thead>\n",
              "  <tbody>\n",
              "    <tr>\n",
              "      <th>33258</th>\n",
              "      <td>1526364000</td>\n",
              "      <td>2018-05-15 06:00:00</td>\n",
              "      <td>BTC/USD</td>\n",
              "      <td>8733.86</td>\n",
              "      <td>8796.68</td>\n",
              "      <td>8707.28</td>\n",
              "      <td>8740.99</td>\n",
              "      <td>4.906603e+06</td>\n",
              "      <td>559.930000</td>\n",
              "    </tr>\n",
              "    <tr>\n",
              "      <th>33257</th>\n",
              "      <td>1526367600</td>\n",
              "      <td>2018-05-15 07:00:00</td>\n",
              "      <td>BTC/USD</td>\n",
              "      <td>8740.99</td>\n",
              "      <td>8766.00</td>\n",
              "      <td>8721.11</td>\n",
              "      <td>8739.00</td>\n",
              "      <td>2.390399e+06</td>\n",
              "      <td>273.580000</td>\n",
              "    </tr>\n",
              "    <tr>\n",
              "      <th>33256</th>\n",
              "      <td>1526371200</td>\n",
              "      <td>2018-05-15 08:00:00</td>\n",
              "      <td>BTC/USD</td>\n",
              "      <td>8739.00</td>\n",
              "      <td>8750.27</td>\n",
              "      <td>8660.53</td>\n",
              "      <td>8728.49</td>\n",
              "      <td>7.986063e+06</td>\n",
              "      <td>917.790000</td>\n",
              "    </tr>\n",
              "    <tr>\n",
              "      <th>33255</th>\n",
              "      <td>1526374800</td>\n",
              "      <td>2018-05-15 09:00:00</td>\n",
              "      <td>BTC/USD</td>\n",
              "      <td>8728.49</td>\n",
              "      <td>8754.40</td>\n",
              "      <td>8701.35</td>\n",
              "      <td>8708.32</td>\n",
              "      <td>1.593992e+06</td>\n",
              "      <td>182.620000</td>\n",
              "    </tr>\n",
              "    <tr>\n",
              "      <th>33254</th>\n",
              "      <td>1526378400</td>\n",
              "      <td>2018-05-15 10:00:00</td>\n",
              "      <td>BTC/USD</td>\n",
              "      <td>8708.32</td>\n",
              "      <td>8865.00</td>\n",
              "      <td>8695.11</td>\n",
              "      <td>8795.90</td>\n",
              "      <td>1.110127e+07</td>\n",
              "      <td>1260.690000</td>\n",
              "    </tr>\n",
              "    <tr>\n",
              "      <th>...</th>\n",
              "      <td>...</td>\n",
              "      <td>...</td>\n",
              "      <td>...</td>\n",
              "      <td>...</td>\n",
              "      <td>...</td>\n",
              "      <td>...</td>\n",
              "      <td>...</td>\n",
              "      <td>...</td>\n",
              "      <td>...</td>\n",
              "    </tr>\n",
              "    <tr>\n",
              "      <th>4</th>\n",
              "      <td>1646105880</td>\n",
              "      <td>2022-03-01 03:38:00</td>\n",
              "      <td>BTC/USD</td>\n",
              "      <td>43077.82</td>\n",
              "      <td>43077.82</td>\n",
              "      <td>43049.46</td>\n",
              "      <td>43049.46</td>\n",
              "      <td>2.221034e-02</td>\n",
              "      <td>956.143143</td>\n",
              "    </tr>\n",
              "    <tr>\n",
              "      <th>3</th>\n",
              "      <td>1646105940</td>\n",
              "      <td>2022-03-01 03:39:00</td>\n",
              "      <td>BTC/USD</td>\n",
              "      <td>43035.16</td>\n",
              "      <td>43035.16</td>\n",
              "      <td>42999.44</td>\n",
              "      <td>42999.44</td>\n",
              "      <td>8.209500e-01</td>\n",
              "      <td>35300.390268</td>\n",
              "    </tr>\n",
              "    <tr>\n",
              "      <th>2</th>\n",
              "      <td>1646106000</td>\n",
              "      <td>2022-03-01 03:40:00</td>\n",
              "      <td>BTC/USD</td>\n",
              "      <td>43022.24</td>\n",
              "      <td>43022.24</td>\n",
              "      <td>43016.03</td>\n",
              "      <td>43016.03</td>\n",
              "      <td>9.230000e-03</td>\n",
              "      <td>397.037957</td>\n",
              "    </tr>\n",
              "    <tr>\n",
              "      <th>1</th>\n",
              "      <td>1646106060</td>\n",
              "      <td>2022-03-01 03:41:00</td>\n",
              "      <td>BTC/USD</td>\n",
              "      <td>43018.23</td>\n",
              "      <td>43046.59</td>\n",
              "      <td>43018.23</td>\n",
              "      <td>43046.58</td>\n",
              "      <td>1.429770e-01</td>\n",
              "      <td>6154.673021</td>\n",
              "    </tr>\n",
              "    <tr>\n",
              "      <th>0</th>\n",
              "      <td>1646106180</td>\n",
              "      <td>2022-03-01 03:43:00</td>\n",
              "      <td>BTC/USD</td>\n",
              "      <td>43046.58</td>\n",
              "      <td>43046.58</td>\n",
              "      <td>43046.58</td>\n",
              "      <td>43046.58</td>\n",
              "      <td>0.000000e+00</td>\n",
              "      <td>0.000000</td>\n",
              "    </tr>\n",
              "  </tbody>\n",
              "</table>\n",
              "<p>557110 rows × 9 columns</p>\n",
              "</div>\n",
              "    <div class=\"colab-df-buttons\">\n",
              "\n",
              "  <div class=\"colab-df-container\">\n",
              "    <button class=\"colab-df-convert\" onclick=\"convertToInteractive('df-8a9b12ea-ff3c-45f6-8a37-e43a3b21fac4')\"\n",
              "            title=\"Convert this dataframe to an interactive table.\"\n",
              "            style=\"display:none;\">\n",
              "\n",
              "  <svg xmlns=\"http://www.w3.org/2000/svg\" height=\"24px\" viewBox=\"0 -960 960 960\">\n",
              "    <path d=\"M120-120v-720h720v720H120Zm60-500h600v-160H180v160Zm220 220h160v-160H400v160Zm0 220h160v-160H400v160ZM180-400h160v-160H180v160Zm440 0h160v-160H620v160ZM180-180h160v-160H180v160Zm440 0h160v-160H620v160Z\"/>\n",
              "  </svg>\n",
              "    </button>\n",
              "\n",
              "  <style>\n",
              "    .colab-df-container {\n",
              "      display:flex;\n",
              "      gap: 12px;\n",
              "    }\n",
              "\n",
              "    .colab-df-convert {\n",
              "      background-color: #E8F0FE;\n",
              "      border: none;\n",
              "      border-radius: 50%;\n",
              "      cursor: pointer;\n",
              "      display: none;\n",
              "      fill: #1967D2;\n",
              "      height: 32px;\n",
              "      padding: 0 0 0 0;\n",
              "      width: 32px;\n",
              "    }\n",
              "\n",
              "    .colab-df-convert:hover {\n",
              "      background-color: #E2EBFA;\n",
              "      box-shadow: 0px 1px 2px rgba(60, 64, 67, 0.3), 0px 1px 3px 1px rgba(60, 64, 67, 0.15);\n",
              "      fill: #174EA6;\n",
              "    }\n",
              "\n",
              "    .colab-df-buttons div {\n",
              "      margin-bottom: 4px;\n",
              "    }\n",
              "\n",
              "    [theme=dark] .colab-df-convert {\n",
              "      background-color: #3B4455;\n",
              "      fill: #D2E3FC;\n",
              "    }\n",
              "\n",
              "    [theme=dark] .colab-df-convert:hover {\n",
              "      background-color: #434B5C;\n",
              "      box-shadow: 0px 1px 3px 1px rgba(0, 0, 0, 0.15);\n",
              "      filter: drop-shadow(0px 1px 2px rgba(0, 0, 0, 0.3));\n",
              "      fill: #FFFFFF;\n",
              "    }\n",
              "  </style>\n",
              "\n",
              "    <script>\n",
              "      const buttonEl =\n",
              "        document.querySelector('#df-8a9b12ea-ff3c-45f6-8a37-e43a3b21fac4 button.colab-df-convert');\n",
              "      buttonEl.style.display =\n",
              "        google.colab.kernel.accessAllowed ? 'block' : 'none';\n",
              "\n",
              "      async function convertToInteractive(key) {\n",
              "        const element = document.querySelector('#df-8a9b12ea-ff3c-45f6-8a37-e43a3b21fac4');\n",
              "        const dataTable =\n",
              "          await google.colab.kernel.invokeFunction('convertToInteractive',\n",
              "                                                    [key], {});\n",
              "        if (!dataTable) return;\n",
              "\n",
              "        const docLinkHtml = 'Like what you see? Visit the ' +\n",
              "          '<a target=\"_blank\" href=https://colab.research.google.com/notebooks/data_table.ipynb>data table notebook</a>'\n",
              "          + ' to learn more about interactive tables.';\n",
              "        element.innerHTML = '';\n",
              "        dataTable['output_type'] = 'display_data';\n",
              "        await google.colab.output.renderOutput(dataTable, element);\n",
              "        const docLink = document.createElement('div');\n",
              "        docLink.innerHTML = docLinkHtml;\n",
              "        element.appendChild(docLink);\n",
              "      }\n",
              "    </script>\n",
              "  </div>\n",
              "\n",
              "\n",
              "<div id=\"df-d0480de6-8313-4c16-b7cb-11e57c464e0e\">\n",
              "  <button class=\"colab-df-quickchart\" onclick=\"quickchart('df-d0480de6-8313-4c16-b7cb-11e57c464e0e')\"\n",
              "            title=\"Suggest charts\"\n",
              "            style=\"display:none;\">\n",
              "\n",
              "<svg xmlns=\"http://www.w3.org/2000/svg\" height=\"24px\"viewBox=\"0 0 24 24\"\n",
              "     width=\"24px\">\n",
              "    <g>\n",
              "        <path d=\"M19 3H5c-1.1 0-2 .9-2 2v14c0 1.1.9 2 2 2h14c1.1 0 2-.9 2-2V5c0-1.1-.9-2-2-2zM9 17H7v-7h2v7zm4 0h-2V7h2v10zm4 0h-2v-4h2v4z\"/>\n",
              "    </g>\n",
              "</svg>\n",
              "  </button>\n",
              "\n",
              "<style>\n",
              "  .colab-df-quickchart {\n",
              "      --bg-color: #E8F0FE;\n",
              "      --fill-color: #1967D2;\n",
              "      --hover-bg-color: #E2EBFA;\n",
              "      --hover-fill-color: #174EA6;\n",
              "      --disabled-fill-color: #AAA;\n",
              "      --disabled-bg-color: #DDD;\n",
              "  }\n",
              "\n",
              "  [theme=dark] .colab-df-quickchart {\n",
              "      --bg-color: #3B4455;\n",
              "      --fill-color: #D2E3FC;\n",
              "      --hover-bg-color: #434B5C;\n",
              "      --hover-fill-color: #FFFFFF;\n",
              "      --disabled-bg-color: #3B4455;\n",
              "      --disabled-fill-color: #666;\n",
              "  }\n",
              "\n",
              "  .colab-df-quickchart {\n",
              "    background-color: var(--bg-color);\n",
              "    border: none;\n",
              "    border-radius: 50%;\n",
              "    cursor: pointer;\n",
              "    display: none;\n",
              "    fill: var(--fill-color);\n",
              "    height: 32px;\n",
              "    padding: 0;\n",
              "    width: 32px;\n",
              "  }\n",
              "\n",
              "  .colab-df-quickchart:hover {\n",
              "    background-color: var(--hover-bg-color);\n",
              "    box-shadow: 0 1px 2px rgba(60, 64, 67, 0.3), 0 1px 3px 1px rgba(60, 64, 67, 0.15);\n",
              "    fill: var(--button-hover-fill-color);\n",
              "  }\n",
              "\n",
              "  .colab-df-quickchart-complete:disabled,\n",
              "  .colab-df-quickchart-complete:disabled:hover {\n",
              "    background-color: var(--disabled-bg-color);\n",
              "    fill: var(--disabled-fill-color);\n",
              "    box-shadow: none;\n",
              "  }\n",
              "\n",
              "  .colab-df-spinner {\n",
              "    border: 2px solid var(--fill-color);\n",
              "    border-color: transparent;\n",
              "    border-bottom-color: var(--fill-color);\n",
              "    animation:\n",
              "      spin 1s steps(1) infinite;\n",
              "  }\n",
              "\n",
              "  @keyframes spin {\n",
              "    0% {\n",
              "      border-color: transparent;\n",
              "      border-bottom-color: var(--fill-color);\n",
              "      border-left-color: var(--fill-color);\n",
              "    }\n",
              "    20% {\n",
              "      border-color: transparent;\n",
              "      border-left-color: var(--fill-color);\n",
              "      border-top-color: var(--fill-color);\n",
              "    }\n",
              "    30% {\n",
              "      border-color: transparent;\n",
              "      border-left-color: var(--fill-color);\n",
              "      border-top-color: var(--fill-color);\n",
              "      border-right-color: var(--fill-color);\n",
              "    }\n",
              "    40% {\n",
              "      border-color: transparent;\n",
              "      border-right-color: var(--fill-color);\n",
              "      border-top-color: var(--fill-color);\n",
              "    }\n",
              "    60% {\n",
              "      border-color: transparent;\n",
              "      border-right-color: var(--fill-color);\n",
              "    }\n",
              "    80% {\n",
              "      border-color: transparent;\n",
              "      border-right-color: var(--fill-color);\n",
              "      border-bottom-color: var(--fill-color);\n",
              "    }\n",
              "    90% {\n",
              "      border-color: transparent;\n",
              "      border-bottom-color: var(--fill-color);\n",
              "    }\n",
              "  }\n",
              "</style>\n",
              "\n",
              "  <script>\n",
              "    async function quickchart(key) {\n",
              "      const quickchartButtonEl =\n",
              "        document.querySelector('#' + key + ' button');\n",
              "      quickchartButtonEl.disabled = true;  // To prevent multiple clicks.\n",
              "      quickchartButtonEl.classList.add('colab-df-spinner');\n",
              "      try {\n",
              "        const charts = await google.colab.kernel.invokeFunction(\n",
              "            'suggestCharts', [key], {});\n",
              "      } catch (error) {\n",
              "        console.error('Error during call to suggestCharts:', error);\n",
              "      }\n",
              "      quickchartButtonEl.classList.remove('colab-df-spinner');\n",
              "      quickchartButtonEl.classList.add('colab-df-quickchart-complete');\n",
              "    }\n",
              "    (() => {\n",
              "      let quickchartButtonEl =\n",
              "        document.querySelector('#df-d0480de6-8313-4c16-b7cb-11e57c464e0e button');\n",
              "      quickchartButtonEl.style.display =\n",
              "        google.colab.kernel.accessAllowed ? 'block' : 'none';\n",
              "    })();\n",
              "  </script>\n",
              "</div>\n",
              "\n",
              "  <div id=\"id_e09953c9-2a46-4b0e-889d-8c7aa9d4aad9\">\n",
              "    <style>\n",
              "      .colab-df-generate {\n",
              "        background-color: #E8F0FE;\n",
              "        border: none;\n",
              "        border-radius: 50%;\n",
              "        cursor: pointer;\n",
              "        display: none;\n",
              "        fill: #1967D2;\n",
              "        height: 32px;\n",
              "        padding: 0 0 0 0;\n",
              "        width: 32px;\n",
              "      }\n",
              "\n",
              "      .colab-df-generate:hover {\n",
              "        background-color: #E2EBFA;\n",
              "        box-shadow: 0px 1px 2px rgba(60, 64, 67, 0.3), 0px 1px 3px 1px rgba(60, 64, 67, 0.15);\n",
              "        fill: #174EA6;\n",
              "      }\n",
              "\n",
              "      [theme=dark] .colab-df-generate {\n",
              "        background-color: #3B4455;\n",
              "        fill: #D2E3FC;\n",
              "      }\n",
              "\n",
              "      [theme=dark] .colab-df-generate:hover {\n",
              "        background-color: #434B5C;\n",
              "        box-shadow: 0px 1px 3px 1px rgba(0, 0, 0, 0.15);\n",
              "        filter: drop-shadow(0px 1px 2px rgba(0, 0, 0, 0.3));\n",
              "        fill: #FFFFFF;\n",
              "      }\n",
              "    </style>\n",
              "    <button class=\"colab-df-generate\" onclick=\"generateWithVariable('btc_usdt_data')\"\n",
              "            title=\"Generate code using this dataframe.\"\n",
              "            style=\"display:none;\">\n",
              "\n",
              "  <svg xmlns=\"http://www.w3.org/2000/svg\" height=\"24px\"viewBox=\"0 0 24 24\"\n",
              "       width=\"24px\">\n",
              "    <path d=\"M7,19H8.4L18.45,9,17,7.55,7,17.6ZM5,21V16.75L18.45,3.32a2,2,0,0,1,2.83,0l1.4,1.43a1.91,1.91,0,0,1,.58,1.4,1.91,1.91,0,0,1-.58,1.4L9.25,21ZM18.45,9,17,7.55Zm-12,3A5.31,5.31,0,0,0,4.9,8.1,5.31,5.31,0,0,0,1,6.5,5.31,5.31,0,0,0,4.9,4.9,5.31,5.31,0,0,0,6.5,1,5.31,5.31,0,0,0,8.1,4.9,5.31,5.31,0,0,0,12,6.5,5.46,5.46,0,0,0,6.5,12Z\"/>\n",
              "  </svg>\n",
              "    </button>\n",
              "    <script>\n",
              "      (() => {\n",
              "      const buttonEl =\n",
              "        document.querySelector('#id_e09953c9-2a46-4b0e-889d-8c7aa9d4aad9 button.colab-df-generate');\n",
              "      buttonEl.style.display =\n",
              "        google.colab.kernel.accessAllowed ? 'block' : 'none';\n",
              "\n",
              "      buttonEl.onclick = () => {\n",
              "        google.colab.notebook.generateWithVariable('btc_usdt_data');\n",
              "      }\n",
              "      })();\n",
              "    </script>\n",
              "  </div>\n",
              "\n",
              "    </div>\n",
              "  </div>\n"
            ],
            "application/vnd.google.colaboratory.intrinsic+json": {
              "type": "dataframe",
              "variable_name": "btc_usdt_data"
            }
          },
          "metadata": {},
          "execution_count": 11
        }
      ],
      "source": [
        "df_cleaned\n"
      ]
    },
    {
      "cell_type": "code",
      "execution_count": 12,
      "metadata": {
        "id": "zT8-FCkQYef9",
        "colab": {
          "base_uri": "https://localhost:8080/"
        },
        "outputId": "7672c852-fd75-4095-9840-cccc3bfdc73e"
      },
      "outputs": [
        {
          "output_type": "execute_result",
          "data": {
            "text/plain": [
              "1"
            ]
          },
          "metadata": {},
          "execution_count": 12
        }
      ],
      "source": [
        "df_cleaned.duplicated().sum()"
      ]
    },
    {
      "cell_type": "code",
      "execution_count": 13,
      "metadata": {
        "id": "6d7dWtDrywDH"
      },
      "outputs": [],
      "source": [
        "df_cleaned1=df_cleaned.drop_duplicates(subset=['date','symbol','open','high','low','close','Volume BTC','Volume USD'])"
      ]
    },
    {
      "cell_type": "code",
      "execution_count": 14,
      "metadata": {
        "id": "i_XCw-pRywAP",
        "colab": {
          "base_uri": "https://localhost:8080/"
        },
        "outputId": "73ab7dfe-5904-4100-aca6-1547e3bc07aa"
      },
      "outputs": [
        {
          "output_type": "execute_result",
          "data": {
            "text/plain": [
              "0"
            ]
          },
          "metadata": {},
          "execution_count": 14
        }
      ],
      "source": [
        "df_cleaned1[['date','symbol','open','close','high','low','Volume BTC','Volume USD']].duplicated().sum()"
      ]
    },
    {
      "cell_type": "code",
      "execution_count": 15,
      "metadata": {
        "id": "mCkWqqP9zY4k",
        "colab": {
          "base_uri": "https://localhost:8080/",
          "height": 423
        },
        "outputId": "a9909b9e-562c-4de8-f3d6-c3b85e861d70"
      },
      "outputs": [
        {
          "output_type": "execute_result",
          "data": {
            "text/plain": [
              "             unix                 date   symbol      open      high       low  \\\n",
              "33258  1526364000  2018-05-15 06:00:00  BTC/USD   8733.86   8796.68   8707.28   \n",
              "33257  1526367600  2018-05-15 07:00:00  BTC/USD   8740.99   8766.00   8721.11   \n",
              "33256  1526371200  2018-05-15 08:00:00  BTC/USD   8739.00   8750.27   8660.53   \n",
              "33255  1526374800  2018-05-15 09:00:00  BTC/USD   8728.49   8754.40   8701.35   \n",
              "33254  1526378400  2018-05-15 10:00:00  BTC/USD   8708.32   8865.00   8695.11   \n",
              "...           ...                  ...      ...       ...       ...       ...   \n",
              "4      1646105880  2022-03-01 03:38:00  BTC/USD  43077.82  43077.82  43049.46   \n",
              "3      1646105940  2022-03-01 03:39:00  BTC/USD  43035.16  43035.16  42999.44   \n",
              "2      1646106000  2022-03-01 03:40:00  BTC/USD  43022.24  43022.24  43016.03   \n",
              "1      1646106060  2022-03-01 03:41:00  BTC/USD  43018.23  43046.59  43018.23   \n",
              "0      1646106180  2022-03-01 03:43:00  BTC/USD  43046.58  43046.58  43046.58   \n",
              "\n",
              "          close    Volume BTC    Volume USD  \n",
              "33258   8740.99  4.906603e+06    559.930000  \n",
              "33257   8739.00  2.390399e+06    273.580000  \n",
              "33256   8728.49  7.986063e+06    917.790000  \n",
              "33255   8708.32  1.593992e+06    182.620000  \n",
              "33254   8795.90  1.110127e+07   1260.690000  \n",
              "...         ...           ...           ...  \n",
              "4      43049.46  2.221034e-02    956.143143  \n",
              "3      42999.44  8.209500e-01  35300.390268  \n",
              "2      43016.03  9.230000e-03    397.037957  \n",
              "1      43046.58  1.429770e-01   6154.673021  \n",
              "0      43046.58  0.000000e+00      0.000000  \n",
              "\n",
              "[557109 rows x 9 columns]"
            ],
            "text/html": [
              "\n",
              "  <div id=\"df-74d9c485-39bb-473c-9d88-b208c6f1cd41\" class=\"colab-df-container\">\n",
              "    <div>\n",
              "<style scoped>\n",
              "    .dataframe tbody tr th:only-of-type {\n",
              "        vertical-align: middle;\n",
              "    }\n",
              "\n",
              "    .dataframe tbody tr th {\n",
              "        vertical-align: top;\n",
              "    }\n",
              "\n",
              "    .dataframe thead th {\n",
              "        text-align: right;\n",
              "    }\n",
              "</style>\n",
              "<table border=\"1\" class=\"dataframe\">\n",
              "  <thead>\n",
              "    <tr style=\"text-align: right;\">\n",
              "      <th></th>\n",
              "      <th>unix</th>\n",
              "      <th>date</th>\n",
              "      <th>symbol</th>\n",
              "      <th>open</th>\n",
              "      <th>high</th>\n",
              "      <th>low</th>\n",
              "      <th>close</th>\n",
              "      <th>Volume BTC</th>\n",
              "      <th>Volume USD</th>\n",
              "    </tr>\n",
              "  </thead>\n",
              "  <tbody>\n",
              "    <tr>\n",
              "      <th>33258</th>\n",
              "      <td>1526364000</td>\n",
              "      <td>2018-05-15 06:00:00</td>\n",
              "      <td>BTC/USD</td>\n",
              "      <td>8733.86</td>\n",
              "      <td>8796.68</td>\n",
              "      <td>8707.28</td>\n",
              "      <td>8740.99</td>\n",
              "      <td>4.906603e+06</td>\n",
              "      <td>559.930000</td>\n",
              "    </tr>\n",
              "    <tr>\n",
              "      <th>33257</th>\n",
              "      <td>1526367600</td>\n",
              "      <td>2018-05-15 07:00:00</td>\n",
              "      <td>BTC/USD</td>\n",
              "      <td>8740.99</td>\n",
              "      <td>8766.00</td>\n",
              "      <td>8721.11</td>\n",
              "      <td>8739.00</td>\n",
              "      <td>2.390399e+06</td>\n",
              "      <td>273.580000</td>\n",
              "    </tr>\n",
              "    <tr>\n",
              "      <th>33256</th>\n",
              "      <td>1526371200</td>\n",
              "      <td>2018-05-15 08:00:00</td>\n",
              "      <td>BTC/USD</td>\n",
              "      <td>8739.00</td>\n",
              "      <td>8750.27</td>\n",
              "      <td>8660.53</td>\n",
              "      <td>8728.49</td>\n",
              "      <td>7.986063e+06</td>\n",
              "      <td>917.790000</td>\n",
              "    </tr>\n",
              "    <tr>\n",
              "      <th>33255</th>\n",
              "      <td>1526374800</td>\n",
              "      <td>2018-05-15 09:00:00</td>\n",
              "      <td>BTC/USD</td>\n",
              "      <td>8728.49</td>\n",
              "      <td>8754.40</td>\n",
              "      <td>8701.35</td>\n",
              "      <td>8708.32</td>\n",
              "      <td>1.593992e+06</td>\n",
              "      <td>182.620000</td>\n",
              "    </tr>\n",
              "    <tr>\n",
              "      <th>33254</th>\n",
              "      <td>1526378400</td>\n",
              "      <td>2018-05-15 10:00:00</td>\n",
              "      <td>BTC/USD</td>\n",
              "      <td>8708.32</td>\n",
              "      <td>8865.00</td>\n",
              "      <td>8695.11</td>\n",
              "      <td>8795.90</td>\n",
              "      <td>1.110127e+07</td>\n",
              "      <td>1260.690000</td>\n",
              "    </tr>\n",
              "    <tr>\n",
              "      <th>...</th>\n",
              "      <td>...</td>\n",
              "      <td>...</td>\n",
              "      <td>...</td>\n",
              "      <td>...</td>\n",
              "      <td>...</td>\n",
              "      <td>...</td>\n",
              "      <td>...</td>\n",
              "      <td>...</td>\n",
              "      <td>...</td>\n",
              "    </tr>\n",
              "    <tr>\n",
              "      <th>4</th>\n",
              "      <td>1646105880</td>\n",
              "      <td>2022-03-01 03:38:00</td>\n",
              "      <td>BTC/USD</td>\n",
              "      <td>43077.82</td>\n",
              "      <td>43077.82</td>\n",
              "      <td>43049.46</td>\n",
              "      <td>43049.46</td>\n",
              "      <td>2.221034e-02</td>\n",
              "      <td>956.143143</td>\n",
              "    </tr>\n",
              "    <tr>\n",
              "      <th>3</th>\n",
              "      <td>1646105940</td>\n",
              "      <td>2022-03-01 03:39:00</td>\n",
              "      <td>BTC/USD</td>\n",
              "      <td>43035.16</td>\n",
              "      <td>43035.16</td>\n",
              "      <td>42999.44</td>\n",
              "      <td>42999.44</td>\n",
              "      <td>8.209500e-01</td>\n",
              "      <td>35300.390268</td>\n",
              "    </tr>\n",
              "    <tr>\n",
              "      <th>2</th>\n",
              "      <td>1646106000</td>\n",
              "      <td>2022-03-01 03:40:00</td>\n",
              "      <td>BTC/USD</td>\n",
              "      <td>43022.24</td>\n",
              "      <td>43022.24</td>\n",
              "      <td>43016.03</td>\n",
              "      <td>43016.03</td>\n",
              "      <td>9.230000e-03</td>\n",
              "      <td>397.037957</td>\n",
              "    </tr>\n",
              "    <tr>\n",
              "      <th>1</th>\n",
              "      <td>1646106060</td>\n",
              "      <td>2022-03-01 03:41:00</td>\n",
              "      <td>BTC/USD</td>\n",
              "      <td>43018.23</td>\n",
              "      <td>43046.59</td>\n",
              "      <td>43018.23</td>\n",
              "      <td>43046.58</td>\n",
              "      <td>1.429770e-01</td>\n",
              "      <td>6154.673021</td>\n",
              "    </tr>\n",
              "    <tr>\n",
              "      <th>0</th>\n",
              "      <td>1646106180</td>\n",
              "      <td>2022-03-01 03:43:00</td>\n",
              "      <td>BTC/USD</td>\n",
              "      <td>43046.58</td>\n",
              "      <td>43046.58</td>\n",
              "      <td>43046.58</td>\n",
              "      <td>43046.58</td>\n",
              "      <td>0.000000e+00</td>\n",
              "      <td>0.000000</td>\n",
              "    </tr>\n",
              "  </tbody>\n",
              "</table>\n",
              "<p>557109 rows × 9 columns</p>\n",
              "</div>\n",
              "    <div class=\"colab-df-buttons\">\n",
              "\n",
              "  <div class=\"colab-df-container\">\n",
              "    <button class=\"colab-df-convert\" onclick=\"convertToInteractive('df-74d9c485-39bb-473c-9d88-b208c6f1cd41')\"\n",
              "            title=\"Convert this dataframe to an interactive table.\"\n",
              "            style=\"display:none;\">\n",
              "\n",
              "  <svg xmlns=\"http://www.w3.org/2000/svg\" height=\"24px\" viewBox=\"0 -960 960 960\">\n",
              "    <path d=\"M120-120v-720h720v720H120Zm60-500h600v-160H180v160Zm220 220h160v-160H400v160Zm0 220h160v-160H400v160ZM180-400h160v-160H180v160Zm440 0h160v-160H620v160ZM180-180h160v-160H180v160Zm440 0h160v-160H620v160Z\"/>\n",
              "  </svg>\n",
              "    </button>\n",
              "\n",
              "  <style>\n",
              "    .colab-df-container {\n",
              "      display:flex;\n",
              "      gap: 12px;\n",
              "    }\n",
              "\n",
              "    .colab-df-convert {\n",
              "      background-color: #E8F0FE;\n",
              "      border: none;\n",
              "      border-radius: 50%;\n",
              "      cursor: pointer;\n",
              "      display: none;\n",
              "      fill: #1967D2;\n",
              "      height: 32px;\n",
              "      padding: 0 0 0 0;\n",
              "      width: 32px;\n",
              "    }\n",
              "\n",
              "    .colab-df-convert:hover {\n",
              "      background-color: #E2EBFA;\n",
              "      box-shadow: 0px 1px 2px rgba(60, 64, 67, 0.3), 0px 1px 3px 1px rgba(60, 64, 67, 0.15);\n",
              "      fill: #174EA6;\n",
              "    }\n",
              "\n",
              "    .colab-df-buttons div {\n",
              "      margin-bottom: 4px;\n",
              "    }\n",
              "\n",
              "    [theme=dark] .colab-df-convert {\n",
              "      background-color: #3B4455;\n",
              "      fill: #D2E3FC;\n",
              "    }\n",
              "\n",
              "    [theme=dark] .colab-df-convert:hover {\n",
              "      background-color: #434B5C;\n",
              "      box-shadow: 0px 1px 3px 1px rgba(0, 0, 0, 0.15);\n",
              "      filter: drop-shadow(0px 1px 2px rgba(0, 0, 0, 0.3));\n",
              "      fill: #FFFFFF;\n",
              "    }\n",
              "  </style>\n",
              "\n",
              "    <script>\n",
              "      const buttonEl =\n",
              "        document.querySelector('#df-74d9c485-39bb-473c-9d88-b208c6f1cd41 button.colab-df-convert');\n",
              "      buttonEl.style.display =\n",
              "        google.colab.kernel.accessAllowed ? 'block' : 'none';\n",
              "\n",
              "      async function convertToInteractive(key) {\n",
              "        const element = document.querySelector('#df-74d9c485-39bb-473c-9d88-b208c6f1cd41');\n",
              "        const dataTable =\n",
              "          await google.colab.kernel.invokeFunction('convertToInteractive',\n",
              "                                                    [key], {});\n",
              "        if (!dataTable) return;\n",
              "\n",
              "        const docLinkHtml = 'Like what you see? Visit the ' +\n",
              "          '<a target=\"_blank\" href=https://colab.research.google.com/notebooks/data_table.ipynb>data table notebook</a>'\n",
              "          + ' to learn more about interactive tables.';\n",
              "        element.innerHTML = '';\n",
              "        dataTable['output_type'] = 'display_data';\n",
              "        await google.colab.output.renderOutput(dataTable, element);\n",
              "        const docLink = document.createElement('div');\n",
              "        docLink.innerHTML = docLinkHtml;\n",
              "        element.appendChild(docLink);\n",
              "      }\n",
              "    </script>\n",
              "  </div>\n",
              "\n",
              "\n",
              "<div id=\"df-d7642aba-0ddb-4e36-8458-3464ed326fb8\">\n",
              "  <button class=\"colab-df-quickchart\" onclick=\"quickchart('df-d7642aba-0ddb-4e36-8458-3464ed326fb8')\"\n",
              "            title=\"Suggest charts\"\n",
              "            style=\"display:none;\">\n",
              "\n",
              "<svg xmlns=\"http://www.w3.org/2000/svg\" height=\"24px\"viewBox=\"0 0 24 24\"\n",
              "     width=\"24px\">\n",
              "    <g>\n",
              "        <path d=\"M19 3H5c-1.1 0-2 .9-2 2v14c0 1.1.9 2 2 2h14c1.1 0 2-.9 2-2V5c0-1.1-.9-2-2-2zM9 17H7v-7h2v7zm4 0h-2V7h2v10zm4 0h-2v-4h2v4z\"/>\n",
              "    </g>\n",
              "</svg>\n",
              "  </button>\n",
              "\n",
              "<style>\n",
              "  .colab-df-quickchart {\n",
              "      --bg-color: #E8F0FE;\n",
              "      --fill-color: #1967D2;\n",
              "      --hover-bg-color: #E2EBFA;\n",
              "      --hover-fill-color: #174EA6;\n",
              "      --disabled-fill-color: #AAA;\n",
              "      --disabled-bg-color: #DDD;\n",
              "  }\n",
              "\n",
              "  [theme=dark] .colab-df-quickchart {\n",
              "      --bg-color: #3B4455;\n",
              "      --fill-color: #D2E3FC;\n",
              "      --hover-bg-color: #434B5C;\n",
              "      --hover-fill-color: #FFFFFF;\n",
              "      --disabled-bg-color: #3B4455;\n",
              "      --disabled-fill-color: #666;\n",
              "  }\n",
              "\n",
              "  .colab-df-quickchart {\n",
              "    background-color: var(--bg-color);\n",
              "    border: none;\n",
              "    border-radius: 50%;\n",
              "    cursor: pointer;\n",
              "    display: none;\n",
              "    fill: var(--fill-color);\n",
              "    height: 32px;\n",
              "    padding: 0;\n",
              "    width: 32px;\n",
              "  }\n",
              "\n",
              "  .colab-df-quickchart:hover {\n",
              "    background-color: var(--hover-bg-color);\n",
              "    box-shadow: 0 1px 2px rgba(60, 64, 67, 0.3), 0 1px 3px 1px rgba(60, 64, 67, 0.15);\n",
              "    fill: var(--button-hover-fill-color);\n",
              "  }\n",
              "\n",
              "  .colab-df-quickchart-complete:disabled,\n",
              "  .colab-df-quickchart-complete:disabled:hover {\n",
              "    background-color: var(--disabled-bg-color);\n",
              "    fill: var(--disabled-fill-color);\n",
              "    box-shadow: none;\n",
              "  }\n",
              "\n",
              "  .colab-df-spinner {\n",
              "    border: 2px solid var(--fill-color);\n",
              "    border-color: transparent;\n",
              "    border-bottom-color: var(--fill-color);\n",
              "    animation:\n",
              "      spin 1s steps(1) infinite;\n",
              "  }\n",
              "\n",
              "  @keyframes spin {\n",
              "    0% {\n",
              "      border-color: transparent;\n",
              "      border-bottom-color: var(--fill-color);\n",
              "      border-left-color: var(--fill-color);\n",
              "    }\n",
              "    20% {\n",
              "      border-color: transparent;\n",
              "      border-left-color: var(--fill-color);\n",
              "      border-top-color: var(--fill-color);\n",
              "    }\n",
              "    30% {\n",
              "      border-color: transparent;\n",
              "      border-left-color: var(--fill-color);\n",
              "      border-top-color: var(--fill-color);\n",
              "      border-right-color: var(--fill-color);\n",
              "    }\n",
              "    40% {\n",
              "      border-color: transparent;\n",
              "      border-right-color: var(--fill-color);\n",
              "      border-top-color: var(--fill-color);\n",
              "    }\n",
              "    60% {\n",
              "      border-color: transparent;\n",
              "      border-right-color: var(--fill-color);\n",
              "    }\n",
              "    80% {\n",
              "      border-color: transparent;\n",
              "      border-right-color: var(--fill-color);\n",
              "      border-bottom-color: var(--fill-color);\n",
              "    }\n",
              "    90% {\n",
              "      border-color: transparent;\n",
              "      border-bottom-color: var(--fill-color);\n",
              "    }\n",
              "  }\n",
              "</style>\n",
              "\n",
              "  <script>\n",
              "    async function quickchart(key) {\n",
              "      const quickchartButtonEl =\n",
              "        document.querySelector('#' + key + ' button');\n",
              "      quickchartButtonEl.disabled = true;  // To prevent multiple clicks.\n",
              "      quickchartButtonEl.classList.add('colab-df-spinner');\n",
              "      try {\n",
              "        const charts = await google.colab.kernel.invokeFunction(\n",
              "            'suggestCharts', [key], {});\n",
              "      } catch (error) {\n",
              "        console.error('Error during call to suggestCharts:', error);\n",
              "      }\n",
              "      quickchartButtonEl.classList.remove('colab-df-spinner');\n",
              "      quickchartButtonEl.classList.add('colab-df-quickchart-complete');\n",
              "    }\n",
              "    (() => {\n",
              "      let quickchartButtonEl =\n",
              "        document.querySelector('#df-d7642aba-0ddb-4e36-8458-3464ed326fb8 button');\n",
              "      quickchartButtonEl.style.display =\n",
              "        google.colab.kernel.accessAllowed ? 'block' : 'none';\n",
              "    })();\n",
              "  </script>\n",
              "</div>\n",
              "\n",
              "  <div id=\"id_a1a24180-e5fb-4af7-94aa-ad9132580a74\">\n",
              "    <style>\n",
              "      .colab-df-generate {\n",
              "        background-color: #E8F0FE;\n",
              "        border: none;\n",
              "        border-radius: 50%;\n",
              "        cursor: pointer;\n",
              "        display: none;\n",
              "        fill: #1967D2;\n",
              "        height: 32px;\n",
              "        padding: 0 0 0 0;\n",
              "        width: 32px;\n",
              "      }\n",
              "\n",
              "      .colab-df-generate:hover {\n",
              "        background-color: #E2EBFA;\n",
              "        box-shadow: 0px 1px 2px rgba(60, 64, 67, 0.3), 0px 1px 3px 1px rgba(60, 64, 67, 0.15);\n",
              "        fill: #174EA6;\n",
              "      }\n",
              "\n",
              "      [theme=dark] .colab-df-generate {\n",
              "        background-color: #3B4455;\n",
              "        fill: #D2E3FC;\n",
              "      }\n",
              "\n",
              "      [theme=dark] .colab-df-generate:hover {\n",
              "        background-color: #434B5C;\n",
              "        box-shadow: 0px 1px 3px 1px rgba(0, 0, 0, 0.15);\n",
              "        filter: drop-shadow(0px 1px 2px rgba(0, 0, 0, 0.3));\n",
              "        fill: #FFFFFF;\n",
              "      }\n",
              "    </style>\n",
              "    <button class=\"colab-df-generate\" onclick=\"generateWithVariable('df_cleaned1')\"\n",
              "            title=\"Generate code using this dataframe.\"\n",
              "            style=\"display:none;\">\n",
              "\n",
              "  <svg xmlns=\"http://www.w3.org/2000/svg\" height=\"24px\"viewBox=\"0 0 24 24\"\n",
              "       width=\"24px\">\n",
              "    <path d=\"M7,19H8.4L18.45,9,17,7.55,7,17.6ZM5,21V16.75L18.45,3.32a2,2,0,0,1,2.83,0l1.4,1.43a1.91,1.91,0,0,1,.58,1.4,1.91,1.91,0,0,1-.58,1.4L9.25,21ZM18.45,9,17,7.55Zm-12,3A5.31,5.31,0,0,0,4.9,8.1,5.31,5.31,0,0,0,1,6.5,5.31,5.31,0,0,0,4.9,4.9,5.31,5.31,0,0,0,6.5,1,5.31,5.31,0,0,0,8.1,4.9,5.31,5.31,0,0,0,12,6.5,5.46,5.46,0,0,0,6.5,12Z\"/>\n",
              "  </svg>\n",
              "    </button>\n",
              "    <script>\n",
              "      (() => {\n",
              "      const buttonEl =\n",
              "        document.querySelector('#id_a1a24180-e5fb-4af7-94aa-ad9132580a74 button.colab-df-generate');\n",
              "      buttonEl.style.display =\n",
              "        google.colab.kernel.accessAllowed ? 'block' : 'none';\n",
              "\n",
              "      buttonEl.onclick = () => {\n",
              "        google.colab.notebook.generateWithVariable('df_cleaned1');\n",
              "      }\n",
              "      })();\n",
              "    </script>\n",
              "  </div>\n",
              "\n",
              "    </div>\n",
              "  </div>\n"
            ],
            "application/vnd.google.colaboratory.intrinsic+json": {
              "type": "dataframe",
              "variable_name": "df_cleaned1"
            }
          },
          "metadata": {},
          "execution_count": 15
        }
      ],
      "source": [
        "df_cleaned1"
      ]
    },
    {
      "cell_type": "code",
      "execution_count": 16,
      "metadata": {
        "id": "JPnbHsTo8Uxx",
        "colab": {
          "base_uri": "https://localhost:8080/"
        },
        "outputId": "3a273d33-65a7-42be-de2c-dac47089c3f3"
      },
      "outputs": [
        {
          "output_type": "stream",
          "name": "stdout",
          "text": [
            "<class 'pandas.core.frame.DataFrame'>\n",
            "Index: 557109 entries, 33258 to 0\n",
            "Data columns (total 9 columns):\n",
            " #   Column      Non-Null Count   Dtype  \n",
            "---  ------      --------------   -----  \n",
            " 0   unix        557109 non-null  int64  \n",
            " 1   date        557109 non-null  object \n",
            " 2   symbol      557109 non-null  object \n",
            " 3   open        557109 non-null  float64\n",
            " 4   high        557109 non-null  float64\n",
            " 5   low         557109 non-null  float64\n",
            " 6   close       557109 non-null  float64\n",
            " 7   Volume BTC  557109 non-null  float64\n",
            " 8   Volume USD  557109 non-null  float64\n",
            "dtypes: float64(6), int64(1), object(2)\n",
            "memory usage: 42.5+ MB\n"
          ]
        }
      ],
      "source": [
        "df_cleaned1.info()"
      ]
    },
    {
      "cell_type": "code",
      "execution_count": 17,
      "metadata": {
        "id": "V2kRo_nFqV3j",
        "colab": {
          "base_uri": "https://localhost:8080/",
          "height": 300
        },
        "outputId": "18ccad87-e7e3-4287-8993-d4cbfddec1a7"
      },
      "outputs": [
        {
          "output_type": "execute_result",
          "data": {
            "text/plain": [
              "               unix           open           high            low  \\\n",
              "count  5.571090e+05  557109.000000  557109.000000  557109.000000   \n",
              "mean   1.586355e+09   16442.565838   16456.122399   16428.367086   \n",
              "std    3.692619e+07   14931.026767   14946.218495   14914.588771   \n",
              "min    1.526364e+09    3124.450000    3131.860000    3122.280000   \n",
              "25%    1.545294e+09    6539.080000    6540.260000    6537.970000   \n",
              "50%    1.576377e+09    8763.140000    8769.760000    8757.840000   \n",
              "75%    1.608488e+09   22780.000000   22802.850000   22753.060000   \n",
              "max    1.646106e+09   68635.050000   69000.000000   68447.000000   \n",
              "\n",
              "               close    Volume BTC    Volume USD  \n",
              "count  557109.000000  5.571090e+05  5.571090e+05  \n",
              "mean    16442.686561  9.626200e+04  2.226194e+05  \n",
              "std     14931.138923  8.488191e+05  1.924622e+06  \n",
              "min      3124.450000  0.000000e+00  0.000000e+00  \n",
              "25%      6539.230000  1.256519e-01  1.021601e+03  \n",
              "50%      8763.480000  9.663555e-01  8.708724e+03  \n",
              "75%     22779.940000  4.726783e+00  4.121276e+04  \n",
              "max     68627.010000  6.857061e+07  2.582324e+08  "
            ],
            "text/html": [
              "\n",
              "  <div id=\"df-d2cd6df7-581f-465e-8362-4d0599b886c5\" class=\"colab-df-container\">\n",
              "    <div>\n",
              "<style scoped>\n",
              "    .dataframe tbody tr th:only-of-type {\n",
              "        vertical-align: middle;\n",
              "    }\n",
              "\n",
              "    .dataframe tbody tr th {\n",
              "        vertical-align: top;\n",
              "    }\n",
              "\n",
              "    .dataframe thead th {\n",
              "        text-align: right;\n",
              "    }\n",
              "</style>\n",
              "<table border=\"1\" class=\"dataframe\">\n",
              "  <thead>\n",
              "    <tr style=\"text-align: right;\">\n",
              "      <th></th>\n",
              "      <th>unix</th>\n",
              "      <th>open</th>\n",
              "      <th>high</th>\n",
              "      <th>low</th>\n",
              "      <th>close</th>\n",
              "      <th>Volume BTC</th>\n",
              "      <th>Volume USD</th>\n",
              "    </tr>\n",
              "  </thead>\n",
              "  <tbody>\n",
              "    <tr>\n",
              "      <th>count</th>\n",
              "      <td>5.571090e+05</td>\n",
              "      <td>557109.000000</td>\n",
              "      <td>557109.000000</td>\n",
              "      <td>557109.000000</td>\n",
              "      <td>557109.000000</td>\n",
              "      <td>5.571090e+05</td>\n",
              "      <td>5.571090e+05</td>\n",
              "    </tr>\n",
              "    <tr>\n",
              "      <th>mean</th>\n",
              "      <td>1.586355e+09</td>\n",
              "      <td>16442.565838</td>\n",
              "      <td>16456.122399</td>\n",
              "      <td>16428.367086</td>\n",
              "      <td>16442.686561</td>\n",
              "      <td>9.626200e+04</td>\n",
              "      <td>2.226194e+05</td>\n",
              "    </tr>\n",
              "    <tr>\n",
              "      <th>std</th>\n",
              "      <td>3.692619e+07</td>\n",
              "      <td>14931.026767</td>\n",
              "      <td>14946.218495</td>\n",
              "      <td>14914.588771</td>\n",
              "      <td>14931.138923</td>\n",
              "      <td>8.488191e+05</td>\n",
              "      <td>1.924622e+06</td>\n",
              "    </tr>\n",
              "    <tr>\n",
              "      <th>min</th>\n",
              "      <td>1.526364e+09</td>\n",
              "      <td>3124.450000</td>\n",
              "      <td>3131.860000</td>\n",
              "      <td>3122.280000</td>\n",
              "      <td>3124.450000</td>\n",
              "      <td>0.000000e+00</td>\n",
              "      <td>0.000000e+00</td>\n",
              "    </tr>\n",
              "    <tr>\n",
              "      <th>25%</th>\n",
              "      <td>1.545294e+09</td>\n",
              "      <td>6539.080000</td>\n",
              "      <td>6540.260000</td>\n",
              "      <td>6537.970000</td>\n",
              "      <td>6539.230000</td>\n",
              "      <td>1.256519e-01</td>\n",
              "      <td>1.021601e+03</td>\n",
              "    </tr>\n",
              "    <tr>\n",
              "      <th>50%</th>\n",
              "      <td>1.576377e+09</td>\n",
              "      <td>8763.140000</td>\n",
              "      <td>8769.760000</td>\n",
              "      <td>8757.840000</td>\n",
              "      <td>8763.480000</td>\n",
              "      <td>9.663555e-01</td>\n",
              "      <td>8.708724e+03</td>\n",
              "    </tr>\n",
              "    <tr>\n",
              "      <th>75%</th>\n",
              "      <td>1.608488e+09</td>\n",
              "      <td>22780.000000</td>\n",
              "      <td>22802.850000</td>\n",
              "      <td>22753.060000</td>\n",
              "      <td>22779.940000</td>\n",
              "      <td>4.726783e+00</td>\n",
              "      <td>4.121276e+04</td>\n",
              "    </tr>\n",
              "    <tr>\n",
              "      <th>max</th>\n",
              "      <td>1.646106e+09</td>\n",
              "      <td>68635.050000</td>\n",
              "      <td>69000.000000</td>\n",
              "      <td>68447.000000</td>\n",
              "      <td>68627.010000</td>\n",
              "      <td>6.857061e+07</td>\n",
              "      <td>2.582324e+08</td>\n",
              "    </tr>\n",
              "  </tbody>\n",
              "</table>\n",
              "</div>\n",
              "    <div class=\"colab-df-buttons\">\n",
              "\n",
              "  <div class=\"colab-df-container\">\n",
              "    <button class=\"colab-df-convert\" onclick=\"convertToInteractive('df-d2cd6df7-581f-465e-8362-4d0599b886c5')\"\n",
              "            title=\"Convert this dataframe to an interactive table.\"\n",
              "            style=\"display:none;\">\n",
              "\n",
              "  <svg xmlns=\"http://www.w3.org/2000/svg\" height=\"24px\" viewBox=\"0 -960 960 960\">\n",
              "    <path d=\"M120-120v-720h720v720H120Zm60-500h600v-160H180v160Zm220 220h160v-160H400v160Zm0 220h160v-160H400v160ZM180-400h160v-160H180v160Zm440 0h160v-160H620v160ZM180-180h160v-160H180v160Zm440 0h160v-160H620v160Z\"/>\n",
              "  </svg>\n",
              "    </button>\n",
              "\n",
              "  <style>\n",
              "    .colab-df-container {\n",
              "      display:flex;\n",
              "      gap: 12px;\n",
              "    }\n",
              "\n",
              "    .colab-df-convert {\n",
              "      background-color: #E8F0FE;\n",
              "      border: none;\n",
              "      border-radius: 50%;\n",
              "      cursor: pointer;\n",
              "      display: none;\n",
              "      fill: #1967D2;\n",
              "      height: 32px;\n",
              "      padding: 0 0 0 0;\n",
              "      width: 32px;\n",
              "    }\n",
              "\n",
              "    .colab-df-convert:hover {\n",
              "      background-color: #E2EBFA;\n",
              "      box-shadow: 0px 1px 2px rgba(60, 64, 67, 0.3), 0px 1px 3px 1px rgba(60, 64, 67, 0.15);\n",
              "      fill: #174EA6;\n",
              "    }\n",
              "\n",
              "    .colab-df-buttons div {\n",
              "      margin-bottom: 4px;\n",
              "    }\n",
              "\n",
              "    [theme=dark] .colab-df-convert {\n",
              "      background-color: #3B4455;\n",
              "      fill: #D2E3FC;\n",
              "    }\n",
              "\n",
              "    [theme=dark] .colab-df-convert:hover {\n",
              "      background-color: #434B5C;\n",
              "      box-shadow: 0px 1px 3px 1px rgba(0, 0, 0, 0.15);\n",
              "      filter: drop-shadow(0px 1px 2px rgba(0, 0, 0, 0.3));\n",
              "      fill: #FFFFFF;\n",
              "    }\n",
              "  </style>\n",
              "\n",
              "    <script>\n",
              "      const buttonEl =\n",
              "        document.querySelector('#df-d2cd6df7-581f-465e-8362-4d0599b886c5 button.colab-df-convert');\n",
              "      buttonEl.style.display =\n",
              "        google.colab.kernel.accessAllowed ? 'block' : 'none';\n",
              "\n",
              "      async function convertToInteractive(key) {\n",
              "        const element = document.querySelector('#df-d2cd6df7-581f-465e-8362-4d0599b886c5');\n",
              "        const dataTable =\n",
              "          await google.colab.kernel.invokeFunction('convertToInteractive',\n",
              "                                                    [key], {});\n",
              "        if (!dataTable) return;\n",
              "\n",
              "        const docLinkHtml = 'Like what you see? Visit the ' +\n",
              "          '<a target=\"_blank\" href=https://colab.research.google.com/notebooks/data_table.ipynb>data table notebook</a>'\n",
              "          + ' to learn more about interactive tables.';\n",
              "        element.innerHTML = '';\n",
              "        dataTable['output_type'] = 'display_data';\n",
              "        await google.colab.output.renderOutput(dataTable, element);\n",
              "        const docLink = document.createElement('div');\n",
              "        docLink.innerHTML = docLinkHtml;\n",
              "        element.appendChild(docLink);\n",
              "      }\n",
              "    </script>\n",
              "  </div>\n",
              "\n",
              "\n",
              "<div id=\"df-f75428db-a10d-4816-b2eb-03566cf0f939\">\n",
              "  <button class=\"colab-df-quickchart\" onclick=\"quickchart('df-f75428db-a10d-4816-b2eb-03566cf0f939')\"\n",
              "            title=\"Suggest charts\"\n",
              "            style=\"display:none;\">\n",
              "\n",
              "<svg xmlns=\"http://www.w3.org/2000/svg\" height=\"24px\"viewBox=\"0 0 24 24\"\n",
              "     width=\"24px\">\n",
              "    <g>\n",
              "        <path d=\"M19 3H5c-1.1 0-2 .9-2 2v14c0 1.1.9 2 2 2h14c1.1 0 2-.9 2-2V5c0-1.1-.9-2-2-2zM9 17H7v-7h2v7zm4 0h-2V7h2v10zm4 0h-2v-4h2v4z\"/>\n",
              "    </g>\n",
              "</svg>\n",
              "  </button>\n",
              "\n",
              "<style>\n",
              "  .colab-df-quickchart {\n",
              "      --bg-color: #E8F0FE;\n",
              "      --fill-color: #1967D2;\n",
              "      --hover-bg-color: #E2EBFA;\n",
              "      --hover-fill-color: #174EA6;\n",
              "      --disabled-fill-color: #AAA;\n",
              "      --disabled-bg-color: #DDD;\n",
              "  }\n",
              "\n",
              "  [theme=dark] .colab-df-quickchart {\n",
              "      --bg-color: #3B4455;\n",
              "      --fill-color: #D2E3FC;\n",
              "      --hover-bg-color: #434B5C;\n",
              "      --hover-fill-color: #FFFFFF;\n",
              "      --disabled-bg-color: #3B4455;\n",
              "      --disabled-fill-color: #666;\n",
              "  }\n",
              "\n",
              "  .colab-df-quickchart {\n",
              "    background-color: var(--bg-color);\n",
              "    border: none;\n",
              "    border-radius: 50%;\n",
              "    cursor: pointer;\n",
              "    display: none;\n",
              "    fill: var(--fill-color);\n",
              "    height: 32px;\n",
              "    padding: 0;\n",
              "    width: 32px;\n",
              "  }\n",
              "\n",
              "  .colab-df-quickchart:hover {\n",
              "    background-color: var(--hover-bg-color);\n",
              "    box-shadow: 0 1px 2px rgba(60, 64, 67, 0.3), 0 1px 3px 1px rgba(60, 64, 67, 0.15);\n",
              "    fill: var(--button-hover-fill-color);\n",
              "  }\n",
              "\n",
              "  .colab-df-quickchart-complete:disabled,\n",
              "  .colab-df-quickchart-complete:disabled:hover {\n",
              "    background-color: var(--disabled-bg-color);\n",
              "    fill: var(--disabled-fill-color);\n",
              "    box-shadow: none;\n",
              "  }\n",
              "\n",
              "  .colab-df-spinner {\n",
              "    border: 2px solid var(--fill-color);\n",
              "    border-color: transparent;\n",
              "    border-bottom-color: var(--fill-color);\n",
              "    animation:\n",
              "      spin 1s steps(1) infinite;\n",
              "  }\n",
              "\n",
              "  @keyframes spin {\n",
              "    0% {\n",
              "      border-color: transparent;\n",
              "      border-bottom-color: var(--fill-color);\n",
              "      border-left-color: var(--fill-color);\n",
              "    }\n",
              "    20% {\n",
              "      border-color: transparent;\n",
              "      border-left-color: var(--fill-color);\n",
              "      border-top-color: var(--fill-color);\n",
              "    }\n",
              "    30% {\n",
              "      border-color: transparent;\n",
              "      border-left-color: var(--fill-color);\n",
              "      border-top-color: var(--fill-color);\n",
              "      border-right-color: var(--fill-color);\n",
              "    }\n",
              "    40% {\n",
              "      border-color: transparent;\n",
              "      border-right-color: var(--fill-color);\n",
              "      border-top-color: var(--fill-color);\n",
              "    }\n",
              "    60% {\n",
              "      border-color: transparent;\n",
              "      border-right-color: var(--fill-color);\n",
              "    }\n",
              "    80% {\n",
              "      border-color: transparent;\n",
              "      border-right-color: var(--fill-color);\n",
              "      border-bottom-color: var(--fill-color);\n",
              "    }\n",
              "    90% {\n",
              "      border-color: transparent;\n",
              "      border-bottom-color: var(--fill-color);\n",
              "    }\n",
              "  }\n",
              "</style>\n",
              "\n",
              "  <script>\n",
              "    async function quickchart(key) {\n",
              "      const quickchartButtonEl =\n",
              "        document.querySelector('#' + key + ' button');\n",
              "      quickchartButtonEl.disabled = true;  // To prevent multiple clicks.\n",
              "      quickchartButtonEl.classList.add('colab-df-spinner');\n",
              "      try {\n",
              "        const charts = await google.colab.kernel.invokeFunction(\n",
              "            'suggestCharts', [key], {});\n",
              "      } catch (error) {\n",
              "        console.error('Error during call to suggestCharts:', error);\n",
              "      }\n",
              "      quickchartButtonEl.classList.remove('colab-df-spinner');\n",
              "      quickchartButtonEl.classList.add('colab-df-quickchart-complete');\n",
              "    }\n",
              "    (() => {\n",
              "      let quickchartButtonEl =\n",
              "        document.querySelector('#df-f75428db-a10d-4816-b2eb-03566cf0f939 button');\n",
              "      quickchartButtonEl.style.display =\n",
              "        google.colab.kernel.accessAllowed ? 'block' : 'none';\n",
              "    })();\n",
              "  </script>\n",
              "</div>\n",
              "\n",
              "    </div>\n",
              "  </div>\n"
            ],
            "application/vnd.google.colaboratory.intrinsic+json": {
              "type": "dataframe",
              "summary": "{\n  \"name\": \"df_cleaned1\",\n  \"rows\": 8,\n  \"fields\": [\n    {\n      \"column\": \"unix\",\n      \"properties\": {\n        \"dtype\": \"number\",\n        \"std\": 724398524.2420976,\n        \"min\": 557109.0,\n        \"max\": 1646106180.0,\n        \"num_unique_values\": 8,\n        \"samples\": [\n          1586355351.791732,\n          1576376700.0,\n          557109.0\n        ],\n        \"semantic_type\": \"\",\n        \"description\": \"\"\n      }\n    },\n    {\n      \"column\": \"open\",\n      \"properties\": {\n        \"dtype\": \"number\",\n        \"std\": 190962.08994830254,\n        \"min\": 3124.45,\n        \"max\": 557109.0,\n        \"num_unique_values\": 8,\n        \"samples\": [\n          16442.565838372742,\n          8763.14,\n          557109.0\n        ],\n        \"semantic_type\": \"\",\n        \"description\": \"\"\n      }\n    },\n    {\n      \"column\": \"high\",\n      \"properties\": {\n        \"dtype\": \"number\",\n        \"std\": 190953.467657401,\n        \"min\": 3131.86,\n        \"max\": 557109.0,\n        \"num_unique_values\": 8,\n        \"samples\": [\n          16456.12239936889,\n          8769.76,\n          557109.0\n        ],\n        \"semantic_type\": \"\",\n        \"description\": \"\"\n      }\n    },\n    {\n      \"column\": \"low\",\n      \"properties\": {\n        \"dtype\": \"number\",\n        \"std\": 190968.18246276185,\n        \"min\": 3122.28,\n        \"max\": 557109.0,\n        \"num_unique_values\": 8,\n        \"samples\": [\n          16428.367085776754,\n          8757.84,\n          557109.0\n        ],\n        \"semantic_type\": \"\",\n        \"description\": \"\"\n      }\n    },\n    {\n      \"column\": \"close\",\n      \"properties\": {\n        \"dtype\": \"number\",\n        \"std\": 190962.16356735484,\n        \"min\": 3124.45,\n        \"max\": 557109.0,\n        \"num_unique_values\": 8,\n        \"samples\": [\n          16442.68656140899,\n          8763.48,\n          557109.0\n        ],\n        \"semantic_type\": \"\",\n        \"description\": \"\"\n      }\n    },\n    {\n      \"column\": \"Volume BTC\",\n      \"properties\": {\n        \"dtype\": \"number\",\n        \"std\": 24169621.71936866,\n        \"min\": 0.0,\n        \"max\": 68570613.16,\n        \"num_unique_values\": 8,\n        \"samples\": [\n          96262.00092812203,\n          0.96635554,\n          557109.0\n        ],\n        \"semantic_type\": \"\",\n        \"description\": \"\"\n      }\n    },\n    {\n      \"column\": \"Volume USD\",\n      \"properties\": {\n        \"dtype\": \"number\",\n        \"std\": 91162106.80525112,\n        \"min\": 0.0,\n        \"max\": 258232381.74677345,\n        \"num_unique_values\": 8,\n        \"samples\": [\n          222619.38302321534,\n          8708.7240415138,\n          557109.0\n        ],\n        \"semantic_type\": \"\",\n        \"description\": \"\"\n      }\n    }\n  ]\n}"
            }
          },
          "metadata": {},
          "execution_count": 17
        }
      ],
      "source": [
        "df_cleaned1.describe()"
      ]
    },
    {
      "cell_type": "code",
      "execution_count": 18,
      "metadata": {
        "id": "7L294U5a0o8D",
        "colab": {
          "base_uri": "https://localhost:8080/"
        },
        "outputId": "ab80051b-8168-45d0-d14b-ec71d7ca3d4b"
      },
      "outputs": [
        {
          "output_type": "execute_result",
          "data": {
            "text/plain": [
              "(557109, 9)"
            ]
          },
          "metadata": {},
          "execution_count": 18
        }
      ],
      "source": [
        "df_cleaned1.shape"
      ]
    },
    {
      "cell_type": "code",
      "execution_count": 19,
      "metadata": {
        "id": "V_7Wnm3e_qSg",
        "colab": {
          "base_uri": "https://localhost:8080/"
        },
        "outputId": "3613f8a6-29cf-411a-c23b-8b7ea9bbb59a"
      },
      "outputs": [
        {
          "output_type": "stream",
          "name": "stderr",
          "text": [
            "<ipython-input-19-8dc94a72f5d7>:1: SettingWithCopyWarning: \n",
            "A value is trying to be set on a copy of a slice from a DataFrame.\n",
            "Try using .loc[row_indexer,col_indexer] = value instead\n",
            "\n",
            "See the caveats in the documentation: https://pandas.pydata.org/pandas-docs/stable/user_guide/indexing.html#returning-a-view-versus-a-copy\n",
            "  df_cleaned1['date']=pd.to_datetime(df_cleaned1['date'])\n"
          ]
        }
      ],
      "source": [
        "df_cleaned1['date']=pd.to_datetime(df_cleaned1['date'])"
      ]
    },
    {
      "cell_type": "code",
      "execution_count": 20,
      "metadata": {
        "id": "SdNxqVdkF8Ui",
        "colab": {
          "base_uri": "https://localhost:8080/"
        },
        "outputId": "9139f840-5904-492d-f4df-3f2c2dc1853d"
      },
      "outputs": [
        {
          "output_type": "stream",
          "name": "stderr",
          "text": [
            "<ipython-input-20-3ae3edc093ef>:1: SettingWithCopyWarning: \n",
            "A value is trying to be set on a copy of a slice from a DataFrame.\n",
            "Try using .loc[row_indexer,col_indexer] = value instead\n",
            "\n",
            "See the caveats in the documentation: https://pandas.pydata.org/pandas-docs/stable/user_guide/indexing.html#returning-a-view-versus-a-copy\n",
            "  df_cleaned1['year'] = df_cleaned1['date'].dt.year\n",
            "<ipython-input-20-3ae3edc093ef>:2: SettingWithCopyWarning: \n",
            "A value is trying to be set on a copy of a slice from a DataFrame.\n",
            "Try using .loc[row_indexer,col_indexer] = value instead\n",
            "\n",
            "See the caveats in the documentation: https://pandas.pydata.org/pandas-docs/stable/user_guide/indexing.html#returning-a-view-versus-a-copy\n",
            "  df_cleaned1['month'] = df_cleaned1['date'].dt.month\n",
            "<ipython-input-20-3ae3edc093ef>:3: SettingWithCopyWarning: \n",
            "A value is trying to be set on a copy of a slice from a DataFrame.\n",
            "Try using .loc[row_indexer,col_indexer] = value instead\n",
            "\n",
            "See the caveats in the documentation: https://pandas.pydata.org/pandas-docs/stable/user_guide/indexing.html#returning-a-view-versus-a-copy\n",
            "  df_cleaned1['day'] = df_cleaned1['date'].dt.day\n"
          ]
        }
      ],
      "source": [
        "df_cleaned1['year'] = df_cleaned1['date'].dt.year\n",
        "df_cleaned1['month'] = df_cleaned1['date'].dt.month\n",
        "df_cleaned1['day'] = df_cleaned1['date'].dt.day"
      ]
    },
    {
      "cell_type": "code",
      "execution_count": 21,
      "metadata": {
        "id": "e_22DQ-RIk_w",
        "colab": {
          "base_uri": "https://localhost:8080/"
        },
        "outputId": "596385c4-1e54-4e87-cc92-a115598c045c"
      },
      "outputs": [
        {
          "output_type": "stream",
          "name": "stderr",
          "text": [
            "<ipython-input-21-4988e214130e>:1: SettingWithCopyWarning: \n",
            "A value is trying to be set on a copy of a slice from a DataFrame.\n",
            "Try using .loc[row_indexer,col_indexer] = value instead\n",
            "\n",
            "See the caveats in the documentation: https://pandas.pydata.org/pandas-docs/stable/user_guide/indexing.html#returning-a-view-versus-a-copy\n",
            "  df_cleaned1['time'] = df_cleaned1['date'].dt.time\n"
          ]
        }
      ],
      "source": [
        "df_cleaned1['time'] = df_cleaned1['date'].dt.time\n"
      ]
    },
    {
      "cell_type": "code",
      "execution_count": 22,
      "metadata": {
        "id": "hhfmhNp7GQAc",
        "colab": {
          "base_uri": "https://localhost:8080/",
          "height": 423
        },
        "outputId": "f76b046e-a071-446d-ea13-197b681bdb00"
      },
      "outputs": [
        {
          "output_type": "execute_result",
          "data": {
            "text/plain": [
              "             unix                date   symbol      open      high       low  \\\n",
              "33258  1526364000 2018-05-15 06:00:00  BTC/USD   8733.86   8796.68   8707.28   \n",
              "33257  1526367600 2018-05-15 07:00:00  BTC/USD   8740.99   8766.00   8721.11   \n",
              "33256  1526371200 2018-05-15 08:00:00  BTC/USD   8739.00   8750.27   8660.53   \n",
              "33255  1526374800 2018-05-15 09:00:00  BTC/USD   8728.49   8754.40   8701.35   \n",
              "33254  1526378400 2018-05-15 10:00:00  BTC/USD   8708.32   8865.00   8695.11   \n",
              "...           ...                 ...      ...       ...       ...       ...   \n",
              "4      1646105880 2022-03-01 03:38:00  BTC/USD  43077.82  43077.82  43049.46   \n",
              "3      1646105940 2022-03-01 03:39:00  BTC/USD  43035.16  43035.16  42999.44   \n",
              "2      1646106000 2022-03-01 03:40:00  BTC/USD  43022.24  43022.24  43016.03   \n",
              "1      1646106060 2022-03-01 03:41:00  BTC/USD  43018.23  43046.59  43018.23   \n",
              "0      1646106180 2022-03-01 03:43:00  BTC/USD  43046.58  43046.58  43046.58   \n",
              "\n",
              "          close    Volume BTC    Volume USD  year  month  day      time  \n",
              "33258   8740.99  4.906603e+06    559.930000  2018      5   15  06:00:00  \n",
              "33257   8739.00  2.390399e+06    273.580000  2018      5   15  07:00:00  \n",
              "33256   8728.49  7.986063e+06    917.790000  2018      5   15  08:00:00  \n",
              "33255   8708.32  1.593992e+06    182.620000  2018      5   15  09:00:00  \n",
              "33254   8795.90  1.110127e+07   1260.690000  2018      5   15  10:00:00  \n",
              "...         ...           ...           ...   ...    ...  ...       ...  \n",
              "4      43049.46  2.221034e-02    956.143143  2022      3    1  03:38:00  \n",
              "3      42999.44  8.209500e-01  35300.390268  2022      3    1  03:39:00  \n",
              "2      43016.03  9.230000e-03    397.037957  2022      3    1  03:40:00  \n",
              "1      43046.58  1.429770e-01   6154.673021  2022      3    1  03:41:00  \n",
              "0      43046.58  0.000000e+00      0.000000  2022      3    1  03:43:00  \n",
              "\n",
              "[557109 rows x 13 columns]"
            ],
            "text/html": [
              "\n",
              "  <div id=\"df-aa4825e5-75fb-4a9d-a1da-cbbaf2482c2e\" class=\"colab-df-container\">\n",
              "    <div>\n",
              "<style scoped>\n",
              "    .dataframe tbody tr th:only-of-type {\n",
              "        vertical-align: middle;\n",
              "    }\n",
              "\n",
              "    .dataframe tbody tr th {\n",
              "        vertical-align: top;\n",
              "    }\n",
              "\n",
              "    .dataframe thead th {\n",
              "        text-align: right;\n",
              "    }\n",
              "</style>\n",
              "<table border=\"1\" class=\"dataframe\">\n",
              "  <thead>\n",
              "    <tr style=\"text-align: right;\">\n",
              "      <th></th>\n",
              "      <th>unix</th>\n",
              "      <th>date</th>\n",
              "      <th>symbol</th>\n",
              "      <th>open</th>\n",
              "      <th>high</th>\n",
              "      <th>low</th>\n",
              "      <th>close</th>\n",
              "      <th>Volume BTC</th>\n",
              "      <th>Volume USD</th>\n",
              "      <th>year</th>\n",
              "      <th>month</th>\n",
              "      <th>day</th>\n",
              "      <th>time</th>\n",
              "    </tr>\n",
              "  </thead>\n",
              "  <tbody>\n",
              "    <tr>\n",
              "      <th>33258</th>\n",
              "      <td>1526364000</td>\n",
              "      <td>2018-05-15 06:00:00</td>\n",
              "      <td>BTC/USD</td>\n",
              "      <td>8733.86</td>\n",
              "      <td>8796.68</td>\n",
              "      <td>8707.28</td>\n",
              "      <td>8740.99</td>\n",
              "      <td>4.906603e+06</td>\n",
              "      <td>559.930000</td>\n",
              "      <td>2018</td>\n",
              "      <td>5</td>\n",
              "      <td>15</td>\n",
              "      <td>06:00:00</td>\n",
              "    </tr>\n",
              "    <tr>\n",
              "      <th>33257</th>\n",
              "      <td>1526367600</td>\n",
              "      <td>2018-05-15 07:00:00</td>\n",
              "      <td>BTC/USD</td>\n",
              "      <td>8740.99</td>\n",
              "      <td>8766.00</td>\n",
              "      <td>8721.11</td>\n",
              "      <td>8739.00</td>\n",
              "      <td>2.390399e+06</td>\n",
              "      <td>273.580000</td>\n",
              "      <td>2018</td>\n",
              "      <td>5</td>\n",
              "      <td>15</td>\n",
              "      <td>07:00:00</td>\n",
              "    </tr>\n",
              "    <tr>\n",
              "      <th>33256</th>\n",
              "      <td>1526371200</td>\n",
              "      <td>2018-05-15 08:00:00</td>\n",
              "      <td>BTC/USD</td>\n",
              "      <td>8739.00</td>\n",
              "      <td>8750.27</td>\n",
              "      <td>8660.53</td>\n",
              "      <td>8728.49</td>\n",
              "      <td>7.986063e+06</td>\n",
              "      <td>917.790000</td>\n",
              "      <td>2018</td>\n",
              "      <td>5</td>\n",
              "      <td>15</td>\n",
              "      <td>08:00:00</td>\n",
              "    </tr>\n",
              "    <tr>\n",
              "      <th>33255</th>\n",
              "      <td>1526374800</td>\n",
              "      <td>2018-05-15 09:00:00</td>\n",
              "      <td>BTC/USD</td>\n",
              "      <td>8728.49</td>\n",
              "      <td>8754.40</td>\n",
              "      <td>8701.35</td>\n",
              "      <td>8708.32</td>\n",
              "      <td>1.593992e+06</td>\n",
              "      <td>182.620000</td>\n",
              "      <td>2018</td>\n",
              "      <td>5</td>\n",
              "      <td>15</td>\n",
              "      <td>09:00:00</td>\n",
              "    </tr>\n",
              "    <tr>\n",
              "      <th>33254</th>\n",
              "      <td>1526378400</td>\n",
              "      <td>2018-05-15 10:00:00</td>\n",
              "      <td>BTC/USD</td>\n",
              "      <td>8708.32</td>\n",
              "      <td>8865.00</td>\n",
              "      <td>8695.11</td>\n",
              "      <td>8795.90</td>\n",
              "      <td>1.110127e+07</td>\n",
              "      <td>1260.690000</td>\n",
              "      <td>2018</td>\n",
              "      <td>5</td>\n",
              "      <td>15</td>\n",
              "      <td>10:00:00</td>\n",
              "    </tr>\n",
              "    <tr>\n",
              "      <th>...</th>\n",
              "      <td>...</td>\n",
              "      <td>...</td>\n",
              "      <td>...</td>\n",
              "      <td>...</td>\n",
              "      <td>...</td>\n",
              "      <td>...</td>\n",
              "      <td>...</td>\n",
              "      <td>...</td>\n",
              "      <td>...</td>\n",
              "      <td>...</td>\n",
              "      <td>...</td>\n",
              "      <td>...</td>\n",
              "      <td>...</td>\n",
              "    </tr>\n",
              "    <tr>\n",
              "      <th>4</th>\n",
              "      <td>1646105880</td>\n",
              "      <td>2022-03-01 03:38:00</td>\n",
              "      <td>BTC/USD</td>\n",
              "      <td>43077.82</td>\n",
              "      <td>43077.82</td>\n",
              "      <td>43049.46</td>\n",
              "      <td>43049.46</td>\n",
              "      <td>2.221034e-02</td>\n",
              "      <td>956.143143</td>\n",
              "      <td>2022</td>\n",
              "      <td>3</td>\n",
              "      <td>1</td>\n",
              "      <td>03:38:00</td>\n",
              "    </tr>\n",
              "    <tr>\n",
              "      <th>3</th>\n",
              "      <td>1646105940</td>\n",
              "      <td>2022-03-01 03:39:00</td>\n",
              "      <td>BTC/USD</td>\n",
              "      <td>43035.16</td>\n",
              "      <td>43035.16</td>\n",
              "      <td>42999.44</td>\n",
              "      <td>42999.44</td>\n",
              "      <td>8.209500e-01</td>\n",
              "      <td>35300.390268</td>\n",
              "      <td>2022</td>\n",
              "      <td>3</td>\n",
              "      <td>1</td>\n",
              "      <td>03:39:00</td>\n",
              "    </tr>\n",
              "    <tr>\n",
              "      <th>2</th>\n",
              "      <td>1646106000</td>\n",
              "      <td>2022-03-01 03:40:00</td>\n",
              "      <td>BTC/USD</td>\n",
              "      <td>43022.24</td>\n",
              "      <td>43022.24</td>\n",
              "      <td>43016.03</td>\n",
              "      <td>43016.03</td>\n",
              "      <td>9.230000e-03</td>\n",
              "      <td>397.037957</td>\n",
              "      <td>2022</td>\n",
              "      <td>3</td>\n",
              "      <td>1</td>\n",
              "      <td>03:40:00</td>\n",
              "    </tr>\n",
              "    <tr>\n",
              "      <th>1</th>\n",
              "      <td>1646106060</td>\n",
              "      <td>2022-03-01 03:41:00</td>\n",
              "      <td>BTC/USD</td>\n",
              "      <td>43018.23</td>\n",
              "      <td>43046.59</td>\n",
              "      <td>43018.23</td>\n",
              "      <td>43046.58</td>\n",
              "      <td>1.429770e-01</td>\n",
              "      <td>6154.673021</td>\n",
              "      <td>2022</td>\n",
              "      <td>3</td>\n",
              "      <td>1</td>\n",
              "      <td>03:41:00</td>\n",
              "    </tr>\n",
              "    <tr>\n",
              "      <th>0</th>\n",
              "      <td>1646106180</td>\n",
              "      <td>2022-03-01 03:43:00</td>\n",
              "      <td>BTC/USD</td>\n",
              "      <td>43046.58</td>\n",
              "      <td>43046.58</td>\n",
              "      <td>43046.58</td>\n",
              "      <td>43046.58</td>\n",
              "      <td>0.000000e+00</td>\n",
              "      <td>0.000000</td>\n",
              "      <td>2022</td>\n",
              "      <td>3</td>\n",
              "      <td>1</td>\n",
              "      <td>03:43:00</td>\n",
              "    </tr>\n",
              "  </tbody>\n",
              "</table>\n",
              "<p>557109 rows × 13 columns</p>\n",
              "</div>\n",
              "    <div class=\"colab-df-buttons\">\n",
              "\n",
              "  <div class=\"colab-df-container\">\n",
              "    <button class=\"colab-df-convert\" onclick=\"convertToInteractive('df-aa4825e5-75fb-4a9d-a1da-cbbaf2482c2e')\"\n",
              "            title=\"Convert this dataframe to an interactive table.\"\n",
              "            style=\"display:none;\">\n",
              "\n",
              "  <svg xmlns=\"http://www.w3.org/2000/svg\" height=\"24px\" viewBox=\"0 -960 960 960\">\n",
              "    <path d=\"M120-120v-720h720v720H120Zm60-500h600v-160H180v160Zm220 220h160v-160H400v160Zm0 220h160v-160H400v160ZM180-400h160v-160H180v160Zm440 0h160v-160H620v160ZM180-180h160v-160H180v160Zm440 0h160v-160H620v160Z\"/>\n",
              "  </svg>\n",
              "    </button>\n",
              "\n",
              "  <style>\n",
              "    .colab-df-container {\n",
              "      display:flex;\n",
              "      gap: 12px;\n",
              "    }\n",
              "\n",
              "    .colab-df-convert {\n",
              "      background-color: #E8F0FE;\n",
              "      border: none;\n",
              "      border-radius: 50%;\n",
              "      cursor: pointer;\n",
              "      display: none;\n",
              "      fill: #1967D2;\n",
              "      height: 32px;\n",
              "      padding: 0 0 0 0;\n",
              "      width: 32px;\n",
              "    }\n",
              "\n",
              "    .colab-df-convert:hover {\n",
              "      background-color: #E2EBFA;\n",
              "      box-shadow: 0px 1px 2px rgba(60, 64, 67, 0.3), 0px 1px 3px 1px rgba(60, 64, 67, 0.15);\n",
              "      fill: #174EA6;\n",
              "    }\n",
              "\n",
              "    .colab-df-buttons div {\n",
              "      margin-bottom: 4px;\n",
              "    }\n",
              "\n",
              "    [theme=dark] .colab-df-convert {\n",
              "      background-color: #3B4455;\n",
              "      fill: #D2E3FC;\n",
              "    }\n",
              "\n",
              "    [theme=dark] .colab-df-convert:hover {\n",
              "      background-color: #434B5C;\n",
              "      box-shadow: 0px 1px 3px 1px rgba(0, 0, 0, 0.15);\n",
              "      filter: drop-shadow(0px 1px 2px rgba(0, 0, 0, 0.3));\n",
              "      fill: #FFFFFF;\n",
              "    }\n",
              "  </style>\n",
              "\n",
              "    <script>\n",
              "      const buttonEl =\n",
              "        document.querySelector('#df-aa4825e5-75fb-4a9d-a1da-cbbaf2482c2e button.colab-df-convert');\n",
              "      buttonEl.style.display =\n",
              "        google.colab.kernel.accessAllowed ? 'block' : 'none';\n",
              "\n",
              "      async function convertToInteractive(key) {\n",
              "        const element = document.querySelector('#df-aa4825e5-75fb-4a9d-a1da-cbbaf2482c2e');\n",
              "        const dataTable =\n",
              "          await google.colab.kernel.invokeFunction('convertToInteractive',\n",
              "                                                    [key], {});\n",
              "        if (!dataTable) return;\n",
              "\n",
              "        const docLinkHtml = 'Like what you see? Visit the ' +\n",
              "          '<a target=\"_blank\" href=https://colab.research.google.com/notebooks/data_table.ipynb>data table notebook</a>'\n",
              "          + ' to learn more about interactive tables.';\n",
              "        element.innerHTML = '';\n",
              "        dataTable['output_type'] = 'display_data';\n",
              "        await google.colab.output.renderOutput(dataTable, element);\n",
              "        const docLink = document.createElement('div');\n",
              "        docLink.innerHTML = docLinkHtml;\n",
              "        element.appendChild(docLink);\n",
              "      }\n",
              "    </script>\n",
              "  </div>\n",
              "\n",
              "\n",
              "<div id=\"df-54025090-b3cc-46cc-b3bc-a498eda5adfe\">\n",
              "  <button class=\"colab-df-quickchart\" onclick=\"quickchart('df-54025090-b3cc-46cc-b3bc-a498eda5adfe')\"\n",
              "            title=\"Suggest charts\"\n",
              "            style=\"display:none;\">\n",
              "\n",
              "<svg xmlns=\"http://www.w3.org/2000/svg\" height=\"24px\"viewBox=\"0 0 24 24\"\n",
              "     width=\"24px\">\n",
              "    <g>\n",
              "        <path d=\"M19 3H5c-1.1 0-2 .9-2 2v14c0 1.1.9 2 2 2h14c1.1 0 2-.9 2-2V5c0-1.1-.9-2-2-2zM9 17H7v-7h2v7zm4 0h-2V7h2v10zm4 0h-2v-4h2v4z\"/>\n",
              "    </g>\n",
              "</svg>\n",
              "  </button>\n",
              "\n",
              "<style>\n",
              "  .colab-df-quickchart {\n",
              "      --bg-color: #E8F0FE;\n",
              "      --fill-color: #1967D2;\n",
              "      --hover-bg-color: #E2EBFA;\n",
              "      --hover-fill-color: #174EA6;\n",
              "      --disabled-fill-color: #AAA;\n",
              "      --disabled-bg-color: #DDD;\n",
              "  }\n",
              "\n",
              "  [theme=dark] .colab-df-quickchart {\n",
              "      --bg-color: #3B4455;\n",
              "      --fill-color: #D2E3FC;\n",
              "      --hover-bg-color: #434B5C;\n",
              "      --hover-fill-color: #FFFFFF;\n",
              "      --disabled-bg-color: #3B4455;\n",
              "      --disabled-fill-color: #666;\n",
              "  }\n",
              "\n",
              "  .colab-df-quickchart {\n",
              "    background-color: var(--bg-color);\n",
              "    border: none;\n",
              "    border-radius: 50%;\n",
              "    cursor: pointer;\n",
              "    display: none;\n",
              "    fill: var(--fill-color);\n",
              "    height: 32px;\n",
              "    padding: 0;\n",
              "    width: 32px;\n",
              "  }\n",
              "\n",
              "  .colab-df-quickchart:hover {\n",
              "    background-color: var(--hover-bg-color);\n",
              "    box-shadow: 0 1px 2px rgba(60, 64, 67, 0.3), 0 1px 3px 1px rgba(60, 64, 67, 0.15);\n",
              "    fill: var(--button-hover-fill-color);\n",
              "  }\n",
              "\n",
              "  .colab-df-quickchart-complete:disabled,\n",
              "  .colab-df-quickchart-complete:disabled:hover {\n",
              "    background-color: var(--disabled-bg-color);\n",
              "    fill: var(--disabled-fill-color);\n",
              "    box-shadow: none;\n",
              "  }\n",
              "\n",
              "  .colab-df-spinner {\n",
              "    border: 2px solid var(--fill-color);\n",
              "    border-color: transparent;\n",
              "    border-bottom-color: var(--fill-color);\n",
              "    animation:\n",
              "      spin 1s steps(1) infinite;\n",
              "  }\n",
              "\n",
              "  @keyframes spin {\n",
              "    0% {\n",
              "      border-color: transparent;\n",
              "      border-bottom-color: var(--fill-color);\n",
              "      border-left-color: var(--fill-color);\n",
              "    }\n",
              "    20% {\n",
              "      border-color: transparent;\n",
              "      border-left-color: var(--fill-color);\n",
              "      border-top-color: var(--fill-color);\n",
              "    }\n",
              "    30% {\n",
              "      border-color: transparent;\n",
              "      border-left-color: var(--fill-color);\n",
              "      border-top-color: var(--fill-color);\n",
              "      border-right-color: var(--fill-color);\n",
              "    }\n",
              "    40% {\n",
              "      border-color: transparent;\n",
              "      border-right-color: var(--fill-color);\n",
              "      border-top-color: var(--fill-color);\n",
              "    }\n",
              "    60% {\n",
              "      border-color: transparent;\n",
              "      border-right-color: var(--fill-color);\n",
              "    }\n",
              "    80% {\n",
              "      border-color: transparent;\n",
              "      border-right-color: var(--fill-color);\n",
              "      border-bottom-color: var(--fill-color);\n",
              "    }\n",
              "    90% {\n",
              "      border-color: transparent;\n",
              "      border-bottom-color: var(--fill-color);\n",
              "    }\n",
              "  }\n",
              "</style>\n",
              "\n",
              "  <script>\n",
              "    async function quickchart(key) {\n",
              "      const quickchartButtonEl =\n",
              "        document.querySelector('#' + key + ' button');\n",
              "      quickchartButtonEl.disabled = true;  // To prevent multiple clicks.\n",
              "      quickchartButtonEl.classList.add('colab-df-spinner');\n",
              "      try {\n",
              "        const charts = await google.colab.kernel.invokeFunction(\n",
              "            'suggestCharts', [key], {});\n",
              "      } catch (error) {\n",
              "        console.error('Error during call to suggestCharts:', error);\n",
              "      }\n",
              "      quickchartButtonEl.classList.remove('colab-df-spinner');\n",
              "      quickchartButtonEl.classList.add('colab-df-quickchart-complete');\n",
              "    }\n",
              "    (() => {\n",
              "      let quickchartButtonEl =\n",
              "        document.querySelector('#df-54025090-b3cc-46cc-b3bc-a498eda5adfe button');\n",
              "      quickchartButtonEl.style.display =\n",
              "        google.colab.kernel.accessAllowed ? 'block' : 'none';\n",
              "    })();\n",
              "  </script>\n",
              "</div>\n",
              "\n",
              "  <div id=\"id_a7d5873f-2af4-4012-a36f-c8f91ac1e668\">\n",
              "    <style>\n",
              "      .colab-df-generate {\n",
              "        background-color: #E8F0FE;\n",
              "        border: none;\n",
              "        border-radius: 50%;\n",
              "        cursor: pointer;\n",
              "        display: none;\n",
              "        fill: #1967D2;\n",
              "        height: 32px;\n",
              "        padding: 0 0 0 0;\n",
              "        width: 32px;\n",
              "      }\n",
              "\n",
              "      .colab-df-generate:hover {\n",
              "        background-color: #E2EBFA;\n",
              "        box-shadow: 0px 1px 2px rgba(60, 64, 67, 0.3), 0px 1px 3px 1px rgba(60, 64, 67, 0.15);\n",
              "        fill: #174EA6;\n",
              "      }\n",
              "\n",
              "      [theme=dark] .colab-df-generate {\n",
              "        background-color: #3B4455;\n",
              "        fill: #D2E3FC;\n",
              "      }\n",
              "\n",
              "      [theme=dark] .colab-df-generate:hover {\n",
              "        background-color: #434B5C;\n",
              "        box-shadow: 0px 1px 3px 1px rgba(0, 0, 0, 0.15);\n",
              "        filter: drop-shadow(0px 1px 2px rgba(0, 0, 0, 0.3));\n",
              "        fill: #FFFFFF;\n",
              "      }\n",
              "    </style>\n",
              "    <button class=\"colab-df-generate\" onclick=\"generateWithVariable('df_cleaned1')\"\n",
              "            title=\"Generate code using this dataframe.\"\n",
              "            style=\"display:none;\">\n",
              "\n",
              "  <svg xmlns=\"http://www.w3.org/2000/svg\" height=\"24px\"viewBox=\"0 0 24 24\"\n",
              "       width=\"24px\">\n",
              "    <path d=\"M7,19H8.4L18.45,9,17,7.55,7,17.6ZM5,21V16.75L18.45,3.32a2,2,0,0,1,2.83,0l1.4,1.43a1.91,1.91,0,0,1,.58,1.4,1.91,1.91,0,0,1-.58,1.4L9.25,21ZM18.45,9,17,7.55Zm-12,3A5.31,5.31,0,0,0,4.9,8.1,5.31,5.31,0,0,0,1,6.5,5.31,5.31,0,0,0,4.9,4.9,5.31,5.31,0,0,0,6.5,1,5.31,5.31,0,0,0,8.1,4.9,5.31,5.31,0,0,0,12,6.5,5.46,5.46,0,0,0,6.5,12Z\"/>\n",
              "  </svg>\n",
              "    </button>\n",
              "    <script>\n",
              "      (() => {\n",
              "      const buttonEl =\n",
              "        document.querySelector('#id_a7d5873f-2af4-4012-a36f-c8f91ac1e668 button.colab-df-generate');\n",
              "      buttonEl.style.display =\n",
              "        google.colab.kernel.accessAllowed ? 'block' : 'none';\n",
              "\n",
              "      buttonEl.onclick = () => {\n",
              "        google.colab.notebook.generateWithVariable('df_cleaned1');\n",
              "      }\n",
              "      })();\n",
              "    </script>\n",
              "  </div>\n",
              "\n",
              "    </div>\n",
              "  </div>\n"
            ],
            "application/vnd.google.colaboratory.intrinsic+json": {
              "type": "dataframe",
              "variable_name": "df_cleaned1"
            }
          },
          "metadata": {},
          "execution_count": 22
        }
      ],
      "source": [
        "df_cleaned1"
      ]
    },
    {
      "cell_type": "code",
      "execution_count": 23,
      "metadata": {
        "collapsed": true,
        "id": "1dZ0kh-yIzFE"
      },
      "outputs": [],
      "source": [
        "df_cleaned.drop(columns=['date'],inplace=True)\n"
      ]
    },
    {
      "cell_type": "code",
      "execution_count": 24,
      "metadata": {
        "id": "pgS480fXJztA",
        "colab": {
          "base_uri": "https://localhost:8080/",
          "height": 423
        },
        "outputId": "f7bec119-30d1-46d4-8241-1a8157d5537b"
      },
      "outputs": [
        {
          "output_type": "execute_result",
          "data": {
            "text/plain": [
              "             unix   symbol      open      high       low     close  \\\n",
              "33258  1526364000  BTC/USD   8733.86   8796.68   8707.28   8740.99   \n",
              "33257  1526367600  BTC/USD   8740.99   8766.00   8721.11   8739.00   \n",
              "33256  1526371200  BTC/USD   8739.00   8750.27   8660.53   8728.49   \n",
              "33255  1526374800  BTC/USD   8728.49   8754.40   8701.35   8708.32   \n",
              "33254  1526378400  BTC/USD   8708.32   8865.00   8695.11   8795.90   \n",
              "...           ...      ...       ...       ...       ...       ...   \n",
              "4      1646105880  BTC/USD  43077.82  43077.82  43049.46  43049.46   \n",
              "3      1646105940  BTC/USD  43035.16  43035.16  42999.44  42999.44   \n",
              "2      1646106000  BTC/USD  43022.24  43022.24  43016.03  43016.03   \n",
              "1      1646106060  BTC/USD  43018.23  43046.59  43018.23  43046.58   \n",
              "0      1646106180  BTC/USD  43046.58  43046.58  43046.58  43046.58   \n",
              "\n",
              "         Volume BTC    Volume USD  \n",
              "33258  4.906603e+06    559.930000  \n",
              "33257  2.390399e+06    273.580000  \n",
              "33256  7.986063e+06    917.790000  \n",
              "33255  1.593992e+06    182.620000  \n",
              "33254  1.110127e+07   1260.690000  \n",
              "...             ...           ...  \n",
              "4      2.221034e-02    956.143143  \n",
              "3      8.209500e-01  35300.390268  \n",
              "2      9.230000e-03    397.037957  \n",
              "1      1.429770e-01   6154.673021  \n",
              "0      0.000000e+00      0.000000  \n",
              "\n",
              "[557110 rows x 8 columns]"
            ],
            "text/html": [
              "\n",
              "  <div id=\"df-80a30ef8-4668-468b-84be-309d9b960061\" class=\"colab-df-container\">\n",
              "    <div>\n",
              "<style scoped>\n",
              "    .dataframe tbody tr th:only-of-type {\n",
              "        vertical-align: middle;\n",
              "    }\n",
              "\n",
              "    .dataframe tbody tr th {\n",
              "        vertical-align: top;\n",
              "    }\n",
              "\n",
              "    .dataframe thead th {\n",
              "        text-align: right;\n",
              "    }\n",
              "</style>\n",
              "<table border=\"1\" class=\"dataframe\">\n",
              "  <thead>\n",
              "    <tr style=\"text-align: right;\">\n",
              "      <th></th>\n",
              "      <th>unix</th>\n",
              "      <th>symbol</th>\n",
              "      <th>open</th>\n",
              "      <th>high</th>\n",
              "      <th>low</th>\n",
              "      <th>close</th>\n",
              "      <th>Volume BTC</th>\n",
              "      <th>Volume USD</th>\n",
              "    </tr>\n",
              "  </thead>\n",
              "  <tbody>\n",
              "    <tr>\n",
              "      <th>33258</th>\n",
              "      <td>1526364000</td>\n",
              "      <td>BTC/USD</td>\n",
              "      <td>8733.86</td>\n",
              "      <td>8796.68</td>\n",
              "      <td>8707.28</td>\n",
              "      <td>8740.99</td>\n",
              "      <td>4.906603e+06</td>\n",
              "      <td>559.930000</td>\n",
              "    </tr>\n",
              "    <tr>\n",
              "      <th>33257</th>\n",
              "      <td>1526367600</td>\n",
              "      <td>BTC/USD</td>\n",
              "      <td>8740.99</td>\n",
              "      <td>8766.00</td>\n",
              "      <td>8721.11</td>\n",
              "      <td>8739.00</td>\n",
              "      <td>2.390399e+06</td>\n",
              "      <td>273.580000</td>\n",
              "    </tr>\n",
              "    <tr>\n",
              "      <th>33256</th>\n",
              "      <td>1526371200</td>\n",
              "      <td>BTC/USD</td>\n",
              "      <td>8739.00</td>\n",
              "      <td>8750.27</td>\n",
              "      <td>8660.53</td>\n",
              "      <td>8728.49</td>\n",
              "      <td>7.986063e+06</td>\n",
              "      <td>917.790000</td>\n",
              "    </tr>\n",
              "    <tr>\n",
              "      <th>33255</th>\n",
              "      <td>1526374800</td>\n",
              "      <td>BTC/USD</td>\n",
              "      <td>8728.49</td>\n",
              "      <td>8754.40</td>\n",
              "      <td>8701.35</td>\n",
              "      <td>8708.32</td>\n",
              "      <td>1.593992e+06</td>\n",
              "      <td>182.620000</td>\n",
              "    </tr>\n",
              "    <tr>\n",
              "      <th>33254</th>\n",
              "      <td>1526378400</td>\n",
              "      <td>BTC/USD</td>\n",
              "      <td>8708.32</td>\n",
              "      <td>8865.00</td>\n",
              "      <td>8695.11</td>\n",
              "      <td>8795.90</td>\n",
              "      <td>1.110127e+07</td>\n",
              "      <td>1260.690000</td>\n",
              "    </tr>\n",
              "    <tr>\n",
              "      <th>...</th>\n",
              "      <td>...</td>\n",
              "      <td>...</td>\n",
              "      <td>...</td>\n",
              "      <td>...</td>\n",
              "      <td>...</td>\n",
              "      <td>...</td>\n",
              "      <td>...</td>\n",
              "      <td>...</td>\n",
              "    </tr>\n",
              "    <tr>\n",
              "      <th>4</th>\n",
              "      <td>1646105880</td>\n",
              "      <td>BTC/USD</td>\n",
              "      <td>43077.82</td>\n",
              "      <td>43077.82</td>\n",
              "      <td>43049.46</td>\n",
              "      <td>43049.46</td>\n",
              "      <td>2.221034e-02</td>\n",
              "      <td>956.143143</td>\n",
              "    </tr>\n",
              "    <tr>\n",
              "      <th>3</th>\n",
              "      <td>1646105940</td>\n",
              "      <td>BTC/USD</td>\n",
              "      <td>43035.16</td>\n",
              "      <td>43035.16</td>\n",
              "      <td>42999.44</td>\n",
              "      <td>42999.44</td>\n",
              "      <td>8.209500e-01</td>\n",
              "      <td>35300.390268</td>\n",
              "    </tr>\n",
              "    <tr>\n",
              "      <th>2</th>\n",
              "      <td>1646106000</td>\n",
              "      <td>BTC/USD</td>\n",
              "      <td>43022.24</td>\n",
              "      <td>43022.24</td>\n",
              "      <td>43016.03</td>\n",
              "      <td>43016.03</td>\n",
              "      <td>9.230000e-03</td>\n",
              "      <td>397.037957</td>\n",
              "    </tr>\n",
              "    <tr>\n",
              "      <th>1</th>\n",
              "      <td>1646106060</td>\n",
              "      <td>BTC/USD</td>\n",
              "      <td>43018.23</td>\n",
              "      <td>43046.59</td>\n",
              "      <td>43018.23</td>\n",
              "      <td>43046.58</td>\n",
              "      <td>1.429770e-01</td>\n",
              "      <td>6154.673021</td>\n",
              "    </tr>\n",
              "    <tr>\n",
              "      <th>0</th>\n",
              "      <td>1646106180</td>\n",
              "      <td>BTC/USD</td>\n",
              "      <td>43046.58</td>\n",
              "      <td>43046.58</td>\n",
              "      <td>43046.58</td>\n",
              "      <td>43046.58</td>\n",
              "      <td>0.000000e+00</td>\n",
              "      <td>0.000000</td>\n",
              "    </tr>\n",
              "  </tbody>\n",
              "</table>\n",
              "<p>557110 rows × 8 columns</p>\n",
              "</div>\n",
              "    <div class=\"colab-df-buttons\">\n",
              "\n",
              "  <div class=\"colab-df-container\">\n",
              "    <button class=\"colab-df-convert\" onclick=\"convertToInteractive('df-80a30ef8-4668-468b-84be-309d9b960061')\"\n",
              "            title=\"Convert this dataframe to an interactive table.\"\n",
              "            style=\"display:none;\">\n",
              "\n",
              "  <svg xmlns=\"http://www.w3.org/2000/svg\" height=\"24px\" viewBox=\"0 -960 960 960\">\n",
              "    <path d=\"M120-120v-720h720v720H120Zm60-500h600v-160H180v160Zm220 220h160v-160H400v160Zm0 220h160v-160H400v160ZM180-400h160v-160H180v160Zm440 0h160v-160H620v160ZM180-180h160v-160H180v160Zm440 0h160v-160H620v160Z\"/>\n",
              "  </svg>\n",
              "    </button>\n",
              "\n",
              "  <style>\n",
              "    .colab-df-container {\n",
              "      display:flex;\n",
              "      gap: 12px;\n",
              "    }\n",
              "\n",
              "    .colab-df-convert {\n",
              "      background-color: #E8F0FE;\n",
              "      border: none;\n",
              "      border-radius: 50%;\n",
              "      cursor: pointer;\n",
              "      display: none;\n",
              "      fill: #1967D2;\n",
              "      height: 32px;\n",
              "      padding: 0 0 0 0;\n",
              "      width: 32px;\n",
              "    }\n",
              "\n",
              "    .colab-df-convert:hover {\n",
              "      background-color: #E2EBFA;\n",
              "      box-shadow: 0px 1px 2px rgba(60, 64, 67, 0.3), 0px 1px 3px 1px rgba(60, 64, 67, 0.15);\n",
              "      fill: #174EA6;\n",
              "    }\n",
              "\n",
              "    .colab-df-buttons div {\n",
              "      margin-bottom: 4px;\n",
              "    }\n",
              "\n",
              "    [theme=dark] .colab-df-convert {\n",
              "      background-color: #3B4455;\n",
              "      fill: #D2E3FC;\n",
              "    }\n",
              "\n",
              "    [theme=dark] .colab-df-convert:hover {\n",
              "      background-color: #434B5C;\n",
              "      box-shadow: 0px 1px 3px 1px rgba(0, 0, 0, 0.15);\n",
              "      filter: drop-shadow(0px 1px 2px rgba(0, 0, 0, 0.3));\n",
              "      fill: #FFFFFF;\n",
              "    }\n",
              "  </style>\n",
              "\n",
              "    <script>\n",
              "      const buttonEl =\n",
              "        document.querySelector('#df-80a30ef8-4668-468b-84be-309d9b960061 button.colab-df-convert');\n",
              "      buttonEl.style.display =\n",
              "        google.colab.kernel.accessAllowed ? 'block' : 'none';\n",
              "\n",
              "      async function convertToInteractive(key) {\n",
              "        const element = document.querySelector('#df-80a30ef8-4668-468b-84be-309d9b960061');\n",
              "        const dataTable =\n",
              "          await google.colab.kernel.invokeFunction('convertToInteractive',\n",
              "                                                    [key], {});\n",
              "        if (!dataTable) return;\n",
              "\n",
              "        const docLinkHtml = 'Like what you see? Visit the ' +\n",
              "          '<a target=\"_blank\" href=https://colab.research.google.com/notebooks/data_table.ipynb>data table notebook</a>'\n",
              "          + ' to learn more about interactive tables.';\n",
              "        element.innerHTML = '';\n",
              "        dataTable['output_type'] = 'display_data';\n",
              "        await google.colab.output.renderOutput(dataTable, element);\n",
              "        const docLink = document.createElement('div');\n",
              "        docLink.innerHTML = docLinkHtml;\n",
              "        element.appendChild(docLink);\n",
              "      }\n",
              "    </script>\n",
              "  </div>\n",
              "\n",
              "\n",
              "<div id=\"df-d826f36c-8a08-4f66-b000-86d66aec353a\">\n",
              "  <button class=\"colab-df-quickchart\" onclick=\"quickchart('df-d826f36c-8a08-4f66-b000-86d66aec353a')\"\n",
              "            title=\"Suggest charts\"\n",
              "            style=\"display:none;\">\n",
              "\n",
              "<svg xmlns=\"http://www.w3.org/2000/svg\" height=\"24px\"viewBox=\"0 0 24 24\"\n",
              "     width=\"24px\">\n",
              "    <g>\n",
              "        <path d=\"M19 3H5c-1.1 0-2 .9-2 2v14c0 1.1.9 2 2 2h14c1.1 0 2-.9 2-2V5c0-1.1-.9-2-2-2zM9 17H7v-7h2v7zm4 0h-2V7h2v10zm4 0h-2v-4h2v4z\"/>\n",
              "    </g>\n",
              "</svg>\n",
              "  </button>\n",
              "\n",
              "<style>\n",
              "  .colab-df-quickchart {\n",
              "      --bg-color: #E8F0FE;\n",
              "      --fill-color: #1967D2;\n",
              "      --hover-bg-color: #E2EBFA;\n",
              "      --hover-fill-color: #174EA6;\n",
              "      --disabled-fill-color: #AAA;\n",
              "      --disabled-bg-color: #DDD;\n",
              "  }\n",
              "\n",
              "  [theme=dark] .colab-df-quickchart {\n",
              "      --bg-color: #3B4455;\n",
              "      --fill-color: #D2E3FC;\n",
              "      --hover-bg-color: #434B5C;\n",
              "      --hover-fill-color: #FFFFFF;\n",
              "      --disabled-bg-color: #3B4455;\n",
              "      --disabled-fill-color: #666;\n",
              "  }\n",
              "\n",
              "  .colab-df-quickchart {\n",
              "    background-color: var(--bg-color);\n",
              "    border: none;\n",
              "    border-radius: 50%;\n",
              "    cursor: pointer;\n",
              "    display: none;\n",
              "    fill: var(--fill-color);\n",
              "    height: 32px;\n",
              "    padding: 0;\n",
              "    width: 32px;\n",
              "  }\n",
              "\n",
              "  .colab-df-quickchart:hover {\n",
              "    background-color: var(--hover-bg-color);\n",
              "    box-shadow: 0 1px 2px rgba(60, 64, 67, 0.3), 0 1px 3px 1px rgba(60, 64, 67, 0.15);\n",
              "    fill: var(--button-hover-fill-color);\n",
              "  }\n",
              "\n",
              "  .colab-df-quickchart-complete:disabled,\n",
              "  .colab-df-quickchart-complete:disabled:hover {\n",
              "    background-color: var(--disabled-bg-color);\n",
              "    fill: var(--disabled-fill-color);\n",
              "    box-shadow: none;\n",
              "  }\n",
              "\n",
              "  .colab-df-spinner {\n",
              "    border: 2px solid var(--fill-color);\n",
              "    border-color: transparent;\n",
              "    border-bottom-color: var(--fill-color);\n",
              "    animation:\n",
              "      spin 1s steps(1) infinite;\n",
              "  }\n",
              "\n",
              "  @keyframes spin {\n",
              "    0% {\n",
              "      border-color: transparent;\n",
              "      border-bottom-color: var(--fill-color);\n",
              "      border-left-color: var(--fill-color);\n",
              "    }\n",
              "    20% {\n",
              "      border-color: transparent;\n",
              "      border-left-color: var(--fill-color);\n",
              "      border-top-color: var(--fill-color);\n",
              "    }\n",
              "    30% {\n",
              "      border-color: transparent;\n",
              "      border-left-color: var(--fill-color);\n",
              "      border-top-color: var(--fill-color);\n",
              "      border-right-color: var(--fill-color);\n",
              "    }\n",
              "    40% {\n",
              "      border-color: transparent;\n",
              "      border-right-color: var(--fill-color);\n",
              "      border-top-color: var(--fill-color);\n",
              "    }\n",
              "    60% {\n",
              "      border-color: transparent;\n",
              "      border-right-color: var(--fill-color);\n",
              "    }\n",
              "    80% {\n",
              "      border-color: transparent;\n",
              "      border-right-color: var(--fill-color);\n",
              "      border-bottom-color: var(--fill-color);\n",
              "    }\n",
              "    90% {\n",
              "      border-color: transparent;\n",
              "      border-bottom-color: var(--fill-color);\n",
              "    }\n",
              "  }\n",
              "</style>\n",
              "\n",
              "  <script>\n",
              "    async function quickchart(key) {\n",
              "      const quickchartButtonEl =\n",
              "        document.querySelector('#' + key + ' button');\n",
              "      quickchartButtonEl.disabled = true;  // To prevent multiple clicks.\n",
              "      quickchartButtonEl.classList.add('colab-df-spinner');\n",
              "      try {\n",
              "        const charts = await google.colab.kernel.invokeFunction(\n",
              "            'suggestCharts', [key], {});\n",
              "      } catch (error) {\n",
              "        console.error('Error during call to suggestCharts:', error);\n",
              "      }\n",
              "      quickchartButtonEl.classList.remove('colab-df-spinner');\n",
              "      quickchartButtonEl.classList.add('colab-df-quickchart-complete');\n",
              "    }\n",
              "    (() => {\n",
              "      let quickchartButtonEl =\n",
              "        document.querySelector('#df-d826f36c-8a08-4f66-b000-86d66aec353a button');\n",
              "      quickchartButtonEl.style.display =\n",
              "        google.colab.kernel.accessAllowed ? 'block' : 'none';\n",
              "    })();\n",
              "  </script>\n",
              "</div>\n",
              "\n",
              "  <div id=\"id_07702d34-742a-495c-9980-e8e95faf59a9\">\n",
              "    <style>\n",
              "      .colab-df-generate {\n",
              "        background-color: #E8F0FE;\n",
              "        border: none;\n",
              "        border-radius: 50%;\n",
              "        cursor: pointer;\n",
              "        display: none;\n",
              "        fill: #1967D2;\n",
              "        height: 32px;\n",
              "        padding: 0 0 0 0;\n",
              "        width: 32px;\n",
              "      }\n",
              "\n",
              "      .colab-df-generate:hover {\n",
              "        background-color: #E2EBFA;\n",
              "        box-shadow: 0px 1px 2px rgba(60, 64, 67, 0.3), 0px 1px 3px 1px rgba(60, 64, 67, 0.15);\n",
              "        fill: #174EA6;\n",
              "      }\n",
              "\n",
              "      [theme=dark] .colab-df-generate {\n",
              "        background-color: #3B4455;\n",
              "        fill: #D2E3FC;\n",
              "      }\n",
              "\n",
              "      [theme=dark] .colab-df-generate:hover {\n",
              "        background-color: #434B5C;\n",
              "        box-shadow: 0px 1px 3px 1px rgba(0, 0, 0, 0.15);\n",
              "        filter: drop-shadow(0px 1px 2px rgba(0, 0, 0, 0.3));\n",
              "        fill: #FFFFFF;\n",
              "      }\n",
              "    </style>\n",
              "    <button class=\"colab-df-generate\" onclick=\"generateWithVariable('btc_usdt_data')\"\n",
              "            title=\"Generate code using this dataframe.\"\n",
              "            style=\"display:none;\">\n",
              "\n",
              "  <svg xmlns=\"http://www.w3.org/2000/svg\" height=\"24px\"viewBox=\"0 0 24 24\"\n",
              "       width=\"24px\">\n",
              "    <path d=\"M7,19H8.4L18.45,9,17,7.55,7,17.6ZM5,21V16.75L18.45,3.32a2,2,0,0,1,2.83,0l1.4,1.43a1.91,1.91,0,0,1,.58,1.4,1.91,1.91,0,0,1-.58,1.4L9.25,21ZM18.45,9,17,7.55Zm-12,3A5.31,5.31,0,0,0,4.9,8.1,5.31,5.31,0,0,0,1,6.5,5.31,5.31,0,0,0,4.9,4.9,5.31,5.31,0,0,0,6.5,1,5.31,5.31,0,0,0,8.1,4.9,5.31,5.31,0,0,0,12,6.5,5.46,5.46,0,0,0,6.5,12Z\"/>\n",
              "  </svg>\n",
              "    </button>\n",
              "    <script>\n",
              "      (() => {\n",
              "      const buttonEl =\n",
              "        document.querySelector('#id_07702d34-742a-495c-9980-e8e95faf59a9 button.colab-df-generate');\n",
              "      buttonEl.style.display =\n",
              "        google.colab.kernel.accessAllowed ? 'block' : 'none';\n",
              "\n",
              "      buttonEl.onclick = () => {\n",
              "        google.colab.notebook.generateWithVariable('btc_usdt_data');\n",
              "      }\n",
              "      })();\n",
              "    </script>\n",
              "  </div>\n",
              "\n",
              "    </div>\n",
              "  </div>\n"
            ],
            "application/vnd.google.colaboratory.intrinsic+json": {
              "type": "dataframe",
              "variable_name": "btc_usdt_data"
            }
          },
          "metadata": {},
          "execution_count": 24
        }
      ],
      "source": [
        "df_cleaned"
      ]
    },
    {
      "cell_type": "code",
      "execution_count": 25,
      "metadata": {
        "id": "9Hq18sd5Ss0X"
      },
      "outputs": [],
      "source": [
        "df_cleanedcopy = df_cleaned1.copy()\n"
      ]
    },
    {
      "cell_type": "code",
      "execution_count": 26,
      "metadata": {
        "id": "xLsqSI1dWM_o",
        "colab": {
          "base_uri": "https://localhost:8080/"
        },
        "outputId": "a4d42500-ea85-4048-c6fd-cde5d1205842"
      },
      "outputs": [
        {
          "output_type": "stream",
          "name": "stdout",
          "text": [
            "<class 'pandas.core.frame.DataFrame'>\n",
            "Index: 557109 entries, 33258 to 0\n",
            "Data columns (total 13 columns):\n",
            " #   Column      Non-Null Count   Dtype         \n",
            "---  ------      --------------   -----         \n",
            " 0   unix        557109 non-null  int64         \n",
            " 1   date        557109 non-null  datetime64[ns]\n",
            " 2   symbol      557109 non-null  object        \n",
            " 3   open        557109 non-null  float64       \n",
            " 4   high        557109 non-null  float64       \n",
            " 5   low         557109 non-null  float64       \n",
            " 6   close       557109 non-null  float64       \n",
            " 7   Volume BTC  557109 non-null  float64       \n",
            " 8   Volume USD  557109 non-null  float64       \n",
            " 9   year        557109 non-null  int32         \n",
            " 10  month       557109 non-null  int32         \n",
            " 11  day         557109 non-null  int32         \n",
            " 12  time        557109 non-null  object        \n",
            "dtypes: datetime64[ns](1), float64(6), int32(3), int64(1), object(2)\n",
            "memory usage: 53.1+ MB\n"
          ]
        }
      ],
      "source": [
        "df_cleaned1.info()"
      ]
    },
    {
      "cell_type": "code",
      "execution_count": 27,
      "metadata": {
        "id": "YWNGilr1BXIi",
        "colab": {
          "base_uri": "https://localhost:8080/"
        },
        "outputId": "451397bd-9caf-45c0-ef87-5f47e1807773"
      },
      "outputs": [
        {
          "output_type": "stream",
          "name": "stdout",
          "text": [
            "                    unix          open          high           low  \\\n",
            "unix        1.363543e+15  4.849736e+11  4.853547e+11  4.845636e+11   \n",
            "open        4.849736e+11  2.229356e+08  2.231608e+08  2.226880e+08   \n",
            "high        4.853547e+11  2.231608e+08  2.233894e+08  2.229120e+08   \n",
            "low         4.845636e+11  2.226880e+08  2.229120e+08  2.224450e+08   \n",
            "close       4.849776e+11  2.229355e+08  2.231625e+08  2.226899e+08   \n",
            "Volume BTC -1.715866e+12 -7.641806e+08 -7.587766e+08 -7.716251e+08   \n",
            "Volume USD  6.376584e+12  4.709951e+09  4.778248e+09  4.622086e+09   \n",
            "year        4.969497e+07  1.813230e+04  1.814713e+04  1.811635e+04   \n",
            "month      -7.845282e+07 -3.340328e+04 -3.343643e+04 -3.336770e+04   \n",
            "day         6.558348e+06  2.780846e+03  2.783451e+03  2.778032e+03   \n",
            "\n",
            "                   close    Volume BTC    Volume USD          year  \\\n",
            "unix        4.849776e+11 -1.715866e+12  6.376584e+12  4.969497e+07   \n",
            "open        2.229355e+08 -7.641806e+08  4.709951e+09  1.813230e+04   \n",
            "high        2.231625e+08 -7.587766e+08  4.778248e+09  1.814713e+04   \n",
            "low         2.226899e+08 -7.716251e+08  4.622086e+09  1.811635e+04   \n",
            "close       2.229389e+08 -7.649250e+08  4.708696e+09  1.813247e+04   \n",
            "Volume BTC -7.649250e+08  7.204939e+11 -2.124298e+10 -3.467091e+04   \n",
            "Volume USD  4.708696e+09 -2.124298e+10  3.704171e+12  2.567263e+05   \n",
            "year        1.813247e+04 -3.467091e+04  2.567263e+05  1.871312e+00   \n",
            "month      -3.340375e+04 -2.325066e+05 -6.531317e+05 -3.569125e+00   \n",
            "day         2.780464e+03 -6.696956e+04 -1.038250e+05 -1.542748e-01   \n",
            "\n",
            "                   month           day  \n",
            "unix       -7.845282e+07  6.558348e+06  \n",
            "open       -3.340328e+04  2.780846e+03  \n",
            "high       -3.343643e+04  2.783451e+03  \n",
            "low        -3.336770e+04  2.778032e+03  \n",
            "close      -3.340375e+04  2.780464e+03  \n",
            "Volume BTC -2.325066e+05 -6.696956e+04  \n",
            "Volume USD -6.531317e+05 -1.038250e+05  \n",
            "year       -3.569125e+00 -1.542748e-01  \n",
            "month       1.297034e+01  1.853028e+00  \n",
            "day         1.853028e+00  7.601351e+01  \n"
          ]
        },
        {
          "output_type": "stream",
          "name": "stderr",
          "text": [
            "<ipython-input-27-9e4bb0bad7c5>:1: SettingWithCopyWarning: \n",
            "A value is trying to be set on a copy of a slice from a DataFrame.\n",
            "Try using .loc[row_indexer,col_indexer] = value instead\n",
            "\n",
            "See the caveats in the documentation: https://pandas.pydata.org/pandas-docs/stable/user_guide/indexing.html#returning-a-view-versus-a-copy\n",
            "  df_cleaned1['unix'] = pd.to_numeric(df_cleaned1['unix'], errors='coerce')\n"
          ]
        }
      ],
      "source": [
        "\n",
        "df_cleaned1['unix'] = pd.to_numeric(df_cleaned1['unix'], errors='coerce')\n",
        "\n",
        "\n",
        "covariance_matrix = df_cleaned1.select_dtypes(include=['number']).cov()\n",
        "print(covariance_matrix)"
      ]
    },
    {
      "cell_type": "code",
      "execution_count": 28,
      "metadata": {
        "id": "dO39AWIbTCCz",
        "colab": {
          "base_uri": "https://localhost:8080/",
          "height": 616
        },
        "outputId": "78449a63-0c46-486d-f4ad-0efe1919b5f4"
      },
      "outputs": [
        {
          "output_type": "display_data",
          "data": {
            "text/plain": [
              "<Figure size 800x600 with 2 Axes>"
            ],
            "image/png": "[encoded data removed]"
          },
          "metadata": {}
        }
      ],
      "source": [
        "plt.figure(figsize=(8, 6))\n",
        "sns.heatmap(covariance_matrix, cmap='coolwarm', fmt='.2f', linewidths=0.5)\n",
        "plt.title('Covariance Matrix Heatmap')\n",
        "plt.show()"
      ]
    },
    {
      "cell_type": "code",
      "execution_count": 29,
      "metadata": {
        "id": "OZ9UAi_GhVdI",
        "colab": {
          "base_uri": "https://localhost:8080/"
        },
        "outputId": "64b5a47a-b710-48d1-d752-15941f18f447"
      },
      "outputs": [
        {
          "output_type": "stream",
          "name": "stderr",
          "text": [
            "<ipython-input-29-5809814db9ba>:1: SettingWithCopyWarning: \n",
            "A value is trying to be set on a copy of a slice from a DataFrame.\n",
            "Try using .loc[row_indexer,col_indexer] = value instead\n",
            "\n",
            "See the caveats in the documentation: https://pandas.pydata.org/pandas-docs/stable/user_guide/indexing.html#returning-a-view-versus-a-copy\n",
            "  df_cleaned1['unix'] = pd.to_numeric(df_cleaned1['unix'], errors='coerce')\n"
          ]
        },
        {
          "output_type": "stream",
          "name": "stdout",
          "text": [
            "                unix      open      high       low     close  Volume BTC  \\\n",
            "unix        1.000000  0.879618  0.879414  0.879843  0.879618   -0.054744   \n",
            "open        0.879618  1.000000  0.999993  0.999991  0.999992   -0.060296   \n",
            "high        0.879414  0.999993  1.000000  0.999979  0.999993   -0.059809   \n",
            "low         0.879843  0.999991  0.999979  1.000000  0.999992   -0.060951   \n",
            "close       0.879618  0.999992  0.999993  0.999992  1.000000   -0.060355   \n",
            "Volume BTC -0.054744 -0.060296 -0.059809 -0.060951 -0.060355    1.000000   \n",
            "Volume USD  0.089724  0.163901  0.166109  0.161021  0.163856   -0.013003   \n",
            "year        0.983796  0.887749  0.887572  0.887946  0.887750   -0.029859   \n",
            "month      -0.589927 -0.621189 -0.621174 -0.621211 -0.621193   -0.076058   \n",
            "day         0.020371  0.021362  0.021360  0.021364  0.021359   -0.009049   \n",
            "\n",
            "            Volume USD      year     month       day  \n",
            "unix          0.089724  0.983796 -0.589927  0.020371  \n",
            "open          0.163901  0.887749 -0.621189  0.021362  \n",
            "high          0.166109  0.887572 -0.621174  0.021360  \n",
            "low           0.161021  0.887946 -0.621211  0.021364  \n",
            "close         0.163856  0.887750 -0.621193  0.021359  \n",
            "Volume BTC   -0.013003 -0.029859 -0.076058 -0.009049  \n",
            "Volume USD    1.000000  0.097511 -0.094228 -0.006187  \n",
            "year          0.097511  1.000000 -0.724458 -0.012935  \n",
            "month        -0.094228 -0.724458  1.000000  0.059015  \n",
            "day          -0.006187 -0.012935  0.059015  1.000000  \n"
          ]
        }
      ],
      "source": [
        "\n",
        "df_cleaned1['unix'] = pd.to_numeric(df_cleaned1['unix'], errors='coerce')\n",
        "\n",
        "\n",
        "correlation_matrix = df_cleaned1.select_dtypes(include=['number']).corr()\n",
        "print(correlation_matrix)"
      ]
    },
    {
      "cell_type": "code",
      "execution_count": 30,
      "metadata": {
        "id": "Q2gh8MKUh4Jz",
        "colab": {
          "base_uri": "https://localhost:8080/",
          "height": 616
        },
        "outputId": "6d0db1a1-464c-4a1a-dfc9-165f7e4ea7e0"
      },
      "outputs": [
        {
          "output_type": "display_data",
          "data": {
            "text/plain": [
              "<Figure size 800x600 with 2 Axes>"
            ],
            "image/png": "[encoded data removed]"
          },
          "metadata": {}
        }
      ],
      "source": [
        "plt.figure(figsize=(8, 6))\n",
        "sns.heatmap(correlation_matrix, cmap='coolwarm', fmt='.2f', linewidths=0.5)\n",
        "plt.title('Correlation Matrix Heatmap')\n",
        "plt.show()"
      ]
    },
    {
      "cell_type": "markdown",
      "metadata": {
        "id": "tdSLUAn81_rE"
      },
      "source": [
        "***EDA:***"
      ]
    },
    {
      "cell_type": "code",
      "execution_count": 31,
      "metadata": {
        "id": "e2hXU--W2FzF",
        "colab": {
          "base_uri": "https://localhost:8080/"
        },
        "outputId": "dc279e91-0078-4a9d-948c-7ca16221f216"
      },
      "outputs": [
        {
          "output_type": "execute_result",
          "data": {
            "text/plain": [
              "count    557109.000000\n",
              "mean      16442.565838\n",
              "std       14931.026767\n",
              "min        3124.450000\n",
              "25%        6539.080000\n",
              "50%        8763.140000\n",
              "75%       22780.000000\n",
              "max       68635.050000\n",
              "Name: open, dtype: float64"
            ]
          },
          "metadata": {},
          "execution_count": 31
        }
      ],
      "source": [
        "df_cleaned1['open'].describe()"
      ]
    },
    {
      "cell_type": "code",
      "execution_count": 32,
      "metadata": {
        "id": "3UzZergrqgE1",
        "colab": {
          "base_uri": "https://localhost:8080/",
          "height": 449
        },
        "outputId": "2824b5f8-0cf8-4444-b794-5ef3d36851a1"
      },
      "outputs": [
        {
          "output_type": "execute_result",
          "data": {
            "text/plain": [
              "<Axes: ylabel='Density'>"
            ]
          },
          "metadata": {},
          "execution_count": 32
        },
        {
          "output_type": "display_data",
          "data": {
            "text/plain": [
              "<Figure size 640x480 with 1 Axes>"
            ],
            "image/png": "[encoded data removed]"
          },
          "metadata": {}
        }
      ],
      "source": [
        "df_cleaned1['open'].plot(kind='kde')"
      ]
    },
    {
      "cell_type": "code",
      "execution_count": 33,
      "metadata": {
        "id": "jG-yYS11XpTn",
        "colab": {
          "base_uri": "https://localhost:8080/"
        },
        "outputId": "2502ad59-362f-4cbe-f4ef-4b71cd82e20d"
      },
      "outputs": [
        {
          "output_type": "execute_result",
          "data": {
            "text/plain": [
              "1.218285052440898"
            ]
          },
          "metadata": {},
          "execution_count": 33
        }
      ],
      "source": [
        "df_cleaned1['open'].skew()"
      ]
    },
    {
      "cell_type": "code",
      "execution_count": 34,
      "metadata": {
        "id": "3_OUtou-XErG",
        "colab": {
          "base_uri": "https://localhost:8080/",
          "height": 472
        },
        "outputId": "7727e578-317c-4ed2-f71d-732a1edd5822"
      },
      "outputs": [
        {
          "output_type": "display_data",
          "data": {
            "text/plain": [
              "<Figure size 640x480 with 1 Axes>"
            ],
            "image/png": "[encoded data removed]"
          },
          "metadata": {}
        }
      ],
      "source": [
        "plt.scatter(df_cleaned1['year'],df_cleaned1['open'])\n",
        "plt.xlabel('year')\n",
        "plt.ylabel('open')\n",
        "plt.title('boxplot of open')\n",
        "plt.show()"
      ]
    },
    {
      "cell_type": "code",
      "execution_count": 35,
      "metadata": {
        "id": "9BB5A7iBUS66",
        "colab": {
          "base_uri": "https://localhost:8080/",
          "height": 472
        },
        "outputId": "3cd7d4b6-e34b-43a8-982b-12de7253d38a"
      },
      "outputs": [
        {
          "output_type": "display_data",
          "data": {
            "text/plain": [
              "<Figure size 640x480 with 1 Axes>"
            ],
            "image/png": "[encoded data removed]"
          },
          "metadata": {}
        }
      ],
      "source": [
        "plt.scatter(df_cleaned1['close'],df_cleaned1['open'])\n",
        "plt.xlabel('close')\n",
        "plt.ylabel('open')\n",
        "plt.title('boxplot of open')\n",
        "plt.show()"
      ]
    },
    {
      "cell_type": "code",
      "execution_count": 36,
      "metadata": {
        "id": "jtKD72fvWsVI",
        "colab": {
          "base_uri": "https://localhost:8080/",
          "height": 472
        },
        "outputId": "cfef593e-e72a-44b0-b4a9-1be9336c85a6"
      },
      "outputs": [
        {
          "output_type": "display_data",
          "data": {
            "text/plain": [
              "<Figure size 640x480 with 1 Axes>"
            ],
            "image/png": "[encoded data removed]"
          },
          "metadata": {}
        }
      ],
      "source": [
        "plt.scatter(df_cleaned1['low'],df_cleaned1['open'])\n",
        "plt.xlabel('low')\n",
        "plt.ylabel('open')\n",
        "plt.title('boxplot of open')\n",
        "plt.show()"
      ]
    },
    {
      "cell_type": "code",
      "execution_count": 37,
      "metadata": {
        "id": "uQ-l7V3UW4jX",
        "colab": {
          "base_uri": "https://localhost:8080/",
          "height": 472
        },
        "outputId": "e21cd770-715f-4260-f0e3-35ce44778804"
      },
      "outputs": [
        {
          "output_type": "display_data",
          "data": {
            "text/plain": [
              "<Figure size 640x480 with 1 Axes>"
            ],
            "image/png": "[encoded data removed]"
          },
          "metadata": {}
        }
      ],
      "source": [
        "plt.scatter(df_cleaned1['high'],df_cleaned1['open'])\n",
        "plt.xlabel('high')\n",
        "plt.ylabel('open')\n",
        "plt.title('boxplot of open')\n",
        "plt.show()"
      ]
    },
    {
      "cell_type": "code",
      "execution_count": 38,
      "metadata": {
        "id": "yEuZPlXe5DKP",
        "colab": {
          "base_uri": "https://localhost:8080/"
        },
        "outputId": "4bd8d01e-a2b9-44ea-f2e2-65c1a994e4ba"
      },
      "outputs": [
        {
          "output_type": "stream",
          "name": "stderr",
          "text": [
            "<ipython-input-38-e367e1ea88bb>:2: SettingWithCopyWarning: \n",
            "A value is trying to be set on a copy of a slice from a DataFrame.\n",
            "Try using .loc[row_indexer,col_indexer] = value instead\n",
            "\n",
            "See the caveats in the documentation: https://pandas.pydata.org/pandas-docs/stable/user_guide/indexing.html#returning-a-view-versus-a-copy\n",
            "  df_cleaned1['open1'] = pt.fit_transform(df_cleaned1[['open']])\n"
          ]
        },
        {
          "output_type": "execute_result",
          "data": {
            "text/plain": [
              "0.11098668228002545"
            ]
          },
          "metadata": {},
          "execution_count": 38
        }
      ],
      "source": [
        "pt = PowerTransformer(method='yeo-johnson')\n",
        "df_cleaned1['open1'] = pt.fit_transform(df_cleaned1[['open']])\n",
        "df_cleaned1['open1'].skew()\n"
      ]
    },
    {
      "cell_type": "code",
      "execution_count": 39,
      "metadata": {
        "id": "QG9HUT-cWJVG",
        "colab": {
          "base_uri": "https://localhost:8080/",
          "height": 472
        },
        "outputId": "67eddbf2-2a6c-42f1-d01f-37dddf6402a9"
      },
      "outputs": [
        {
          "output_type": "display_data",
          "data": {
            "text/plain": [
              "<Figure size 640x480 with 1 Axes>"
            ],
            "image/png": "[encoded data removed]"
          },
          "metadata": {}
        }
      ],
      "source": [
        "plt.scatter(df_cleaned1['year'],df_cleaned1['open'])\n",
        "plt.xlabel('close')\n",
        "plt.ylabel('open')\n",
        "plt.title('boxplot of open')\n",
        "plt.show()"
      ]
    },
    {
      "cell_type": "code",
      "execution_count": 40,
      "metadata": {
        "id": "B_Mz4-E1XZbu"
      },
      "outputs": [],
      "source": [
        "#CONCLUSION-this concludes that outliers are not present in open column and skewness is not indicating any outliers"
      ]
    },
    {
      "cell_type": "code",
      "execution_count": 41,
      "metadata": {
        "id": "oMytxSBTBrLQ",
        "colab": {
          "base_uri": "https://localhost:8080/"
        },
        "outputId": "4cfb2dd5-07ef-41ed-f3d3-0ed791c314b3"
      },
      "outputs": [
        {
          "output_type": "execute_result",
          "data": {
            "text/plain": [
              "count    557109.000000\n",
              "mean      16456.122399\n",
              "std       14946.218495\n",
              "min        3131.860000\n",
              "25%        6540.260000\n",
              "50%        8769.760000\n",
              "75%       22802.850000\n",
              "max       69000.000000\n",
              "Name: high, dtype: float64"
            ]
          },
          "metadata": {},
          "execution_count": 41
        }
      ],
      "source": [
        "df_cleaned1['high'].describe()"
      ]
    },
    {
      "cell_type": "code",
      "execution_count": 42,
      "metadata": {
        "id": "AvCBos5AB3Ye",
        "colab": {
          "base_uri": "https://localhost:8080/",
          "height": 449
        },
        "outputId": "b44f25e8-f4f0-4040-8485-af05caeb510c"
      },
      "outputs": [
        {
          "output_type": "execute_result",
          "data": {
            "text/plain": [
              "<Axes: ylabel='Density'>"
            ]
          },
          "metadata": {},
          "execution_count": 42
        },
        {
          "output_type": "display_data",
          "data": {
            "text/plain": [
              "<Figure size 640x480 with 1 Axes>"
            ],
            "image/png": "[encoded data removed]"
          },
          "metadata": {}
        }
      ],
      "source": [
        "df_cleaned1['high'].plot(kind='kde')"
      ]
    },
    {
      "cell_type": "code",
      "execution_count": 43,
      "metadata": {
        "id": "o7FLIKPgCJX8",
        "colab": {
          "base_uri": "https://localhost:8080/"
        },
        "outputId": "25420fa9-4e4e-417e-9133-8363e23a8a22"
      },
      "outputs": [
        {
          "output_type": "execute_result",
          "data": {
            "text/plain": [
              "1.2190463001898344"
            ]
          },
          "metadata": {},
          "execution_count": 43
        }
      ],
      "source": [
        "df_cleaned1['high'].skew()"
      ]
    },
    {
      "cell_type": "code",
      "execution_count": 44,
      "metadata": {
        "id": "xV44F7PPX2qr",
        "colab": {
          "base_uri": "https://localhost:8080/",
          "height": 472
        },
        "outputId": "9fdb5ea4-203b-44ff-84e5-43aadb862305"
      },
      "outputs": [
        {
          "output_type": "display_data",
          "data": {
            "text/plain": [
              "<Figure size 640x480 with 1 Axes>"
            ],
            "image/png": "[encoded data removed]"
          },
          "metadata": {}
        }
      ],
      "source": [
        "plt.scatter(df_cleaned1['year'],df_cleaned1['high'])\n",
        "plt.xlabel('year')\n",
        "plt.ylabel('high')\n",
        "plt.title('boxplot of high')\n",
        "plt.show()"
      ]
    },
    {
      "cell_type": "code",
      "execution_count": 45,
      "metadata": {
        "id": "2FY5Sy1yYBtx",
        "colab": {
          "base_uri": "https://localhost:8080/",
          "height": 472
        },
        "outputId": "e56d936c-8855-4816-f27c-063d5ba96395"
      },
      "outputs": [
        {
          "output_type": "display_data",
          "data": {
            "text/plain": [
              "<Figure size 640x480 with 1 Axes>"
            ],
            "image/png": "[encoded data removed]"
          },
          "metadata": {}
        }
      ],
      "source": [
        "plt.scatter(df_cleaned1['close'],df_cleaned1['high'])\n",
        "plt.xlabel('close')\n",
        "plt.ylabel('high')\n",
        "plt.title('boxplot of high')\n",
        "plt.show()"
      ]
    },
    {
      "cell_type": "code",
      "execution_count": 46,
      "metadata": {
        "id": "TbrR4Pxm5WRY",
        "colab": {
          "base_uri": "https://localhost:8080/"
        },
        "outputId": "628f9b74-776b-4b56-cc38-68b708a630b8"
      },
      "outputs": [
        {
          "output_type": "stream",
          "name": "stderr",
          "text": [
            "<ipython-input-46-8db99df69954>:2: SettingWithCopyWarning: \n",
            "A value is trying to be set on a copy of a slice from a DataFrame.\n",
            "Try using .loc[row_indexer,col_indexer] = value instead\n",
            "\n",
            "See the caveats in the documentation: https://pandas.pydata.org/pandas-docs/stable/user_guide/indexing.html#returning-a-view-versus-a-copy\n",
            "  df_cleaned1['high1'] = pt.fit_transform(df_cleaned1[['high']])\n"
          ]
        },
        {
          "output_type": "execute_result",
          "data": {
            "text/plain": [
              "0.11108922967855378"
            ]
          },
          "metadata": {},
          "execution_count": 46
        }
      ],
      "source": [
        "pt = PowerTransformer(method='yeo-johnson')\n",
        "df_cleaned1['high1'] = pt.fit_transform(df_cleaned1[['high']])\n",
        "df_cleaned1['high1'].skew()\n"
      ]
    },
    {
      "cell_type": "code",
      "execution_count": 47,
      "metadata": {
        "id": "it6vKVfUEWNS",
        "colab": {
          "base_uri": "https://localhost:8080/"
        },
        "outputId": "c5ede5ac-cfce-4494-b7f8-b40fbf384d34"
      },
      "outputs": [
        {
          "output_type": "execute_result",
          "data": {
            "text/plain": [
              "count    557109.000000\n",
              "mean      16428.367086\n",
              "std       14914.588771\n",
              "min        3122.280000\n",
              "25%        6537.970000\n",
              "50%        8757.840000\n",
              "75%       22753.060000\n",
              "max       68447.000000\n",
              "Name: low, dtype: float64"
            ]
          },
          "metadata": {},
          "execution_count": 47
        }
      ],
      "source": [
        "df_cleaned1['low'].describe()"
      ]
    },
    {
      "cell_type": "code",
      "execution_count": 48,
      "metadata": {
        "id": "s3SX3EmkEbTx",
        "colab": {
          "base_uri": "https://localhost:8080/",
          "height": 448
        },
        "outputId": "b16c6403-e4f0-4193-dacd-ace106b5c81e"
      },
      "outputs": [
        {
          "output_type": "execute_result",
          "data": {
            "text/plain": [
              "<Axes: ylabel='Density'>"
            ]
          },
          "metadata": {},
          "execution_count": 48
        },
        {
          "output_type": "display_data",
          "data": {
            "text/plain": [
              "<Figure size 640x480 with 1 Axes>"
            ],
            "image/png": "[encoded data removed]"
          },
          "metadata": {}
        }
      ],
      "source": [
        "df_cleaned1['low'].plot(kind='kde')"
      ]
    },
    {
      "cell_type": "code",
      "execution_count": 49,
      "metadata": {
        "id": "JODUwzSjElT5",
        "colab": {
          "base_uri": "https://localhost:8080/"
        },
        "outputId": "9e0bf393-1532-4551-f67f-c55d31ce1f1d"
      },
      "outputs": [
        {
          "output_type": "execute_result",
          "data": {
            "text/plain": [
              "1.217462346065769"
            ]
          },
          "metadata": {},
          "execution_count": 49
        }
      ],
      "source": [
        "df_cleaned1['low'].skew()"
      ]
    },
    {
      "cell_type": "code",
      "execution_count": 50,
      "metadata": {
        "id": "lIHhpPBAYVbY",
        "colab": {
          "base_uri": "https://localhost:8080/",
          "height": 472
        },
        "outputId": "23899a66-a6e2-451f-ed33-5b7da09790e7"
      },
      "outputs": [
        {
          "output_type": "display_data",
          "data": {
            "text/plain": [
              "<Figure size 640x480 with 1 Axes>"
            ],
            "image/png": "[encoded data removed]"
          },
          "metadata": {}
        }
      ],
      "source": [
        "plt.scatter(df_cleaned1['year'],df_cleaned1['low'])\n",
        "plt.xlabel('year')\n",
        "plt.ylabel('close')\n",
        "plt.title('boxplot of low')\n",
        "plt.show()"
      ]
    },
    {
      "cell_type": "code",
      "execution_count": 51,
      "metadata": {
        "id": "6id0AyCX5hRQ",
        "colab": {
          "base_uri": "https://localhost:8080/"
        },
        "outputId": "55015f8e-d32a-4ae9-9140-cdc3c18c485c"
      },
      "outputs": [
        {
          "output_type": "stream",
          "name": "stderr",
          "text": [
            "<ipython-input-51-f8a2b00fdbca>:2: SettingWithCopyWarning: \n",
            "A value is trying to be set on a copy of a slice from a DataFrame.\n",
            "Try using .loc[row_indexer,col_indexer] = value instead\n",
            "\n",
            "See the caveats in the documentation: https://pandas.pydata.org/pandas-docs/stable/user_guide/indexing.html#returning-a-view-versus-a-copy\n",
            "  df_cleaned1['low1'] = pt.fit_transform(df_cleaned1[['low']])\n"
          ]
        },
        {
          "output_type": "execute_result",
          "data": {
            "text/plain": [
              "0.11086986272225549"
            ]
          },
          "metadata": {},
          "execution_count": 51
        }
      ],
      "source": [
        "pt = PowerTransformer(method='yeo-johnson')\n",
        "df_cleaned1['low1'] = pt.fit_transform(df_cleaned1[['low']])\n",
        "df_cleaned1['low1'].skew()\n"
      ]
    },
    {
      "cell_type": "code",
      "execution_count": 52,
      "metadata": {
        "id": "lEd-YWg0FBSn",
        "colab": {
          "base_uri": "https://localhost:8080/"
        },
        "outputId": "293a323c-dc39-47b5-c58e-61de656fa5d0"
      },
      "outputs": [
        {
          "output_type": "execute_result",
          "data": {
            "text/plain": [
              "count    557109.000000\n",
              "mean      16442.686561\n",
              "std       14931.138923\n",
              "min        3124.450000\n",
              "25%        6539.230000\n",
              "50%        8763.480000\n",
              "75%       22779.940000\n",
              "max       68627.010000\n",
              "Name: close, dtype: float64"
            ]
          },
          "metadata": {},
          "execution_count": 52
        }
      ],
      "source": [
        "df_cleaned1['close'].describe()"
      ]
    },
    {
      "cell_type": "code",
      "execution_count": 53,
      "metadata": {
        "id": "DcoYQlp7FL83",
        "colab": {
          "base_uri": "https://localhost:8080/",
          "height": 449
        },
        "outputId": "5e077a7d-d84d-424a-cc84-3a2cc7f61df4"
      },
      "outputs": [
        {
          "output_type": "execute_result",
          "data": {
            "text/plain": [
              "<Axes: ylabel='Density'>"
            ]
          },
          "metadata": {},
          "execution_count": 53
        },
        {
          "output_type": "display_data",
          "data": {
            "text/plain": [
              "<Figure size 640x480 with 1 Axes>"
            ],
            "image/png": "[encoded data removed]"
          },
          "metadata": {}
        }
      ],
      "source": [
        "df_cleaned1['close'].plot(kind='kde')"
      ]
    },
    {
      "cell_type": "code",
      "execution_count": 54,
      "metadata": {
        "id": "5iClc6KoFUlm",
        "colab": {
          "base_uri": "https://localhost:8080/"
        },
        "outputId": "68248800-71fa-4297-d967-c78864df6f3b"
      },
      "outputs": [
        {
          "output_type": "execute_result",
          "data": {
            "text/plain": [
              "1.218262384300964"
            ]
          },
          "metadata": {},
          "execution_count": 54
        }
      ],
      "source": [
        "df_cleaned1['close'].skew()"
      ]
    },
    {
      "cell_type": "code",
      "execution_count": 55,
      "metadata": {
        "id": "1znV2b08YglL",
        "colab": {
          "base_uri": "https://localhost:8080/",
          "height": 472
        },
        "outputId": "83601076-adfb-43c0-8426-d0808da2a5ed"
      },
      "outputs": [
        {
          "output_type": "display_data",
          "data": {
            "text/plain": [
              "<Figure size 640x480 with 1 Axes>"
            ],
            "image/png": "[encoded data removed]"
          },
          "metadata": {}
        }
      ],
      "source": [
        "plt.scatter(df_cleaned1['year'],df_cleaned1['close'])\n",
        "plt.xlabel('year')\n",
        "plt.ylabel('close')\n",
        "plt.title('boxplot of close')\n",
        "plt.show()"
      ]
    },
    {
      "cell_type": "code",
      "execution_count": 56,
      "metadata": {
        "id": "2FY0JNOXYx8h",
        "colab": {
          "base_uri": "https://localhost:8080/"
        },
        "outputId": "52cb0a24-db9a-44c9-db7b-c855add856bf"
      },
      "outputs": [
        {
          "output_type": "stream",
          "name": "stderr",
          "text": [
            "<ipython-input-56-cd785b6b5180>:2: SettingWithCopyWarning: \n",
            "A value is trying to be set on a copy of a slice from a DataFrame.\n",
            "Try using .loc[row_indexer,col_indexer] = value instead\n",
            "\n",
            "See the caveats in the documentation: https://pandas.pydata.org/pandas-docs/stable/user_guide/indexing.html#returning-a-view-versus-a-copy\n",
            "  df_cleaned1['close1'] = pt.fit_transform(df_cleaned1[['close']])\n"
          ]
        },
        {
          "output_type": "execute_result",
          "data": {
            "text/plain": [
              "0.11100024321724275"
            ]
          },
          "metadata": {},
          "execution_count": 56
        }
      ],
      "source": [
        "pt = PowerTransformer(method='yeo-johnson')\n",
        "df_cleaned1['close1'] = pt.fit_transform(df_cleaned1[['close']])\n",
        "df_cleaned1['close1'].skew()\n"
      ]
    },
    {
      "cell_type": "code",
      "execution_count": 57,
      "metadata": {
        "id": "y2VvricvFgoX",
        "colab": {
          "base_uri": "https://localhost:8080/"
        },
        "outputId": "a860edab-78f2-4bd5-c5f6-4eb9a06bd447"
      },
      "outputs": [
        {
          "output_type": "execute_result",
          "data": {
            "text/plain": [
              "count    5.571090e+05\n",
              "mean     9.626200e+04\n",
              "std      8.488191e+05\n",
              "min      0.000000e+00\n",
              "25%      1.256519e-01\n",
              "50%      9.663555e-01\n",
              "75%      4.726783e+00\n",
              "max      6.857061e+07\n",
              "Name: Volume BTC, dtype: float64"
            ]
          },
          "metadata": {},
          "execution_count": 57
        }
      ],
      "source": [
        "df_cleaned1['Volume BTC'].describe()"
      ]
    },
    {
      "cell_type": "code",
      "execution_count": 58,
      "metadata": {
        "id": "nYwnLT4dF9te",
        "colab": {
          "base_uri": "https://localhost:8080/",
          "height": 480
        },
        "outputId": "547f97a6-af98-42f5-d5f0-8a452355ccee"
      },
      "outputs": [
        {
          "output_type": "execute_result",
          "data": {
            "text/plain": [
              "<Axes: ylabel='Density'>"
            ]
          },
          "metadata": {},
          "execution_count": 58
        },
        {
          "output_type": "display_data",
          "data": {
            "text/plain": [
              "<Figure size 640x480 with 1 Axes>"
            ],
            "image/png": "[encoded data removed]"
          },
          "metadata": {}
        }
      ],
      "source": [
        "df_cleaned1['Volume BTC'].plot(kind='kde')"
      ]
    },
    {
      "cell_type": "code",
      "execution_count": 59,
      "metadata": {
        "id": "B9Gs_5Z3GHQS",
        "colab": {
          "base_uri": "https://localhost:8080/"
        },
        "outputId": "cf264b69-e626-4536-874a-bc720b3db382"
      },
      "outputs": [
        {
          "output_type": "execute_result",
          "data": {
            "text/plain": [
              "21.467955637285385"
            ]
          },
          "metadata": {},
          "execution_count": 59
        }
      ],
      "source": [
        "df_cleaned1['Volume BTC'].skew()"
      ]
    },
    {
      "cell_type": "code",
      "execution_count": 60,
      "metadata": {
        "id": "7AA6-FJkebIZ",
        "colab": {
          "base_uri": "https://localhost:8080/"
        },
        "outputId": "4f6ee3a7-3f2e-4db3-d38e-6d548d1883eb"
      },
      "outputs": [
        {
          "output_type": "stream",
          "name": "stdout",
          "text": [
            "Lower Bound for Outliers: -6.776044365\n",
            "Upper Bound for Outliers: 11.628479115\n"
          ]
        }
      ],
      "source": [
        "import pandas as pd\n",
        "import numpy as np\n",
        "\n",
        "# Assuming 'df' is your DataFrame with a 'volume btc' column\n",
        "Q1 = df_cleaned1['Volume BTC'].quantile(0.25)\n",
        "Q3 = df_cleaned1['Volume BTC'].quantile(0.75)\n",
        "IQR = Q3 - Q1\n",
        "lower_bound = Q1 - 1.5 * IQR\n",
        "upper_bound = Q3 + 1.5 * IQR\n",
        "\n",
        "print(\"Lower Bound for Outliers:\", lower_bound)\n",
        "print(\"Upper Bound for Outliers:\", upper_bound)"
      ]
    },
    {
      "cell_type": "code",
      "execution_count": 61,
      "metadata": {
        "id": "Jhjaf8DnZ2o5",
        "colab": {
          "base_uri": "https://localhost:8080/",
          "height": 472
        },
        "outputId": "c9faae01-a52e-4e7a-9224-8b59b425dd2d"
      },
      "outputs": [
        {
          "output_type": "display_data",
          "data": {
            "text/plain": [
              "<Figure size 640x480 with 1 Axes>"
            ],
            "image/png": "[encoded data removed]"
          },
          "metadata": {}
        }
      ],
      "source": [
        "plt.scatter(df_cleaned1['year'],df_cleaned1['Volume BTC'])\n",
        "plt.xlabel('year')\n",
        "plt.ylabel('Volume BTC')\n",
        "plt.title('boxplot of Volume BTC')\n",
        "plt.show()"
      ]
    },
    {
      "cell_type": "code",
      "execution_count": 62,
      "metadata": {
        "id": "SDTTYflNgzPh",
        "colab": {
          "base_uri": "https://localhost:8080/"
        },
        "outputId": "ca794252-9fb0-4561-e494-75d3920385de"
      },
      "outputs": [
        {
          "output_type": "stream",
          "name": "stderr",
          "text": [
            "<ipython-input-62-03bf3f89aab4>:2: SettingWithCopyWarning: \n",
            "A value is trying to be set on a copy of a slice from a DataFrame.\n",
            "Try using .loc[row_indexer,col_indexer] = value instead\n",
            "\n",
            "See the caveats in the documentation: https://pandas.pydata.org/pandas-docs/stable/user_guide/indexing.html#returning-a-view-versus-a-copy\n",
            "  df_cleaned1['Volumebtc'] = pt.fit_transform(df_cleaned1[['Volume BTC']])\n"
          ]
        },
        {
          "output_type": "execute_result",
          "data": {
            "text/plain": [
              "0.6414809366942668"
            ]
          },
          "metadata": {},
          "execution_count": 62
        }
      ],
      "source": [
        "pt = PowerTransformer(method='yeo-johnson')\n",
        "df_cleaned1['Volumebtc'] = pt.fit_transform(df_cleaned1[['Volume BTC']])\n",
        "df_cleaned1['Volumebtc'].skew()\n",
        "\n"
      ]
    },
    {
      "cell_type": "code",
      "execution_count": 63,
      "metadata": {
        "id": "KprQdHOzeY2i",
        "colab": {
          "base_uri": "https://localhost:8080/"
        },
        "outputId": "caa94c56-5de6-466d-ed2a-835dcbe37999"
      },
      "outputs": [
        {
          "output_type": "stream",
          "name": "stderr",
          "text": [
            "<ipython-input-63-c83a689ccfcc>:4: SettingWithCopyWarning: \n",
            "A value is trying to be set on a copy of a slice from a DataFrame.\n",
            "Try using .loc[row_indexer,col_indexer] = value instead\n",
            "\n",
            "See the caveats in the documentation: https://pandas.pydata.org/pandas-docs/stable/user_guide/indexing.html#returning-a-view-versus-a-copy\n",
            "  df_cleaned1['z_score_volume'] = stats.zscore(df_cleaned1['Volume BTC'])\n"
          ]
        }
      ],
      "source": [
        "\n",
        "from scipy import stats\n",
        "\n",
        "# Calculate z-scores for 'volume btc'\n",
        "df_cleaned1['z_score_volume'] = stats.zscore(df_cleaned1['Volume BTC'])\n",
        "\n",
        "# Define a threshold for outliers (e.g., 3 standard deviations)\n",
        "threshold = 1.5\n",
        "\n",
        "# Identify outliers\n",
        "outliers = df_cleaned1[(df_cleaned1['z_score_volume'] > threshold) | (df_cleaned1['z_score_volume'] < -threshold)]\n",
        "\n",
        "# Remove outliers (choose one of the following methods)\n",
        "\n",
        "# Method 1: Filtering\n",
        "df_filtered = df_cleaned1[(df_cleaned1['z_score_volume'] <= threshold) & (df_cleaned1['z_score_volume'] >= -threshold)]\n",
        "\n"
      ]
    },
    {
      "cell_type": "code",
      "execution_count": 64,
      "metadata": {
        "id": "mVzTLnmmn9p2",
        "colab": {
          "base_uri": "https://localhost:8080/",
          "height": 472
        },
        "outputId": "72d4bc48-7556-49c0-db5b-6c1255891044"
      },
      "outputs": [
        {
          "output_type": "display_data",
          "data": {
            "text/plain": [
              "<Figure size 640x480 with 1 Axes>"
            ],
            "image/png": "[encoded data removed]"
          },
          "metadata": {}
        }
      ],
      "source": [
        "plt.scatter(df_cleaned1['year'],df_cleaned1['Volume BTC'])\n",
        "plt.xlabel('year')\n",
        "plt.ylabel('Volume BTC')\n",
        "plt.title('boxplot of Volume BTC')\n",
        "plt.show()"
      ]
    },
    {
      "cell_type": "code",
      "execution_count": 65,
      "metadata": {
        "id": "LdhFXgmIzbVF",
        "colab": {
          "base_uri": "https://localhost:8080/"
        },
        "outputId": "0085ab10-49b8-4247-ee41-949c1b619002"
      },
      "outputs": [
        {
          "output_type": "stream",
          "name": "stderr",
          "text": [
            "<ipython-input-65-03bf3f89aab4>:2: SettingWithCopyWarning: \n",
            "A value is trying to be set on a copy of a slice from a DataFrame.\n",
            "Try using .loc[row_indexer,col_indexer] = value instead\n",
            "\n",
            "See the caveats in the documentation: https://pandas.pydata.org/pandas-docs/stable/user_guide/indexing.html#returning-a-view-versus-a-copy\n",
            "  df_cleaned1['Volumebtc'] = pt.fit_transform(df_cleaned1[['Volume BTC']])\n"
          ]
        },
        {
          "output_type": "execute_result",
          "data": {
            "text/plain": [
              "0.6414809366942668"
            ]
          },
          "metadata": {},
          "execution_count": 65
        }
      ],
      "source": [
        "pt = PowerTransformer(method='yeo-johnson')\n",
        "df_cleaned1['Volumebtc'] = pt.fit_transform(df_cleaned1[['Volume BTC']])\n",
        "df_cleaned1['Volumebtc'].skew()\n",
        "\n"
      ]
    },
    {
      "cell_type": "code",
      "execution_count": 66,
      "metadata": {
        "id": "tl8X3Hph0WQf",
        "colab": {
          "base_uri": "https://localhost:8080/"
        },
        "outputId": "4c23d102-d292-487c-8520-b0b23bf54ceb"
      },
      "outputs": [
        {
          "output_type": "execute_result",
          "data": {
            "text/plain": [
              "count    5.571090e+05\n",
              "mean     2.226194e+05\n",
              "std      1.924622e+06\n",
              "min      0.000000e+00\n",
              "25%      1.021601e+03\n",
              "50%      8.708724e+03\n",
              "75%      4.121276e+04\n",
              "max      2.582324e+08\n",
              "Name: Volume USD, dtype: float64"
            ]
          },
          "metadata": {},
          "execution_count": 66
        }
      ],
      "source": [
        "df_cleaned1['Volume USD'].describe()"
      ]
    },
    {
      "cell_type": "code",
      "execution_count": 67,
      "metadata": {
        "id": "PDKUBBOL0gXm",
        "colab": {
          "base_uri": "https://localhost:8080/",
          "height": 480
        },
        "outputId": "7bd7f691-f11b-403a-91ae-b8464eec5b7d"
      },
      "outputs": [
        {
          "output_type": "execute_result",
          "data": {
            "text/plain": [
              "<Axes: ylabel='Density'>"
            ]
          },
          "metadata": {},
          "execution_count": 67
        },
        {
          "output_type": "display_data",
          "data": {
            "text/plain": [
              "<Figure size 640x480 with 1 Axes>"
            ],
            "image/png": "[encoded data removed]"
          },
          "metadata": {}
        }
      ],
      "source": [
        "df_cleaned1['Volume USD'].plot(kind='kde')"
      ]
    },
    {
      "cell_type": "code",
      "execution_count": 68,
      "metadata": {
        "id": "Ub5uF1cn3S89",
        "colab": {
          "base_uri": "https://localhost:8080/",
          "height": 472
        },
        "outputId": "612a398b-0547-41e3-c938-042284140600"
      },
      "outputs": [
        {
          "output_type": "display_data",
          "data": {
            "text/plain": [
              "<Figure size 640x480 with 1 Axes>"
            ],
            "image/png": "[encoded data removed]"
          },
          "metadata": {}
        }
      ],
      "source": [
        "plt.scatter(df_cleaned1['year'],df_cleaned1['Volume USD'])\n",
        "plt.xlabel('year')\n",
        "plt.ylabel('Volume USD')\n",
        "plt.title('boxplot of volume usd')\n",
        "plt.show()"
      ]
    },
    {
      "cell_type": "code",
      "execution_count": 69,
      "metadata": {
        "id": "X_90IBL4pSq7",
        "colab": {
          "base_uri": "https://localhost:8080/"
        },
        "outputId": "576533d2-a4bc-4279-8941-d155b6a024d0"
      },
      "outputs": [
        {
          "output_type": "execute_result",
          "data": {
            "text/plain": [
              "30.054762564858603"
            ]
          },
          "metadata": {},
          "execution_count": 69
        }
      ],
      "source": [
        "df_cleaned1['Volume USD'].skew()"
      ]
    },
    {
      "cell_type": "code",
      "execution_count": 70,
      "metadata": {
        "id": "MwioC9LrpXE7",
        "colab": {
          "base_uri": "https://localhost:8080/"
        },
        "outputId": "140ac555-accb-4572-9be6-d5512da6e115"
      },
      "outputs": [
        {
          "output_type": "stream",
          "name": "stderr",
          "text": [
            "<ipython-input-70-582f00b0514c>:2: SettingWithCopyWarning: \n",
            "A value is trying to be set on a copy of a slice from a DataFrame.\n",
            "Try using .loc[row_indexer,col_indexer] = value instead\n",
            "\n",
            "See the caveats in the documentation: https://pandas.pydata.org/pandas-docs/stable/user_guide/indexing.html#returning-a-view-versus-a-copy\n",
            "  df_cleaned1['VolumeUSD'] = pt.fit_transform(df_cleaned1[['Volume USD']])\n"
          ]
        },
        {
          "output_type": "execute_result",
          "data": {
            "text/plain": [
              "0.04012583402969542"
            ]
          },
          "metadata": {},
          "execution_count": 70
        }
      ],
      "source": [
        "pt = PowerTransformer(method='yeo-johnson')\n",
        "df_cleaned1['VolumeUSD'] = pt.fit_transform(df_cleaned1[['Volume USD']])\n",
        "df_cleaned1['VolumeUSD'].skew()\n",
        "\n"
      ]
    },
    {
      "cell_type": "code",
      "execution_count": 71,
      "metadata": {
        "id": "Z6GZ36u5pbpg",
        "colab": {
          "base_uri": "https://localhost:8080/"
        },
        "outputId": "497b1de7-ad3b-4e0f-98df-19d068c25f79"
      },
      "outputs": [
        {
          "output_type": "stream",
          "name": "stderr",
          "text": [
            "<ipython-input-71-bf02380c56e4>:4: SettingWithCopyWarning: \n",
            "A value is trying to be set on a copy of a slice from a DataFrame.\n",
            "Try using .loc[row_indexer,col_indexer] = value instead\n",
            "\n",
            "See the caveats in the documentation: https://pandas.pydata.org/pandas-docs/stable/user_guide/indexing.html#returning-a-view-versus-a-copy\n",
            "  df_cleaned1['z_score_volume1'] = stats.zscore(df_cleaned1['Volume USD'])\n"
          ]
        }
      ],
      "source": [
        "\n",
        "from scipy import stats\n",
        "\n",
        "# Calculate z-scores for 'volume btc'\n",
        "df_cleaned1['z_score_volume1'] = stats.zscore(df_cleaned1['Volume USD'])\n",
        "\n",
        "# Define a threshold for outliers (e.g., 3 standard deviations)\n",
        "threshold = 2.5\n",
        "\n",
        "# Identify outliers\n",
        "outliers = df_cleaned1[(df_cleaned1['z_score_volume1'] > threshold) | (df_cleaned1['z_score_volume1'] < -threshold)]\n",
        "\n",
        "# Remove outliers (choose one of the following methods)\n",
        "\n",
        "# Method 1: Filtering\n",
        "df_filtered = df_cleaned1[(df_cleaned1['z_score_volume1'] <= threshold) & (df_cleaned1['z_score_volume1'] >= -threshold)]\n",
        "\n"
      ]
    },
    {
      "cell_type": "code",
      "execution_count": 72,
      "metadata": {
        "id": "2TIe0I3l4qrF",
        "colab": {
          "base_uri": "https://localhost:8080/",
          "height": 472
        },
        "outputId": "5a2574b9-9bb6-4d94-f7c1-ba9dde6564b7"
      },
      "outputs": [
        {
          "output_type": "display_data",
          "data": {
            "text/plain": [
              "<Figure size 640x480 with 1 Axes>"
            ],
            "image/png": "[encoded data removed]"
          },
          "metadata": {}
        }
      ],
      "source": [
        "plt.scatter(df_filtered['year'],df_filtered['Volume USD'])\n",
        "plt.xlabel('year')\n",
        "plt.ylabel('Volume USD')\n",
        "plt.title('boxplot of volume usd')\n",
        "plt.show()"
      ]
    },
    {
      "cell_type": "code",
      "execution_count": 73,
      "metadata": {
        "id": "wwy3-Xadqm2c",
        "colab": {
          "base_uri": "https://localhost:8080/"
        },
        "outputId": "85eb4d70-38fe-4e59-a0bf-b2fb1c5107ce"
      },
      "outputs": [
        {
          "output_type": "stream",
          "name": "stdout",
          "text": [
            "<class 'pandas.core.frame.DataFrame'>\n",
            "Index: 550993 entries, 33258 to 0\n",
            "Data columns (total 21 columns):\n",
            " #   Column           Non-Null Count   Dtype         \n",
            "---  ------           --------------   -----         \n",
            " 0   unix             550993 non-null  int64         \n",
            " 1   date             550993 non-null  datetime64[ns]\n",
            " 2   symbol           550993 non-null  object        \n",
            " 3   open             550993 non-null  float64       \n",
            " 4   high             550993 non-null  float64       \n",
            " 5   low              550993 non-null  float64       \n",
            " 6   close            550993 non-null  float64       \n",
            " 7   Volume BTC       550993 non-null  float64       \n",
            " 8   Volume USD       550993 non-null  float64       \n",
            " 9   year             550993 non-null  int32         \n",
            " 10  month            550993 non-null  int32         \n",
            " 11  day              550993 non-null  int32         \n",
            " 12  time             550993 non-null  object        \n",
            " 13  open1            550993 non-null  float64       \n",
            " 14  high1            550993 non-null  float64       \n",
            " 15  low1             550993 non-null  float64       \n",
            " 16  close1           550993 non-null  float64       \n",
            " 17  Volumebtc        550993 non-null  float64       \n",
            " 18  z_score_volume   550993 non-null  float64       \n",
            " 19  VolumeUSD        550993 non-null  float64       \n",
            " 20  z_score_volume1  550993 non-null  float64       \n",
            "dtypes: datetime64[ns](1), float64(14), int32(3), int64(1), object(2)\n",
            "memory usage: 86.2+ MB\n"
          ]
        }
      ],
      "source": [
        "df_filtered.info()"
      ]
    },
    {
      "cell_type": "code",
      "execution_count": 74,
      "metadata": {
        "id": "KAd8PyJJrbX0"
      },
      "outputs": [],
      "source": [
        "df_filteredcopy=df_filtered.copy()"
      ]
    },
    {
      "cell_type": "code",
      "execution_count": 75,
      "metadata": {
        "id": "H1YaLSnbq9tr"
      },
      "outputs": [],
      "source": [
        "df_filtered1=df_filtered.drop(columns=['open','low','high','close','Volume BTC','Volume USD','Volumebtc','VolumeUSD'])"
      ]
    },
    {
      "cell_type": "code",
      "execution_count": 76,
      "metadata": {
        "id": "Pj0XzIYCrukm",
        "colab": {
          "base_uri": "https://localhost:8080/",
          "height": 597
        },
        "outputId": "0efc6983-2926-44f3-cb1b-06c8b001ad16"
      },
      "outputs": [
        {
          "output_type": "execute_result",
          "data": {
            "text/plain": [
              "             unix                date   symbol  year  month  day      time  \\\n",
              "33258  1526364000 2018-05-15 06:00:00  BTC/USD  2018      5   15  06:00:00   \n",
              "33257  1526367600 2018-05-15 07:00:00  BTC/USD  2018      5   15  07:00:00   \n",
              "33256  1526371200 2018-05-15 08:00:00  BTC/USD  2018      5   15  08:00:00   \n",
              "33255  1526374800 2018-05-15 09:00:00  BTC/USD  2018      5   15  09:00:00   \n",
              "33254  1526378400 2018-05-15 10:00:00  BTC/USD  2018      5   15  10:00:00   \n",
              "...           ...                 ...      ...   ...    ...  ...       ...   \n",
              "4      1646105880 2022-03-01 03:38:00  BTC/USD  2022      3    1  03:38:00   \n",
              "3      1646105940 2022-03-01 03:39:00  BTC/USD  2022      3    1  03:39:00   \n",
              "2      1646106000 2022-03-01 03:40:00  BTC/USD  2022      3    1  03:40:00   \n",
              "1      1646106060 2022-03-01 03:41:00  BTC/USD  2022      3    1  03:41:00   \n",
              "0      1646106180 2022-03-01 03:43:00  BTC/USD  2022      3    1  03:43:00   \n",
              "\n",
              "          open1     high1      low1    close1  z_score_volume  z_score_volume1  \n",
              "33258 -0.217389 -0.207888 -0.220889 -0.216196        5.667103        -0.115378  \n",
              "33257 -0.216196 -0.212987 -0.218567 -0.216528        2.702742        -0.115527  \n",
              "33256 -0.216529 -0.215611 -0.228777 -0.218288        9.295041        -0.115192  \n",
              "33255 -0.218289 -0.214921 -0.221886 -0.221673        1.764488        -0.115574  \n",
              "33254 -0.221674 -0.196624 -0.222936 -0.207054       12.965097        -0.115014  \n",
              "...         ...       ...       ...       ...             ...              ...  \n",
              "4      1.486527  1.485852  1.486755  1.486022       -0.113407        -0.115172  \n",
              "3      1.485783  1.485107  1.485881  1.485147       -0.113406        -0.097328  \n",
              "2      1.485557  1.484881  1.486171  1.485437       -0.113407        -0.115463  \n",
              "1      1.485487  1.485306  1.486210  1.485971       -0.113407        -0.112471  \n",
              "0      1.485982  1.485306  1.486705  1.485971       -0.113407        -0.115669  \n",
              "\n",
              "[550993 rows x 13 columns]"
            ],
            "text/html": [
              "\n",
              "  <div id=\"df-fde821d5-232a-42cc-9bec-95480cdf2ce9\" class=\"colab-df-container\">\n",
              "    <div>\n",
              "<style scoped>\n",
              "    .dataframe tbody tr th:only-of-type {\n",
              "        vertical-align: middle;\n",
              "    }\n",
              "\n",
              "    .dataframe tbody tr th {\n",
              "        vertical-align: top;\n",
              "    }\n",
              "\n",
              "    .dataframe thead th {\n",
              "        text-align: right;\n",
              "    }\n",
              "</style>\n",
              "<table border=\"1\" class=\"dataframe\">\n",
              "  <thead>\n",
              "    <tr style=\"text-align: right;\">\n",
              "      <th></th>\n",
              "      <th>unix</th>\n",
              "      <th>date</th>\n",
              "      <th>symbol</th>\n",
              "      <th>year</th>\n",
              "      <th>month</th>\n",
              "      <th>day</th>\n",
              "      <th>time</th>\n",
              "      <th>open1</th>\n",
              "      <th>high1</th>\n",
              "      <th>low1</th>\n",
              "      <th>close1</th>\n",
              "      <th>z_score_volume</th>\n",
              "      <th>z_score_volume1</th>\n",
              "    </tr>\n",
              "  </thead>\n",
              "  <tbody>\n",
              "    <tr>\n",
              "      <th>33258</th>\n",
              "      <td>1526364000</td>\n",
              "      <td>2018-05-15 06:00:00</td>\n",
              "      <td>BTC/USD</td>\n",
              "      <td>2018</td>\n",
              "      <td>5</td>\n",
              "      <td>15</td>\n",
              "      <td>06:00:00</td>\n",
              "      <td>-0.217389</td>\n",
              "      <td>-0.207888</td>\n",
              "      <td>-0.220889</td>\n",
              "      <td>-0.216196</td>\n",
              "      <td>5.667103</td>\n",
              "      <td>-0.115378</td>\n",
              "    </tr>\n",
              "    <tr>\n",
              "      <th>33257</th>\n",
              "      <td>1526367600</td>\n",
              "      <td>2018-05-15 07:00:00</td>\n",
              "      <td>BTC/USD</td>\n",
              "      <td>2018</td>\n",
              "      <td>5</td>\n",
              "      <td>15</td>\n",
              "      <td>07:00:00</td>\n",
              "      <td>-0.216196</td>\n",
              "      <td>-0.212987</td>\n",
              "      <td>-0.218567</td>\n",
              "      <td>-0.216528</td>\n",
              "      <td>2.702742</td>\n",
              "      <td>-0.115527</td>\n",
              "    </tr>\n",
              "    <tr>\n",
              "      <th>33256</th>\n",
              "      <td>1526371200</td>\n",
              "      <td>2018-05-15 08:00:00</td>\n",
              "      <td>BTC/USD</td>\n",
              "      <td>2018</td>\n",
              "      <td>5</td>\n",
              "      <td>15</td>\n",
              "      <td>08:00:00</td>\n",
              "      <td>-0.216529</td>\n",
              "      <td>-0.215611</td>\n",
              "      <td>-0.228777</td>\n",
              "      <td>-0.218288</td>\n",
              "      <td>9.295041</td>\n",
              "      <td>-0.115192</td>\n",
              "    </tr>\n",
              "    <tr>\n",
              "      <th>33255</th>\n",
              "      <td>1526374800</td>\n",
              "      <td>2018-05-15 09:00:00</td>\n",
              "      <td>BTC/USD</td>\n",
              "      <td>2018</td>\n",
              "      <td>5</td>\n",
              "      <td>15</td>\n",
              "      <td>09:00:00</td>\n",
              "      <td>-0.218289</td>\n",
              "      <td>-0.214921</td>\n",
              "      <td>-0.221886</td>\n",
              "      <td>-0.221673</td>\n",
              "      <td>1.764488</td>\n",
              "      <td>-0.115574</td>\n",
              "    </tr>\n",
              "    <tr>\n",
              "      <th>33254</th>\n",
              "      <td>1526378400</td>\n",
              "      <td>2018-05-15 10:00:00</td>\n",
              "      <td>BTC/USD</td>\n",
              "      <td>2018</td>\n",
              "      <td>5</td>\n",
              "      <td>15</td>\n",
              "      <td>10:00:00</td>\n",
              "      <td>-0.221674</td>\n",
              "      <td>-0.196624</td>\n",
              "      <td>-0.222936</td>\n",
              "      <td>-0.207054</td>\n",
              "      <td>12.965097</td>\n",
              "      <td>-0.115014</td>\n",
              "    </tr>\n",
              "    <tr>\n",
              "      <th>...</th>\n",
              "      <td>...</td>\n",
              "      <td>...</td>\n",
              "      <td>...</td>\n",
              "      <td>...</td>\n",
              "      <td>...</td>\n",
              "      <td>...</td>\n",
              "      <td>...</td>\n",
              "      <td>...</td>\n",
              "      <td>...</td>\n",
              "      <td>...</td>\n",
              "      <td>...</td>\n",
              "      <td>...</td>\n",
              "      <td>...</td>\n",
              "    </tr>\n",
              "    <tr>\n",
              "      <th>4</th>\n",
              "      <td>1646105880</td>\n",
              "      <td>2022-03-01 03:38:00</td>\n",
              "      <td>BTC/USD</td>\n",
              "      <td>2022</td>\n",
              "      <td>3</td>\n",
              "      <td>1</td>\n",
              "      <td>03:38:00</td>\n",
              "      <td>1.486527</td>\n",
              "      <td>1.485852</td>\n",
              "      <td>1.486755</td>\n",
              "      <td>1.486022</td>\n",
              "      <td>-0.113407</td>\n",
              "      <td>-0.115172</td>\n",
              "    </tr>\n",
              "    <tr>\n",
              "      <th>3</th>\n",
              "      <td>1646105940</td>\n",
              "      <td>2022-03-01 03:39:00</td>\n",
              "      <td>BTC/USD</td>\n",
              "      <td>2022</td>\n",
              "      <td>3</td>\n",
              "      <td>1</td>\n",
              "      <td>03:39:00</td>\n",
              "      <td>1.485783</td>\n",
              "      <td>1.485107</td>\n",
              "      <td>1.485881</td>\n",
              "      <td>1.485147</td>\n",
              "      <td>-0.113406</td>\n",
              "      <td>-0.097328</td>\n",
              "    </tr>\n",
              "    <tr>\n",
              "      <th>2</th>\n",
              "      <td>1646106000</td>\n",
              "      <td>2022-03-01 03:40:00</td>\n",
              "      <td>BTC/USD</td>\n",
              "      <td>2022</td>\n",
              "      <td>3</td>\n",
              "      <td>1</td>\n",
              "      <td>03:40:00</td>\n",
              "      <td>1.485557</td>\n",
              "      <td>1.484881</td>\n",
              "      <td>1.486171</td>\n",
              "      <td>1.485437</td>\n",
              "      <td>-0.113407</td>\n",
              "      <td>-0.115463</td>\n",
              "    </tr>\n",
              "    <tr>\n",
              "      <th>1</th>\n",
              "      <td>1646106060</td>\n",
              "      <td>2022-03-01 03:41:00</td>\n",
              "      <td>BTC/USD</td>\n",
              "      <td>2022</td>\n",
              "      <td>3</td>\n",
              "      <td>1</td>\n",
              "      <td>03:41:00</td>\n",
              "      <td>1.485487</td>\n",
              "      <td>1.485306</td>\n",
              "      <td>1.486210</td>\n",
              "      <td>1.485971</td>\n",
              "      <td>-0.113407</td>\n",
              "      <td>-0.112471</td>\n",
              "    </tr>\n",
              "    <tr>\n",
              "      <th>0</th>\n",
              "      <td>1646106180</td>\n",
              "      <td>2022-03-01 03:43:00</td>\n",
              "      <td>BTC/USD</td>\n",
              "      <td>2022</td>\n",
              "      <td>3</td>\n",
              "      <td>1</td>\n",
              "      <td>03:43:00</td>\n",
              "      <td>1.485982</td>\n",
              "      <td>1.485306</td>\n",
              "      <td>1.486705</td>\n",
              "      <td>1.485971</td>\n",
              "      <td>-0.113407</td>\n",
              "      <td>-0.115669</td>\n",
              "    </tr>\n",
              "  </tbody>\n",
              "</table>\n",
              "<p>550993 rows × 13 columns</p>\n",
              "</div>\n",
              "    <div class=\"colab-df-buttons\">\n",
              "\n",
              "  <div class=\"colab-df-container\">\n",
              "    <button class=\"colab-df-convert\" onclick=\"convertToInteractive('df-fde821d5-232a-42cc-9bec-95480cdf2ce9')\"\n",
              "            title=\"Convert this dataframe to an interactive table.\"\n",
              "            style=\"display:none;\">\n",
              "\n",
              "  <svg xmlns=\"http://www.w3.org/2000/svg\" height=\"24px\" viewBox=\"0 -960 960 960\">\n",
              "    <path d=\"M120-120v-720h720v720H120Zm60-500h600v-160H180v160Zm220 220h160v-160H400v160Zm0 220h160v-160H400v160ZM180-400h160v-160H180v160Zm440 0h160v-160H620v160ZM180-180h160v-160H180v160Zm440 0h160v-160H620v160Z\"/>\n",
              "  </svg>\n",
              "    </button>\n",
              "\n",
              "  <style>\n",
              "    .colab-df-container {\n",
              "      display:flex;\n",
              "      gap: 12px;\n",
              "    }\n",
              "\n",
              "    .colab-df-convert {\n",
              "      background-color: #E8F0FE;\n",
              "      border: none;\n",
              "      border-radius: 50%;\n",
              "      cursor: pointer;\n",
              "      display: none;\n",
              "      fill: #1967D2;\n",
              "      height: 32px;\n",
              "      padding: 0 0 0 0;\n",
              "      width: 32px;\n",
              "    }\n",
              "\n",
              "    .colab-df-convert:hover {\n",
              "      background-color: #E2EBFA;\n",
              "      box-shadow: 0px 1px 2px rgba(60, 64, 67, 0.3), 0px 1px 3px 1px rgba(60, 64, 67, 0.15);\n",
              "      fill: #174EA6;\n",
              "    }\n",
              "\n",
              "    .colab-df-buttons div {\n",
              "      margin-bottom: 4px;\n",
              "    }\n",
              "\n",
              "    [theme=dark] .colab-df-convert {\n",
              "      background-color: #3B4455;\n",
              "      fill: #D2E3FC;\n",
              "    }\n",
              "\n",
              "    [theme=dark] .colab-df-convert:hover {\n",
              "      background-color: #434B5C;\n",
              "      box-shadow: 0px 1px 3px 1px rgba(0, 0, 0, 0.15);\n",
              "      filter: drop-shadow(0px 1px 2px rgba(0, 0, 0, 0.3));\n",
              "      fill: #FFFFFF;\n",
              "    }\n",
              "  </style>\n",
              "\n",
              "    <script>\n",
              "      const buttonEl =\n",
              "        document.querySelector('#df-fde821d5-232a-42cc-9bec-95480cdf2ce9 button.colab-df-convert');\n",
              "      buttonEl.style.display =\n",
              "        google.colab.kernel.accessAllowed ? 'block' : 'none';\n",
              "\n",
              "      async function convertToInteractive(key) {\n",
              "        const element = document.querySelector('#df-fde821d5-232a-42cc-9bec-95480cdf2ce9');\n",
              "        const dataTable =\n",
              "          await google.colab.kernel.invokeFunction('convertToInteractive',\n",
              "                                                    [key], {});\n",
              "        if (!dataTable) return;\n",
              "\n",
              "        const docLinkHtml = 'Like what you see? Visit the ' +\n",
              "          '<a target=\"_blank\" href=https://colab.research.google.com/notebooks/data_table.ipynb>data table notebook</a>'\n",
              "          + ' to learn more about interactive tables.';\n",
              "        element.innerHTML = '';\n",
              "        dataTable['output_type'] = 'display_data';\n",
              "        await google.colab.output.renderOutput(dataTable, element);\n",
              "        const docLink = document.createElement('div');\n",
              "        docLink.innerHTML = docLinkHtml;\n",
              "        element.appendChild(docLink);\n",
              "      }\n",
              "    </script>\n",
              "  </div>\n",
              "\n",
              "\n",
              "<div id=\"df-91467396-c68c-4e92-a32d-6f0d473d8416\">\n",
              "  <button class=\"colab-df-quickchart\" onclick=\"quickchart('df-91467396-c68c-4e92-a32d-6f0d473d8416')\"\n",
              "            title=\"Suggest charts\"\n",
              "            style=\"display:none;\">\n",
              "\n",
              "<svg xmlns=\"http://www.w3.org/2000/svg\" height=\"24px\"viewBox=\"0 0 24 24\"\n",
              "     width=\"24px\">\n",
              "    <g>\n",
              "        <path d=\"M19 3H5c-1.1 0-2 .9-2 2v14c0 1.1.9 2 2 2h14c1.1 0 2-.9 2-2V5c0-1.1-.9-2-2-2zM9 17H7v-7h2v7zm4 0h-2V7h2v10zm4 0h-2v-4h2v4z\"/>\n",
              "    </g>\n",
              "</svg>\n",
              "  </button>\n",
              "\n",
              "<style>\n",
              "  .colab-df-quickchart {\n",
              "      --bg-color: #E8F0FE;\n",
              "      --fill-color: #1967D2;\n",
              "      --hover-bg-color: #E2EBFA;\n",
              "      --hover-fill-color: #174EA6;\n",
              "      --disabled-fill-color: #AAA;\n",
              "      --disabled-bg-color: #DDD;\n",
              "  }\n",
              "\n",
              "  [theme=dark] .colab-df-quickchart {\n",
              "      --bg-color: #3B4455;\n",
              "      --fill-color: #D2E3FC;\n",
              "      --hover-bg-color: #434B5C;\n",
              "      --hover-fill-color: #FFFFFF;\n",
              "      --disabled-bg-color: #3B4455;\n",
              "      --disabled-fill-color: #666;\n",
              "  }\n",
              "\n",
              "  .colab-df-quickchart {\n",
              "    background-color: var(--bg-color);\n",
              "    border: none;\n",
              "    border-radius: 50%;\n",
              "    cursor: pointer;\n",
              "    display: none;\n",
              "    fill: var(--fill-color);\n",
              "    height: 32px;\n",
              "    padding: 0;\n",
              "    width: 32px;\n",
              "  }\n",
              "\n",
              "  .colab-df-quickchart:hover {\n",
              "    background-color: var(--hover-bg-color);\n",
              "    box-shadow: 0 1px 2px rgba(60, 64, 67, 0.3), 0 1px 3px 1px rgba(60, 64, 67, 0.15);\n",
              "    fill: var(--button-hover-fill-color);\n",
              "  }\n",
              "\n",
              "  .colab-df-quickchart-complete:disabled,\n",
              "  .colab-df-quickchart-complete:disabled:hover {\n",
              "    background-color: var(--disabled-bg-color);\n",
              "    fill: var(--disabled-fill-color);\n",
              "    box-shadow: none;\n",
              "  }\n",
              "\n",
              "  .colab-df-spinner {\n",
              "    border: 2px solid var(--fill-color);\n",
              "    border-color: transparent;\n",
              "    border-bottom-color: var(--fill-color);\n",
              "    animation:\n",
              "      spin 1s steps(1) infinite;\n",
              "  }\n",
              "\n",
              "  @keyframes spin {\n",
              "    0% {\n",
              "      border-color: transparent;\n",
              "      border-bottom-color: var(--fill-color);\n",
              "      border-left-color: var(--fill-color);\n",
              "    }\n",
              "    20% {\n",
              "      border-color: transparent;\n",
              "      border-left-color: var(--fill-color);\n",
              "      border-top-color: var(--fill-color);\n",
              "    }\n",
              "    30% {\n",
              "      border-color: transparent;\n",
              "      border-left-color: var(--fill-color);\n",
              "      border-top-color: var(--fill-color);\n",
              "      border-right-color: var(--fill-color);\n",
              "    }\n",
              "    40% {\n",
              "      border-color: transparent;\n",
              "      border-right-color: var(--fill-color);\n",
              "      border-top-color: var(--fill-color);\n",
              "    }\n",
              "    60% {\n",
              "      border-color: transparent;\n",
              "      border-right-color: var(--fill-color);\n",
              "    }\n",
              "    80% {\n",
              "      border-color: transparent;\n",
              "      border-right-color: var(--fill-color);\n",
              "      border-bottom-color: var(--fill-color);\n",
              "    }\n",
              "    90% {\n",
              "      border-color: transparent;\n",
              "      border-bottom-color: var(--fill-color);\n",
              "    }\n",
              "  }\n",
              "</style>\n",
              "\n",
              "  <script>\n",
              "    async function quickchart(key) {\n",
              "      const quickchartButtonEl =\n",
              "        document.querySelector('#' + key + ' button');\n",
              "      quickchartButtonEl.disabled = true;  // To prevent multiple clicks.\n",
              "      quickchartButtonEl.classList.add('colab-df-spinner');\n",
              "      try {\n",
              "        const charts = await google.colab.kernel.invokeFunction(\n",
              "            'suggestCharts', [key], {});\n",
              "      } catch (error) {\n",
              "        console.error('Error during call to suggestCharts:', error);\n",
              "      }\n",
              "      quickchartButtonEl.classList.remove('colab-df-spinner');\n",
              "      quickchartButtonEl.classList.add('colab-df-quickchart-complete');\n",
              "    }\n",
              "    (() => {\n",
              "      let quickchartButtonEl =\n",
              "        document.querySelector('#df-91467396-c68c-4e92-a32d-6f0d473d8416 button');\n",
              "      quickchartButtonEl.style.display =\n",
              "        google.colab.kernel.accessAllowed ? 'block' : 'none';\n",
              "    })();\n",
              "  </script>\n",
              "</div>\n",
              "\n",
              "  <div id=\"id_c8b51750-35e4-48c4-8a78-6debcb36b3f1\">\n",
              "    <style>\n",
              "      .colab-df-generate {\n",
              "        background-color: #E8F0FE;\n",
              "        border: none;\n",
              "        border-radius: 50%;\n",
              "        cursor: pointer;\n",
              "        display: none;\n",
              "        fill: #1967D2;\n",
              "        height: 32px;\n",
              "        padding: 0 0 0 0;\n",
              "        width: 32px;\n",
              "      }\n",
              "\n",
              "      .colab-df-generate:hover {\n",
              "        background-color: #E2EBFA;\n",
              "        box-shadow: 0px 1px 2px rgba(60, 64, 67, 0.3), 0px 1px 3px 1px rgba(60, 64, 67, 0.15);\n",
              "        fill: #174EA6;\n",
              "      }\n",
              "\n",
              "      [theme=dark] .colab-df-generate {\n",
              "        background-color: #3B4455;\n",
              "        fill: #D2E3FC;\n",
              "      }\n",
              "\n",
              "      [theme=dark] .colab-df-generate:hover {\n",
              "        background-color: #434B5C;\n",
              "        box-shadow: 0px 1px 3px 1px rgba(0, 0, 0, 0.15);\n",
              "        filter: drop-shadow(0px 1px 2px rgba(0, 0, 0, 0.3));\n",
              "        fill: #FFFFFF;\n",
              "      }\n",
              "    </style>\n",
              "    <button class=\"colab-df-generate\" onclick=\"generateWithVariable('df_filtered1')\"\n",
              "            title=\"Generate code using this dataframe.\"\n",
              "            style=\"display:none;\">\n",
              "\n",
              "  <svg xmlns=\"http://www.w3.org/2000/svg\" height=\"24px\"viewBox=\"0 0 24 24\"\n",
              "       width=\"24px\">\n",
              "    <path d=\"M7,19H8.4L18.45,9,17,7.55,7,17.6ZM5,21V16.75L18.45,3.32a2,2,0,0,1,2.83,0l1.4,1.43a1.91,1.91,0,0,1,.58,1.4,1.91,1.91,0,0,1-.58,1.4L9.25,21ZM18.45,9,17,7.55Zm-12,3A5.31,5.31,0,0,0,4.9,8.1,5.31,5.31,0,0,0,1,6.5,5.31,5.31,0,0,0,4.9,4.9,5.31,5.31,0,0,0,6.5,1,5.31,5.31,0,0,0,8.1,4.9,5.31,5.31,0,0,0,12,6.5,5.46,5.46,0,0,0,6.5,12Z\"/>\n",
              "  </svg>\n",
              "    </button>\n",
              "    <script>\n",
              "      (() => {\n",
              "      const buttonEl =\n",
              "        document.querySelector('#id_c8b51750-35e4-48c4-8a78-6debcb36b3f1 button.colab-df-generate');\n",
              "      buttonEl.style.display =\n",
              "        google.colab.kernel.accessAllowed ? 'block' : 'none';\n",
              "\n",
              "      buttonEl.onclick = () => {\n",
              "        google.colab.notebook.generateWithVariable('df_filtered1');\n",
              "      }\n",
              "      })();\n",
              "    </script>\n",
              "  </div>\n",
              "\n",
              "    </div>\n",
              "  </div>\n"
            ],
            "application/vnd.google.colaboratory.intrinsic+json": {
              "type": "dataframe",
              "variable_name": "df_filtered1"
            }
          },
          "metadata": {},
          "execution_count": 76
        }
      ],
      "source": [
        "df_filtered1"
      ]
    },
    {
      "cell_type": "code",
      "execution_count": 77,
      "metadata": {
        "id": "o21VtH7n5KEh"
      },
      "outputs": [],
      "source": [
        "df_filtered1 = df_filtered1.rename(columns={'z_score_volume': 'Volume BTC'})"
      ]
    },
    {
      "cell_type": "code",
      "execution_count": 78,
      "metadata": {
        "id": "_DZWOthU5cuS"
      },
      "outputs": [],
      "source": [
        "df_filtered1 = df_filtered1.rename(columns={'z_score_volume1': 'Volume USD'})"
      ]
    },
    {
      "cell_type": "code",
      "execution_count": 79,
      "metadata": {
        "id": "GflzIF_n5mXf"
      },
      "outputs": [],
      "source": [
        "df_filtered1 = df_filtered1.rename(columns={'open1': 'Open'})"
      ]
    },
    {
      "cell_type": "code",
      "execution_count": 80,
      "metadata": {
        "id": "FHqbAMOO5nMC"
      },
      "outputs": [],
      "source": [
        "df_filtered1 = df_filtered1.rename(columns={'close1': 'Close'})"
      ]
    },
    {
      "cell_type": "code",
      "execution_count": 81,
      "metadata": {
        "id": "t8pfCKEu5n1D"
      },
      "outputs": [],
      "source": [
        "df_filtered1 = df_filtered1.rename(columns={'high1': 'High'})"
      ]
    },
    {
      "cell_type": "code",
      "execution_count": 82,
      "metadata": {
        "id": "K1AVzNe75o1U"
      },
      "outputs": [],
      "source": [
        "df_filtered1 = df_filtered1.rename(columns={'low1': 'Low'})"
      ]
    },
    {
      "cell_type": "code",
      "execution_count": 83,
      "metadata": {
        "id": "0xO0BRuV4NCQ",
        "colab": {
          "base_uri": "https://localhost:8080/",
          "height": 466
        },
        "outputId": "4b5046d4-dfa1-4bb3-da7c-d96c295591ea"
      },
      "outputs": [
        {
          "output_type": "execute_result",
          "data": {
            "text/plain": [
              "<Axes: xlabel='Open', ylabel='Close'>"
            ]
          },
          "metadata": {},
          "execution_count": 83
        },
        {
          "output_type": "display_data",
          "data": {
            "text/plain": [
              "<Figure size 640x480 with 1 Axes>"
            ],
            "image/png": "[encoded data removed]"
          },
          "metadata": {}
        }
      ],
      "source": [
        "import seaborn as sns\n",
        "\n",
        "sns.regplot(x='Open', y='Close', data=df_filtered1)"
      ]
    },
    {
      "cell_type": "code",
      "execution_count": 84,
      "metadata": {
        "id": "DP9P89yvupi2",
        "colab": {
          "base_uri": "https://localhost:8080/",
          "height": 466
        },
        "outputId": "c440bb55-3cbb-4324-d037-2cfe9ba3b1e0"
      },
      "outputs": [
        {
          "output_type": "execute_result",
          "data": {
            "text/plain": [
              "<Axes: xlabel='High', ylabel='Low'>"
            ]
          },
          "metadata": {},
          "execution_count": 84
        },
        {
          "output_type": "display_data",
          "data": {
            "text/plain": [
              "<Figure size 640x480 with 1 Axes>"
            ],
            "image/png": "[encoded data removed]"
          },
          "metadata": {}
        }
      ],
      "source": [
        "import seaborn as sns\n",
        "\n",
        "sns.regplot(x='High', y='Low', data=df_filtered1)"
      ]
    },
    {
      "cell_type": "code",
      "execution_count": 85,
      "metadata": {
        "id": "aJMcSKCnuuHt",
        "colab": {
          "base_uri": "https://localhost:8080/",
          "height": 466
        },
        "outputId": "dcda84bd-182d-42c9-be27-246e5313ad1f"
      },
      "outputs": [
        {
          "output_type": "execute_result",
          "data": {
            "text/plain": [
              "<Axes: xlabel='Volume BTC', ylabel='Volume USD'>"
            ]
          },
          "metadata": {},
          "execution_count": 85
        },
        {
          "output_type": "display_data",
          "data": {
            "text/plain": [
              "<Figure size 640x480 with 1 Axes>"
            ],
            "image/png": "[encoded data removed]"
          },
          "metadata": {}
        }
      ],
      "source": [
        "import seaborn as sns\n",
        "\n",
        "sns.regplot(x='Volume BTC', y='Volume USD', data=df_filtered1)"
      ]
    },
    {
      "cell_type": "code",
      "execution_count": 86,
      "metadata": {
        "id": "8xG1PgUW4WX9",
        "colab": {
          "base_uri": "https://localhost:8080/"
        },
        "outputId": "297729fc-4bdd-49c4-9e8e-efc5b3adce77"
      },
      "outputs": [
        {
          "output_type": "stream",
          "name": "stdout",
          "text": [
            "0.9999957775698769\n"
          ]
        }
      ],
      "source": [
        "correlation1 = df_filtered1['Open'].corr(df_filtered1['Close'])\n",
        "print(correlation1)"
      ]
    },
    {
      "cell_type": "code",
      "execution_count": 87,
      "metadata": {
        "id": "xFi2S1mF4vXu",
        "colab": {
          "base_uri": "https://localhost:8080/"
        },
        "outputId": "8ae39f20-4eb5-45ad-b64d-5363a3982c47"
      },
      "outputs": [
        {
          "output_type": "stream",
          "name": "stdout",
          "text": [
            "0.999990130994834\n"
          ]
        }
      ],
      "source": [
        "correlation2 = df_filtered1['Low'].corr(df_filtered1['High'])\n",
        "print(correlation2)"
      ]
    },
    {
      "cell_type": "code",
      "execution_count": 88,
      "metadata": {
        "id": "mHgfoqkl47Ld",
        "colab": {
          "base_uri": "https://localhost:8080/"
        },
        "outputId": "5df07302-3a06-4403-bd61-802a51a5d97e"
      },
      "outputs": [
        {
          "output_type": "stream",
          "name": "stdout",
          "text": [
            "-0.025931285733137417\n"
          ]
        }
      ],
      "source": [
        "correlation = df_filtered1['Volume BTC'].corr(df_filtered1['Volume USD'])\n",
        "print(correlation)"
      ]
    },
    {
      "cell_type": "code",
      "execution_count": 89,
      "metadata": {
        "id": "9QwsoLJY7DOE",
        "colab": {
          "base_uri": "https://localhost:8080/"
        },
        "outputId": "effb1adb-1695-4151-e21d-dc4c47401dd2"
      },
      "outputs": [
        {
          "output_type": "stream",
          "name": "stdout",
          "text": [
            "0.15974105499411528\n"
          ]
        }
      ],
      "source": [
        "correlation = df_filtered1['Volume USD'].corr(df_filtered1['Close'])\n",
        "print(correlation)"
      ]
    },
    {
      "cell_type": "code",
      "execution_count": 90,
      "metadata": {
        "id": "SLbjtLi47WCg",
        "colab": {
          "base_uri": "https://localhost:8080/"
        },
        "outputId": "ca1ff4b1-acee-458b-8437-f19b98653540"
      },
      "outputs": [
        {
          "output_type": "stream",
          "name": "stdout",
          "text": [
            "-0.0382582213246007\n"
          ]
        }
      ],
      "source": [
        "correlation = df_filtered1['Volume BTC'].corr(df_filtered1['Close'])\n",
        "print(correlation)"
      ]
    },
    {
      "cell_type": "code",
      "execution_count": 91,
      "metadata": {
        "id": "8YezJpHj8LMl",
        "colab": {
          "base_uri": "https://localhost:8080/"
        },
        "outputId": "73307900-319c-48b0-c101-720a92e5d2b1"
      },
      "outputs": [
        {
          "output_type": "stream",
          "name": "stdout",
          "text": [
            "Spearman's Rank Correlation: 0.7791021050008077\n",
            "P-value: 0.0\n"
          ]
        }
      ],
      "source": [
        "from scipy.stats import spearmanr\n",
        "\n",
        "\n",
        "correlation, p_value = spearmanr(df_filtered1['Volume BTC'], df_filtered1['Volume USD'])\n",
        "\n",
        "print(\"Spearman's Rank Correlation:\", correlation)\n",
        "print(\"P-value:\", p_value)"
      ]
    },
    {
      "cell_type": "code",
      "execution_count": 92,
      "metadata": {
        "id": "7ZJmxjlR87Gd"
      },
      "outputs": [],
      "source": [
        "#this suggests relationship between Volume BTC and Volume USD is strong and positive but non -linear"
      ]
    },
    {
      "cell_type": "code",
      "execution_count": 93,
      "metadata": {
        "id": "JWcVfrBB9G28",
        "colab": {
          "base_uri": "https://localhost:8080/"
        },
        "outputId": "c562d55c-d1b8-4ce6-9f5a-0653133aa4af"
      },
      "outputs": [
        {
          "output_type": "stream",
          "name": "stdout",
          "text": [
            "Spearman's Rank Correlation: 0.21384638027035946\n",
            "P-value: 0.0\n"
          ]
        }
      ],
      "source": [
        "from scipy.stats import spearmanr\n",
        "\n",
        "\n",
        "correlation, p_value = spearmanr(df_filtered1['Volume USD'], df_filtered1['Close'])\n",
        "\n",
        "print(\"Spearman's Rank Correlation:\", correlation)\n",
        "print(\"P-value:\", p_value)"
      ]
    },
    {
      "cell_type": "code",
      "execution_count": 94,
      "metadata": {
        "id": "T5A89peC-EOB",
        "colab": {
          "base_uri": "https://localhost:8080/"
        },
        "outputId": "4774adbd-1580-4f88-9fa1-fea205c28e35"
      },
      "outputs": [
        {
          "output_type": "stream",
          "name": "stdout",
          "text": [
            "Spearman's Rank Correlation: -0.11854131207113763\n",
            "P-value: 0.0\n"
          ]
        }
      ],
      "source": [
        "from scipy.stats import spearmanr\n",
        "correlation,p_value=spearmanr(df_filtered1['Volume BTC'],df_filtered1['Close'])\n",
        "print(\"Spearman's Rank Correlation:\",correlation)\n",
        "print(\"P-value:\",p_value)\n"
      ]
    },
    {
      "cell_type": "markdown",
      "metadata": {
        "id": "8P5Swgtu_Kgu"
      },
      "source": [
        "CONCLUSION-From analysis we get to know that realtionship between Volume BTC and Volume USD is NON linear but these both affect each other but other parameters very slightly  affect Volume BTC and moves in negative direction with Volume BTC and other parameters very slightly affect Volume USD and moves in positive direction with VOlume USD"
      ]
    },
    {
      "cell_type": "code",
      "execution_count": null,
      "metadata": {
        "id": "FM02y9qgBDbb"
      },
      "outputs": [],
      "source": [
        "\n",
        "\n",
        "\n",
        "sns.lmplot(x='Volume BTC', y='Open', data=df_filtered1, lowess=True)  # Use lowess=True for a non-linear trend line\n",
        "plt.title('Scatter Plot with Trend Line')\n",
        "plt.xlabel('Volume BTC')\n",
        "plt.ylabel('Open')\n",
        "plt.show()"
      ]
    },
    {
      "cell_type": "code",
      "execution_count": null,
      "metadata": {
        "id": "bOg9HkKOEVT7"
      },
      "outputs": [],
      "source": [
        "\n",
        "\n",
        "\n",
        "sns.lmplot(x='Volume BTC', y='Volume USD', data=df_filtered1, lowess=True)  # Use lowess=True for a non-linear trend line\n",
        "plt.title('Scatter Plot with Trend Line')\n",
        "plt.xlabel('Volume BTC')\n",
        "plt.ylabel('Volume USD')\n",
        "plt.show()"
      ]
    },
    {
      "cell_type": "code",
      "execution_count": null,
      "metadata": {
        "id": "P-HFVI28Ea7U"
      },
      "outputs": [],
      "source": [
        "\n",
        "\n",
        "\n",
        "sns.lmplot(x='Volume USD', y='Open', data=df_filtered1, lowess=True)  # Use lowess=True for a non-linear trend line\n",
        "plt.title('Scatter Plot with Trend Line')\n",
        "plt.xlabel('Volume USD')\n",
        "plt.ylabel('Open')\n",
        "plt.show()"
      ]
    },
    {
      "cell_type": "code",
      "execution_count": null,
      "metadata": {
        "id": "KZ5FoqPDbq-P"
      },
      "outputs": [],
      "source": [
        "import statsmodels.formula.api as smf\n",
        "\n",
        "    # Assuming a quadratic relationship\n",
        "    model = smf.ols('Volume USD ~ Volume BTC + I(Volume BTC**2)', data=df_filtered1).fit()\n",
        "    print(model.summary())"
      ]
    },
    {
      "cell_type": "code",
      "execution_count": null,
      "metadata": {
        "id": "oF2QTRfQezi4"
      },
      "outputs": [],
      "source": [
        "# Create lagged features\n",
        "df_filtered1['Open_Lag1'] = df_filtered1['Open'].shift(1)\n",
        "df_filtered1['High_Lag1'] = df_filtered1['High'].shift(1)\n",
        "df_filtered1['Low_Lag1'] = df_filtered1['Low'].shift(1)\n",
        "df_filtered1['Close_Lag1'] = df_filtered1['Close'].shift(1)"
      ]
    },
    {
      "cell_type": "code",
      "execution_count": null,
      "metadata": {
        "id": "IpM6k8OAe1xk"
      },
      "outputs": [],
      "source": []
    },
    {
      "cell_type": "code",
      "execution_count": null,
      "metadata": {
        "id": "oFrzoltle51y"
      },
      "outputs": [],
      "source": [
        "df_filtered1['Close_MA15'] = df_filtered1['Close'].rolling(window=15).mean()\n",
        "df_filtered1['Close_MA30'] = df_filtered1['Close'].rolling(window=30).mean()\n",
        "df_filtered1['Open_MA15'] = df_filtered1['Open'].rolling(window=15).mean()\n",
        "df_filtered1['Open_MA30'] = df_filtered1['Open'].rolling(window=30).mean()\n",
        "df_filtered1['high_MA15'] = df_filtered1['High'].rolling(window=15).mean()\n",
        "df_filtered1['high_MA30'] = df_filtered1['High'].rolling(window=30).mean()\n",
        "df_filtered1['Low_MA15'] = df_filtered1['Low'].rolling(window=15).mean()\n",
        "df_filtered1['Low_MA15'] = df_filtered1['Low'].rolling(window=30).mean()"
      ]
    },
    {
      "cell_type": "code",
      "execution_count": null,
      "metadata": {
        "id": "b0PyhHsEh5fo"
      },
      "outputs": [],
      "source": [
        "import talib as ta\n",
        "df_filtered1['RSI'] = ta.RSI(np.array(df_filtered1['Close']), timeperiod=14)\n"
      ]
    },
    {
      "cell_type": "code",
      "execution_count": null,
      "metadata": {
        "id": "tn6SCRPNiAYp"
      },
      "outputs": [],
      "source": [
        "\n",
        "df_filtered1['DayOfWeek'] = df_filtered1['unix'].dt.dayofweek"
      ]
    }
  ],
  "metadata": {
    "colab": {
      "provenance": []
    },
    "kernelspec": {
      "display_name": "Python 3",
      "name": "python3"
    },
    "language_info": {
      "name": "python"
    }
  },
  "nbformat": 4,
  "nbformat_minor": 0
}